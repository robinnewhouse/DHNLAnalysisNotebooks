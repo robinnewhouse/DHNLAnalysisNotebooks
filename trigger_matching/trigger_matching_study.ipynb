{
 "metadata": {
  "language_info": {
   "codemirror_mode": {
    "name": "ipython",
    "version": 3
   },
   "file_extension": ".py",
   "mimetype": "text/x-python",
   "name": "python",
   "nbconvert_exporter": "python",
   "pygments_lexer": "ipython3",
   "version": "3.7.9"
  },
  "orig_nbformat": 2,
  "kernelspec": {
   "name": "python379jvsc74a57bd02bd8a6aee1135029be5a191617e7d3f148d064ac39998b0aa8fd711311cd18dd",
   "display_name": "Python"
  },
  "metadata": {
   "interpreter": {
    "hash": "2bd8a6aee1135029be5a191617e7d3f148d064ac39998b0aa8fd711311cd18dd"
   }
  }
 },
 "nbformat": 4,
 "nbformat_minor": 2,
 "cells": [
  {
   "cell_type": "code",
   "execution_count": 1,
   "metadata": {},
   "outputs": [
    {
     "output_type": "stream",
     "name": "stdout",
     "text": [
      "Welcome to JupyROOT 6.22/06\n"
     ]
    },
    {
     "output_type": "execute_result",
     "data": {
      "text/plain": [
       "<module 'plot_util' from '/home/newhouse/public/Analysis/HNL/dhnlanalysisnotebooks/systematics/dhnlplotting/util/plot_util.py'>"
      ]
     },
     "metadata": {},
     "execution_count": 1
    }
   ],
   "source": [
    "import sys\n",
    "sys.path.append('/home/newhouse/public/Analysis/HNL/dhnlanalysisnotebooks/systematics/dhnlplotting/util')\n",
    "\n",
    "import glob\n",
    "import os\n",
    "from plot_base import PlotBase\n",
    "from IPython.display import display, Image\n",
    "import ROOT\n",
    "ROOT.gROOT.SetStyle(\"ATLAS\")\n",
    "from array import array\n",
    "import importlib\n",
    "import plot_base\n",
    "import plot_util\n",
    "import numpy as np\n",
    "importlib.reload(plot_base)\n",
    "importlib.reload(plot_util)\n",
    "\n"
   ]
  },
  {
   "cell_type": "code",
   "execution_count": null,
   "metadata": {},
   "outputs": [],
   "source": []
  }
 ]
}