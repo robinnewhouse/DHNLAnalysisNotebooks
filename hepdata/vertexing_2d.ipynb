{
 "cells": [
  {
   "cell_type": "code",
   "execution_count": null,
   "metadata": {},
   "outputs": [],
   "source": [
    "from hepdata_lib import Submission, Variable, Table\n",
    "\n",
    "sub = Submission()\n",
    "outdir=\"./vertexing/\"\n",
    "\n",
    "\n",
    "selection = Variable(\"Selection\",\n",
    "                is_independent=True,\n",
    "                is_binned=False,\n",
    "                )\n",
    "selection.values = dataframes['10G_10mm_eee']['labels'][:20]\n",
    "\n",
    "table = Table(title)\n",
    "table.add_variable(selection)\n",
    "\n",
    "table.description = f'This cutflow for six simulated signal channels shows the weighted number of expected events. Each column uses the 10 mm, 10 GeV sample. The weights applied correspond to the model: {title}' \n",
    "table.location = 'Data corresponds to Table XXXXXX' \n",
    "table.keywords['phrases'] = ['cutflow', 'efficiency', 'selection']\n",
    "\n",
    "# add dependent variables\n",
    "channels = ['uuu', 'uue', 'uee', 'eee', 'eeu', 'euu']\n",
    "for channel in channels:\n",
    "    efficiency = Variable(channel, is_independent=False, is_binned=False, units='Events')\n",
    "    efficiency.values = dataframes[f'10G_10mm_{channel}'][model][:20]\n",
    "    table.add_variable(efficiency)\n",
    "\n",
    "table.write_output('./cutflows/')\n",
    "\n",
    "sub.add_table(table)\n",
    "\n",
    "sub.create_files(outdir, remove_old=True)\n"
   ]
  }
 ],
 "metadata": {
  "language_info": {
   "name": "python"
  },
  "orig_nbformat": 4
 },
 "nbformat": 4,
 "nbformat_minor": 2
}
