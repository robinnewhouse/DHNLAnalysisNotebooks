{
 "cells": [
  {
   "cell_type": "code",
   "execution_count": 47,
   "metadata": {},
   "outputs": [
    {
     "name": "stdout",
     "output_type": "stream",
     "text": [
      "dict_keys(['x', 'y', 'x_edges', 'y_edges', 'z', 'dz', 'x_labels', 'y_labels'])\n"
     ]
    }
   ],
   "source": [
    "# read stored 2d histogram\n",
    "from hepdata_lib import RootFileReader\n",
    "reader = RootFileReader(\"/home/newhouse/public/Analysis/HNL/dhnlanalysisnotebooks/systematics/vertexing/2dhist.root\")\n",
    "h2d_dict = reader.read_hist_2d('h2')\n",
    "print(h2d_dict.keys())"
   ]
  },
  {
   "cell_type": "code",
   "execution_count": 51,
   "metadata": {},
   "outputs": [
    {
     "name": "stdout",
     "output_type": "stream",
     "text": [
      "Full-size PNG file ./vertexing/vertex_comparison_2D.png is newer than its source file.                        Remove the thumbnail file or use create_files(remove_old=True)                           to force recreation.\n",
      "Thumbnail PNG file ./vertexing/thumb_vertex_comparison_2D.png is newer than its source file.                        Remove the thumbnail file or use create_files(remove_old=True)                           to force recreation.\n"
     ]
    }
   ],
   "source": [
    "from hepdata_lib import Submission, Variable, Table, Uncertainty\n",
    "\n",
    "sub = Submission()\n",
    "outdir=\"./vertexing/\"\n",
    "\n",
    "# make table\n",
    "table = Table('Vertexing uncertainty')\n",
    "\n",
    "# make axes\n",
    "x = Variable(\"r_{DV}\", is_independent=True, is_binned=True)\n",
    "x.units = 'mm'\n",
    "x.values = h2d_dict['x_edges']\n",
    "table.add_variable(x)\n",
    "\n",
    "y = Variable(\"DV p_T\", is_independent=True, is_binned=True)\n",
    "y.units = 'GeV'\n",
    "y.values = h2d_dict['y_edges']\n",
    "table.add_variable(y)\n",
    "\n",
    "# fill with data\n",
    "ratio = Variable('Data/MC Ratio', is_independent=False, is_binned=False, units='')\n",
    "ratio.values = h2d_dict['z']\n",
    "unc1 = Uncertainty(\"Uncertainty\", is_symmetric=True)\n",
    "unc1.values = h2d_dict['dz']\n",
    "ratio.add_uncertainty(unc1)\n",
    "\n",
    "# add variable to table\n",
    "table.add_variable(ratio)\n",
    "table.description = '''The dominant signal uncertainty is due to differences in reconstruction of displaced vertices and tracks between data and MC.  \n",
    "This is evaluated by comparing $K^{0}_{S} \\\\rightarrow \\pi^+\\pi^-$ event yields in the VR and in MC produced with Pythia8.186 in bins of $p_\\mathrm{T}$ and $r_\\mathrm{DV}$.\n",
    "The data/MC ratio is normalized to the bin nearest the IP where the tracking and vertexing reconstruction algorithms are expected to be most robust.\n",
    "The symmetrized difference from 1.0 is applied to each signal vertex as a per-event systematic variation.'''\n",
    "table.location = 'Data corresponds to Figure XXXXXX' \n",
    "table.keywords['phrases'] = ['vertexing', 'systematic', 'kshort']\n",
    "table.add_image('/home/newhouse/public/Analysis/HNL/dhnlanalysisnotebooks/systematics/vertexing/plots/vertex_comparison_2D.png')\n",
    "\n",
    "# write yaml table\n",
    "table.write_output('./vertexing/')\n",
    "sub.add_table(table)\n",
    "\n",
    "# create submission directory and zip\n",
    "sub.create_files(outdir, remove_old=True)\n"
   ]
  }
 ],
 "metadata": {
  "interpreter": {
   "hash": "805a5ba2c5020bee6720168a4ac5eea6e198ac8599887a28b10c6a10ac198bfc"
  },
  "kernelspec": {
   "display_name": "Python 3.7.9 64-bit ('base': conda)",
   "language": "python",
   "name": "python3"
  },
  "language_info": {
   "codemirror_mode": {
    "name": "ipython",
    "version": 3
   },
   "file_extension": ".py",
   "mimetype": "text/x-python",
   "name": "python",
   "nbconvert_exporter": "python",
   "pygments_lexer": "ipython3",
   "version": "3.7.9"
  },
  "orig_nbformat": 4
 },
 "nbformat": 4,
 "nbformat_minor": 2
}
