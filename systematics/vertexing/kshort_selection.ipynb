{
 "cells": [
  {
   "cell_type": "code",
   "execution_count": 2,
   "metadata": {},
   "outputs": [],
   "source": [
    "import uproot\n",
    "import uproot_methods\n",
    "import numpy as np\n",
    "import pandas as pd"
   ]
  },
  {
   "cell_type": "code",
   "execution_count": 3,
   "metadata": {},
   "outputs": [
    {
     "name": "stdout",
     "output_type": "stream",
     "text": [
      "/home/newhouse/miniconda3/bin/python\r\n"
     ]
    }
   ],
   "source": [
    "!which python"
   ]
  },
  {
   "cell_type": "code",
   "execution_count": 29,
   "metadata": {},
   "outputs": [
    {
     "name": "stderr",
     "output_type": "stream",
     "text": [
      "/home/newhouse/miniconda3/lib/python3.7/site-packages/awkward/array/base.py:394: VisibleDeprecationWarning: Creating an ndarray from ragged nested sequences (which is a list-or-tuple of lists-or-tuples-or ndarrays with different lengths or shapes) is deprecated. If you meant to do this, you must specify 'dtype=object' when creating the ndarray.\n",
      "  return cls.numpy.array(value, copy=False)\n"
     ]
    },
    {
     "data": {
      "text/plain": [
       "[b'runNumber',\n",
       " b'eventNumber',\n",
       " b'lumiBlock',\n",
       " b'coreFlags',\n",
       " b'bcid',\n",
       " b'mcEventNumber',\n",
       " b'mcChannelNumber',\n",
       " b'mcEventWeight',\n",
       " b'NPV',\n",
       " b'actualInteractionsPerCrossing',\n",
       " b'averageInteractionsPerCrossing',\n",
       " b'weight_pileup',\n",
       " b'correctedAverageMu',\n",
       " b'correctedAndScaledAverageMu',\n",
       " b'correctedActualMu',\n",
       " b'correctedAndScaledActualMu',\n",
       " b'rand_run_nr',\n",
       " b'rand_lumiblock_nr',\n",
       " b'pdgId1',\n",
       " b'pdgId2',\n",
       " b'pdfId1',\n",
       " b'pdfId2',\n",
       " b'x1',\n",
       " b'x2',\n",
       " b'q',\n",
       " b'xf1',\n",
       " b'xf2',\n",
       " b'weight',\n",
       " b'passesHnlMuMuFilter',\n",
       " b'passesHnlElMuFilter',\n",
       " b'passesHnlElElFilter',\n",
       " b'passesHnlMuElFilter',\n",
       " b'passesVH4bFilter',\n",
       " b'passL1',\n",
       " b'passHLT',\n",
       " b'passedTriggers',\n",
       " b'disabledTriggers',\n",
       " b'nmuon',\n",
       " b'muon_m',\n",
       " b'muon_pt',\n",
       " b'muon_phi',\n",
       " b'muon_eta',\n",
       " b'muon_charge',\n",
       " b'muon_isTrigMatched',\n",
       " b'muon_isTrigMatchedToChain',\n",
       " b'muon_listTrigChains',\n",
       " b'muon_isTight',\n",
       " b'muon_isMedium',\n",
       " b'muon_isLoose',\n",
       " b'muon_trkd0',\n",
       " b'muon_trkd0sig',\n",
       " b'muon_trkz0',\n",
       " b'muon_trkz0sintheta',\n",
       " b'muon_trkphi0',\n",
       " b'muon_trktheta',\n",
       " b'muon_trkcharge',\n",
       " b'muon_trkqOverP',\n",
       " b'muon_EnergyLoss',\n",
       " b'muon_EnergyLossSigma',\n",
       " b'muon_energyLossType',\n",
       " b'muon_MeasEnergyLoss',\n",
       " b'muon_MeasEnergyLossSigma',\n",
       " b'muon_ParamEnergyLoss',\n",
       " b'muon_ParamEnergyLossSigmaMinus',\n",
       " b'muon_ParamEnergyLossSigmaPlus',\n",
       " b'muon_index',\n",
       " b'muon_type',\n",
       " b'muon_passesPromptCuts',\n",
       " b'muon_passesDisplacedCuts',\n",
       " b'muon_px',\n",
       " b'muon_py',\n",
       " b'muon_pz',\n",
       " b'muon_chi2',\n",
       " b'muon_msInnerMatchDOF',\n",
       " b'muon_isLRT',\n",
       " b'muon_myptcone30',\n",
       " b'muon_myptcone30noLRT',\n",
       " b'nel',\n",
       " b'el_m',\n",
       " b'el_pt',\n",
       " b'el_phi',\n",
       " b'el_eta',\n",
       " b'el_caloCluster_eta',\n",
       " b'el_charge',\n",
       " b'el_isTrigMatched',\n",
       " b'el_isTrigMatchedToChain',\n",
       " b'el_listTrigChains',\n",
       " b'el_Loose',\n",
       " b'el_Medium',\n",
       " b'el_Tight',\n",
       " b'el_LHLoose',\n",
       " b'el_LHMedium',\n",
       " b'el_LHTight',\n",
       " b'el_MultiLepton',\n",
       " b'el_trkd0',\n",
       " b'el_trkd0sig',\n",
       " b'el_trkz0',\n",
       " b'el_trkz0sintheta',\n",
       " b'el_trkphi0',\n",
       " b'el_trktheta',\n",
       " b'el_trkcharge',\n",
       " b'el_trkqOverP',\n",
       " b'el_index',\n",
       " b'el_passesPromptCuts',\n",
       " b'el_passesDisplacedCuts',\n",
       " b'el_isLHVeryLoose',\n",
       " b'el_isLHVeryLoose_mod1',\n",
       " b'el_isLHVeryLoose_modSi',\n",
       " b'el_px',\n",
       " b'el_py',\n",
       " b'el_pz',\n",
       " b'vertex_x',\n",
       " b'vertex_y',\n",
       " b'vertex_z',\n",
       " b'nsecVtx_VSI',\n",
       " b'secVtx_VSI_ID',\n",
       " b'secVtx_VSI_x',\n",
       " b'secVtx_VSI_y',\n",
       " b'secVtx_VSI_z',\n",
       " b'secVtx_VSI_r',\n",
       " b'secVtx_VSI_distFromPV',\n",
       " b'secVtx_VSI_Lxy_err',\n",
       " b'secVtx_VSI_Lxy_sig',\n",
       " b'secVtx_VSI_pt',\n",
       " b'secVtx_VSI_eta',\n",
       " b'secVtx_VSI_phi',\n",
       " b'secVtx_VSI_mass',\n",
       " b'secVtx_VSI_mass_nonAssoc',\n",
       " b'secVtx_VSI_covariance',\n",
       " b'secVtx_VSI_chi2',\n",
       " b'secVtx_VSI_direction',\n",
       " b'secVtx_VSI_charge',\n",
       " b'secVtx_VSI_H',\n",
       " b'secVtx_VSI_Ht',\n",
       " b'secVtx_VSI_minOpAng',\n",
       " b'secVtx_VSI_maxOpAng',\n",
       " b'secVtx_VSI_maxDR_wrtSV',\n",
       " b'secVtx_VSI_maxDR',\n",
       " b'secVtx_VSI_mind0',\n",
       " b'secVtx_VSI_maxd0',\n",
       " b'secVtx_VSI_minOneTrackRemovedMass',\n",
       " b'secVtx_VSI_twoTracksMass',\n",
       " b'secVtx_VSI_twoTracksMassRest',\n",
       " b'secVtx_VSI_twoTracksCharge',\n",
       " b'secVtx_VSI_ntrk',\n",
       " b'secVtx_VSI_ntrk_lrt',\n",
       " b'secVtx_VSI_ntrk_sel',\n",
       " b'secVtx_VSI_ntrk_assoc',\n",
       " b'secVtx_VSI_pass_mat',\n",
       " b'secVtx_VSI_trk_ID',\n",
       " b'secVtx_VSI_trk_qOverP',\n",
       " b'secVtx_VSI_trk_theta',\n",
       " b'secVtx_VSI_trk_vz',\n",
       " b'secVtx_VSI_trk_E',\n",
       " b'secVtx_VSI_trk_M',\n",
       " b'secVtx_VSI_trk_pt',\n",
       " b'secVtx_VSI_trk_px',\n",
       " b'secVtx_VSI_trk_py',\n",
       " b'secVtx_VSI_trk_pz',\n",
       " b'secVtx_VSI_trk_eta',\n",
       " b'secVtx_VSI_trk_phi',\n",
       " b'secVtx_VSI_trk_d0',\n",
       " b'secVtx_VSI_trk_z0',\n",
       " b'secVtx_VSI_trk_errd0',\n",
       " b'secVtx_VSI_trk_errz0',\n",
       " b'secVtx_VSI_trk_chi2',\n",
       " b'secVtx_VSI_trk_nDoF',\n",
       " b'secVtx_VSI_trk_pt_wrtSV',\n",
       " b'secVtx_VSI_trk_eta_wrtSV',\n",
       " b'secVtx_VSI_trk_phi_wrtSV',\n",
       " b'secVtx_VSI_trk_d0_wrtSV',\n",
       " b'secVtx_VSI_trk_z0_wrtSV',\n",
       " b'secVtx_VSI_trk_errd0_wrtSV',\n",
       " b'secVtx_VSI_trk_errz0_wrtSV',\n",
       " b'secVtx_VSI_trk_chi2_toSV',\n",
       " b'secVtx_VSI_trk_charge',\n",
       " b'secVtx_VSI_trk_isFinal',\n",
       " b'secVtx_VSI_trk_isSelected',\n",
       " b'secVtx_VSI_trk_isAssociated',\n",
       " b'secVtx_VSI_trk_isLRT',\n",
       " b'secVtx_VSI_trk_electronIndex',\n",
       " b'secVtx_VSI_trk_muonIndex',\n",
       " b'secVtx_VSI_trk_nPixelHits',\n",
       " b'secVtx_VSI_trk_nSCTHits',\n",
       " b'secVtx_VSI_trk_nSCTHoles',\n",
       " b'secVtx_VSI_trk_nTRTHits',\n",
       " b'secVtx_VSI_trk_nPixelBarrelLayers',\n",
       " b'secVtx_VSI_trk_nPixelEndCapLayers',\n",
       " b'secVtx_VSI_trk_nSCTBarrelLayers',\n",
       " b'secVtx_VSI_trk_nSCTEndCapLayers',\n",
       " b'secVtx_VSI_trk_hitPattern',\n",
       " b'secVtx_VSI_trk_dEdx',\n",
       " b'secVtx_VSI_trk_radiusOfFirstHit',\n",
       " b'secVtx_VSI_trk_dTheta',\n",
       " b'secVtx_VSI_trk_truthProb',\n",
       " b'secVtx_VSI_trk_truthID',\n",
       " b'secVtx_VSI_trk_truthBarcode',\n",
       " b'secVtx_VSI_trk_truthPdgId',\n",
       " b'secVtx_VSI_closeTruth_distance',\n",
       " b'secVtx_VSI_closeTruth_ID',\n",
       " b'secVtx_VSI_closeTruth_barcode',\n",
       " b'secVtx_VSI_closestTruth_distance',\n",
       " b'secVtx_VSI_closestTruth_ID',\n",
       " b'secVtx_VSI_closestTruth_x',\n",
       " b'secVtx_VSI_closestTruth_y',\n",
       " b'secVtx_VSI_closestTruth_z',\n",
       " b'secVtx_VSI_closestTruth_r',\n",
       " b'secVtx_VSI_closestTruth_eta',\n",
       " b'secVtx_VSI_closestTruth_phi',\n",
       " b'secVtx_VSI_closestTruth_barcode',\n",
       " b'secVtx_VSI_linkTruth_score',\n",
       " b'secVtx_VSI_linkTruth_ID',\n",
       " b'secVtx_VSI_linkTruth_barcode',\n",
       " b'secVtx_VSI_maxlinkTruth_score',\n",
       " b'secVtx_VSI_maxlinkTruth_ID',\n",
       " b'secVtx_VSI_maxlinkTruth_x',\n",
       " b'secVtx_VSI_maxlinkTruth_y',\n",
       " b'secVtx_VSI_maxlinkTruth_z',\n",
       " b'secVtx_VSI_maxlinkTruth_r',\n",
       " b'secVtx_VSI_maxlinkTruth_eta',\n",
       " b'secVtx_VSI_maxlinkTruth_phi',\n",
       " b'secVtx_VSI_maxlinkTruth_barcode',\n",
       " b'secVtx_VSI_maxlinkTruth_parent_pdgId',\n",
       " b'nsecVtx_VSI_Leptons',\n",
       " b'secVtx_VSI_Leptons_ID',\n",
       " b'secVtx_VSI_Leptons_x',\n",
       " b'secVtx_VSI_Leptons_y',\n",
       " b'secVtx_VSI_Leptons_z',\n",
       " b'secVtx_VSI_Leptons_r',\n",
       " b'secVtx_VSI_Leptons_distFromPV',\n",
       " b'secVtx_VSI_Leptons_Lxy_err',\n",
       " b'secVtx_VSI_Leptons_Lxy_sig',\n",
       " b'secVtx_VSI_Leptons_pt',\n",
       " b'secVtx_VSI_Leptons_eta',\n",
       " b'secVtx_VSI_Leptons_phi',\n",
       " b'secVtx_VSI_Leptons_mass',\n",
       " b'secVtx_VSI_Leptons_mass_nonAssoc',\n",
       " b'secVtx_VSI_Leptons_covariance',\n",
       " b'secVtx_VSI_Leptons_chi2',\n",
       " b'secVtx_VSI_Leptons_direction',\n",
       " b'secVtx_VSI_Leptons_charge',\n",
       " b'secVtx_VSI_Leptons_H',\n",
       " b'secVtx_VSI_Leptons_Ht',\n",
       " b'secVtx_VSI_Leptons_minOpAng',\n",
       " b'secVtx_VSI_Leptons_maxOpAng',\n",
       " b'secVtx_VSI_Leptons_maxDR_wrtSV',\n",
       " b'secVtx_VSI_Leptons_maxDR',\n",
       " b'secVtx_VSI_Leptons_mind0',\n",
       " b'secVtx_VSI_Leptons_maxd0',\n",
       " b'secVtx_VSI_Leptons_minOneTrackRemovedMass',\n",
       " b'secVtx_VSI_Leptons_twoTracksMass',\n",
       " b'secVtx_VSI_Leptons_twoTracksMassRest',\n",
       " b'secVtx_VSI_Leptons_twoTracksCharge',\n",
       " b'secVtx_VSI_Leptons_ntrk',\n",
       " b'secVtx_VSI_Leptons_ntrk_lrt',\n",
       " b'secVtx_VSI_Leptons_ntrk_sel',\n",
       " b'secVtx_VSI_Leptons_ntrk_assoc',\n",
       " b'secVtx_VSI_Leptons_pass_mat',\n",
       " b'secVtx_VSI_Leptons_trk_ID',\n",
       " b'secVtx_VSI_Leptons_trk_qOverP',\n",
       " b'secVtx_VSI_Leptons_trk_theta',\n",
       " b'secVtx_VSI_Leptons_trk_vz',\n",
       " b'secVtx_VSI_Leptons_trk_E',\n",
       " b'secVtx_VSI_Leptons_trk_M',\n",
       " b'secVtx_VSI_Leptons_trk_pt',\n",
       " b'secVtx_VSI_Leptons_trk_px',\n",
       " b'secVtx_VSI_Leptons_trk_py',\n",
       " b'secVtx_VSI_Leptons_trk_pz',\n",
       " b'secVtx_VSI_Leptons_trk_eta',\n",
       " b'secVtx_VSI_Leptons_trk_phi',\n",
       " b'secVtx_VSI_Leptons_trk_d0',\n",
       " b'secVtx_VSI_Leptons_trk_z0',\n",
       " b'secVtx_VSI_Leptons_trk_errd0',\n",
       " b'secVtx_VSI_Leptons_trk_errz0',\n",
       " b'secVtx_VSI_Leptons_trk_chi2',\n",
       " b'secVtx_VSI_Leptons_trk_nDoF',\n",
       " b'secVtx_VSI_Leptons_trk_pt_wrtSV',\n",
       " b'secVtx_VSI_Leptons_trk_eta_wrtSV',\n",
       " b'secVtx_VSI_Leptons_trk_phi_wrtSV',\n",
       " b'secVtx_VSI_Leptons_trk_d0_wrtSV',\n",
       " b'secVtx_VSI_Leptons_trk_z0_wrtSV',\n",
       " b'secVtx_VSI_Leptons_trk_errd0_wrtSV',\n",
       " b'secVtx_VSI_Leptons_trk_errz0_wrtSV',\n",
       " b'secVtx_VSI_Leptons_trk_chi2_toSV',\n",
       " b'secVtx_VSI_Leptons_trk_charge',\n",
       " b'secVtx_VSI_Leptons_trk_isFinal',\n",
       " b'secVtx_VSI_Leptons_trk_isSelected',\n",
       " b'secVtx_VSI_Leptons_trk_isAssociated',\n",
       " b'secVtx_VSI_Leptons_trk_isLRT',\n",
       " b'secVtx_VSI_Leptons_trk_electronIndex',\n",
       " b'secVtx_VSI_Leptons_trk_muonIndex',\n",
       " b'secVtx_VSI_Leptons_trk_nPixelHits',\n",
       " b'secVtx_VSI_Leptons_trk_nSCTHits',\n",
       " b'secVtx_VSI_Leptons_trk_nSCTHoles',\n",
       " b'secVtx_VSI_Leptons_trk_nTRTHits',\n",
       " b'secVtx_VSI_Leptons_trk_nPixelBarrelLayers',\n",
       " b'secVtx_VSI_Leptons_trk_nPixelEndCapLayers',\n",
       " b'secVtx_VSI_Leptons_trk_nSCTBarrelLayers',\n",
       " b'secVtx_VSI_Leptons_trk_nSCTEndCapLayers',\n",
       " b'secVtx_VSI_Leptons_trk_hitPattern',\n",
       " b'secVtx_VSI_Leptons_trk_dEdx',\n",
       " b'secVtx_VSI_Leptons_trk_radiusOfFirstHit',\n",
       " b'secVtx_VSI_Leptons_trk_dTheta',\n",
       " b'secVtx_VSI_Leptons_trk_truthProb',\n",
       " b'secVtx_VSI_Leptons_trk_truthID',\n",
       " b'secVtx_VSI_Leptons_trk_truthBarcode',\n",
       " b'secVtx_VSI_Leptons_trk_truthPdgId',\n",
       " b'secVtx_VSI_Leptons_closeTruth_distance',\n",
       " b'secVtx_VSI_Leptons_closeTruth_ID',\n",
       " b'secVtx_VSI_Leptons_closeTruth_barcode',\n",
       " b'secVtx_VSI_Leptons_closestTruth_distance',\n",
       " b'secVtx_VSI_Leptons_closestTruth_ID',\n",
       " b'secVtx_VSI_Leptons_closestTruth_x',\n",
       " b'secVtx_VSI_Leptons_closestTruth_y',\n",
       " b'secVtx_VSI_Leptons_closestTruth_z',\n",
       " b'secVtx_VSI_Leptons_closestTruth_r',\n",
       " b'secVtx_VSI_Leptons_closestTruth_eta',\n",
       " b'secVtx_VSI_Leptons_closestTruth_phi',\n",
       " b'secVtx_VSI_Leptons_closestTruth_barcode',\n",
       " b'secVtx_VSI_Leptons_linkTruth_score',\n",
       " b'secVtx_VSI_Leptons_linkTruth_ID',\n",
       " b'secVtx_VSI_Leptons_linkTruth_barcode',\n",
       " b'secVtx_VSI_Leptons_maxlinkTruth_score',\n",
       " b'secVtx_VSI_Leptons_maxlinkTruth_ID',\n",
       " b'secVtx_VSI_Leptons_maxlinkTruth_x',\n",
       " b'secVtx_VSI_Leptons_maxlinkTruth_y',\n",
       " b'secVtx_VSI_Leptons_maxlinkTruth_z',\n",
       " b'secVtx_VSI_Leptons_maxlinkTruth_r',\n",
       " b'secVtx_VSI_Leptons_maxlinkTruth_eta',\n",
       " b'secVtx_VSI_Leptons_maxlinkTruth_phi',\n",
       " b'secVtx_VSI_Leptons_maxlinkTruth_barcode',\n",
       " b'secVtx_VSI_Leptons_maxlinkTruth_parent_pdgId',\n",
       " b'nsecVtx_VSI_LRTR3_1p0',\n",
       " b'secVtx_VSI_LRTR3_1p0_ID',\n",
       " b'secVtx_VSI_LRTR3_1p0_x',\n",
       " b'secVtx_VSI_LRTR3_1p0_y',\n",
       " b'secVtx_VSI_LRTR3_1p0_z',\n",
       " b'secVtx_VSI_LRTR3_1p0_r',\n",
       " b'secVtx_VSI_LRTR3_1p0_distFromPV',\n",
       " b'secVtx_VSI_LRTR3_1p0_Lxy_err',\n",
       " b'secVtx_VSI_LRTR3_1p0_Lxy_sig',\n",
       " b'secVtx_VSI_LRTR3_1p0_pt',\n",
       " b'secVtx_VSI_LRTR3_1p0_eta',\n",
       " b'secVtx_VSI_LRTR3_1p0_phi',\n",
       " b'secVtx_VSI_LRTR3_1p0_mass',\n",
       " b'secVtx_VSI_LRTR3_1p0_mass_nonAssoc',\n",
       " b'secVtx_VSI_LRTR3_1p0_covariance',\n",
       " b'secVtx_VSI_LRTR3_1p0_chi2',\n",
       " b'secVtx_VSI_LRTR3_1p0_direction',\n",
       " b'secVtx_VSI_LRTR3_1p0_charge',\n",
       " b'secVtx_VSI_LRTR3_1p0_H',\n",
       " b'secVtx_VSI_LRTR3_1p0_Ht',\n",
       " b'secVtx_VSI_LRTR3_1p0_minOpAng',\n",
       " b'secVtx_VSI_LRTR3_1p0_maxOpAng',\n",
       " b'secVtx_VSI_LRTR3_1p0_maxDR_wrtSV',\n",
       " b'secVtx_VSI_LRTR3_1p0_maxDR',\n",
       " b'secVtx_VSI_LRTR3_1p0_mind0',\n",
       " b'secVtx_VSI_LRTR3_1p0_maxd0',\n",
       " b'secVtx_VSI_LRTR3_1p0_minOneTrackRemovedMass',\n",
       " b'secVtx_VSI_LRTR3_1p0_twoTracksMass',\n",
       " b'secVtx_VSI_LRTR3_1p0_twoTracksMassRest',\n",
       " b'secVtx_VSI_LRTR3_1p0_twoTracksCharge',\n",
       " b'secVtx_VSI_LRTR3_1p0_ntrk',\n",
       " b'secVtx_VSI_LRTR3_1p0_ntrk_lrt',\n",
       " b'secVtx_VSI_LRTR3_1p0_ntrk_sel',\n",
       " b'secVtx_VSI_LRTR3_1p0_ntrk_assoc',\n",
       " b'secVtx_VSI_LRTR3_1p0_pass_mat',\n",
       " b'secVtx_VSI_LRTR3_1p0_trk_ID',\n",
       " b'secVtx_VSI_LRTR3_1p0_trk_qOverP',\n",
       " b'secVtx_VSI_LRTR3_1p0_trk_theta',\n",
       " b'secVtx_VSI_LRTR3_1p0_trk_vz',\n",
       " b'secVtx_VSI_LRTR3_1p0_trk_E',\n",
       " b'secVtx_VSI_LRTR3_1p0_trk_M',\n",
       " b'secVtx_VSI_LRTR3_1p0_trk_pt',\n",
       " b'secVtx_VSI_LRTR3_1p0_trk_px',\n",
       " b'secVtx_VSI_LRTR3_1p0_trk_py',\n",
       " b'secVtx_VSI_LRTR3_1p0_trk_pz',\n",
       " b'secVtx_VSI_LRTR3_1p0_trk_eta',\n",
       " b'secVtx_VSI_LRTR3_1p0_trk_phi',\n",
       " b'secVtx_VSI_LRTR3_1p0_trk_d0',\n",
       " b'secVtx_VSI_LRTR3_1p0_trk_z0',\n",
       " b'secVtx_VSI_LRTR3_1p0_trk_errd0',\n",
       " b'secVtx_VSI_LRTR3_1p0_trk_errz0',\n",
       " b'secVtx_VSI_LRTR3_1p0_trk_chi2',\n",
       " b'secVtx_VSI_LRTR3_1p0_trk_nDoF',\n",
       " b'secVtx_VSI_LRTR3_1p0_trk_pt_wrtSV',\n",
       " b'secVtx_VSI_LRTR3_1p0_trk_eta_wrtSV',\n",
       " b'secVtx_VSI_LRTR3_1p0_trk_phi_wrtSV',\n",
       " b'secVtx_VSI_LRTR3_1p0_trk_d0_wrtSV',\n",
       " b'secVtx_VSI_LRTR3_1p0_trk_z0_wrtSV',\n",
       " b'secVtx_VSI_LRTR3_1p0_trk_errd0_wrtSV',\n",
       " b'secVtx_VSI_LRTR3_1p0_trk_errz0_wrtSV',\n",
       " b'secVtx_VSI_LRTR3_1p0_trk_chi2_toSV',\n",
       " b'secVtx_VSI_LRTR3_1p0_trk_charge',\n",
       " b'secVtx_VSI_LRTR3_1p0_trk_isFinal',\n",
       " b'secVtx_VSI_LRTR3_1p0_trk_isSelected',\n",
       " b'secVtx_VSI_LRTR3_1p0_trk_isAssociated',\n",
       " b'secVtx_VSI_LRTR3_1p0_trk_isLRT',\n",
       " b'secVtx_VSI_LRTR3_1p0_trk_electronIndex',\n",
       " b'secVtx_VSI_LRTR3_1p0_trk_muonIndex',\n",
       " b'secVtx_VSI_LRTR3_1p0_trk_nPixelHits',\n",
       " b'secVtx_VSI_LRTR3_1p0_trk_nSCTHits',\n",
       " b'secVtx_VSI_LRTR3_1p0_trk_nSCTHoles',\n",
       " b'secVtx_VSI_LRTR3_1p0_trk_nTRTHits',\n",
       " b'secVtx_VSI_LRTR3_1p0_trk_nPixelBarrelLayers',\n",
       " b'secVtx_VSI_LRTR3_1p0_trk_nPixelEndCapLayers',\n",
       " b'secVtx_VSI_LRTR3_1p0_trk_nSCTBarrelLayers',\n",
       " b'secVtx_VSI_LRTR3_1p0_trk_nSCTEndCapLayers',\n",
       " b'secVtx_VSI_LRTR3_1p0_trk_hitPattern',\n",
       " b'secVtx_VSI_LRTR3_1p0_trk_dEdx',\n",
       " b'secVtx_VSI_LRTR3_1p0_trk_radiusOfFirstHit',\n",
       " b'secVtx_VSI_LRTR3_1p0_trk_dTheta',\n",
       " b'secVtx_VSI_LRTR3_1p0_trk_truthProb',\n",
       " b'secVtx_VSI_LRTR3_1p0_trk_truthID',\n",
       " b'secVtx_VSI_LRTR3_1p0_trk_truthBarcode',\n",
       " b'secVtx_VSI_LRTR3_1p0_trk_truthPdgId',\n",
       " b'secVtx_VSI_LRTR3_1p0_closeTruth_distance',\n",
       " b'secVtx_VSI_LRTR3_1p0_closeTruth_ID',\n",
       " b'secVtx_VSI_LRTR3_1p0_closeTruth_barcode',\n",
       " b'secVtx_VSI_LRTR3_1p0_closestTruth_distance',\n",
       " b'secVtx_VSI_LRTR3_1p0_closestTruth_ID',\n",
       " b'secVtx_VSI_LRTR3_1p0_closestTruth_x',\n",
       " b'secVtx_VSI_LRTR3_1p0_closestTruth_y',\n",
       " b'secVtx_VSI_LRTR3_1p0_closestTruth_z',\n",
       " b'secVtx_VSI_LRTR3_1p0_closestTruth_r',\n",
       " b'secVtx_VSI_LRTR3_1p0_closestTruth_eta',\n",
       " b'secVtx_VSI_LRTR3_1p0_closestTruth_phi',\n",
       " b'secVtx_VSI_LRTR3_1p0_closestTruth_barcode',\n",
       " b'secVtx_VSI_LRTR3_1p0_linkTruth_score',\n",
       " b'secVtx_VSI_LRTR3_1p0_linkTruth_ID',\n",
       " b'secVtx_VSI_LRTR3_1p0_linkTruth_barcode',\n",
       " b'secVtx_VSI_LRTR3_1p0_maxlinkTruth_score',\n",
       " b'secVtx_VSI_LRTR3_1p0_maxlinkTruth_ID',\n",
       " b'secVtx_VSI_LRTR3_1p0_maxlinkTruth_x',\n",
       " b'secVtx_VSI_LRTR3_1p0_maxlinkTruth_y',\n",
       " b'secVtx_VSI_LRTR3_1p0_maxlinkTruth_z',\n",
       " b'secVtx_VSI_LRTR3_1p0_maxlinkTruth_r',\n",
       " b'secVtx_VSI_LRTR3_1p0_maxlinkTruth_eta',\n",
       " b'secVtx_VSI_LRTR3_1p0_maxlinkTruth_phi',\n",
       " b'secVtx_VSI_LRTR3_1p0_maxlinkTruth_barcode',\n",
       " b'secVtx_VSI_LRTR3_1p0_maxlinkTruth_parent_pdgId',\n",
       " b'nsecVtx_VSI_Leptons_LRTR3_1p0',\n",
       " b'secVtx_VSI_Leptons_LRTR3_1p0_ID',\n",
       " b'secVtx_VSI_Leptons_LRTR3_1p0_x',\n",
       " b'secVtx_VSI_Leptons_LRTR3_1p0_y',\n",
       " b'secVtx_VSI_Leptons_LRTR3_1p0_z',\n",
       " b'secVtx_VSI_Leptons_LRTR3_1p0_r',\n",
       " b'secVtx_VSI_Leptons_LRTR3_1p0_distFromPV',\n",
       " b'secVtx_VSI_Leptons_LRTR3_1p0_Lxy_err',\n",
       " b'secVtx_VSI_Leptons_LRTR3_1p0_Lxy_sig',\n",
       " b'secVtx_VSI_Leptons_LRTR3_1p0_pt',\n",
       " b'secVtx_VSI_Leptons_LRTR3_1p0_eta',\n",
       " b'secVtx_VSI_Leptons_LRTR3_1p0_phi',\n",
       " b'secVtx_VSI_Leptons_LRTR3_1p0_mass',\n",
       " b'secVtx_VSI_Leptons_LRTR3_1p0_mass_nonAssoc',\n",
       " b'secVtx_VSI_Leptons_LRTR3_1p0_covariance',\n",
       " b'secVtx_VSI_Leptons_LRTR3_1p0_chi2',\n",
       " b'secVtx_VSI_Leptons_LRTR3_1p0_direction',\n",
       " b'secVtx_VSI_Leptons_LRTR3_1p0_charge',\n",
       " b'secVtx_VSI_Leptons_LRTR3_1p0_H',\n",
       " b'secVtx_VSI_Leptons_LRTR3_1p0_Ht',\n",
       " b'secVtx_VSI_Leptons_LRTR3_1p0_minOpAng',\n",
       " b'secVtx_VSI_Leptons_LRTR3_1p0_maxOpAng',\n",
       " b'secVtx_VSI_Leptons_LRTR3_1p0_maxDR_wrtSV',\n",
       " b'secVtx_VSI_Leptons_LRTR3_1p0_maxDR',\n",
       " b'secVtx_VSI_Leptons_LRTR3_1p0_mind0',\n",
       " b'secVtx_VSI_Leptons_LRTR3_1p0_maxd0',\n",
       " b'secVtx_VSI_Leptons_LRTR3_1p0_minOneTrackRemovedMass',\n",
       " b'secVtx_VSI_Leptons_LRTR3_1p0_twoTracksMass',\n",
       " b'secVtx_VSI_Leptons_LRTR3_1p0_twoTracksMassRest',\n",
       " b'secVtx_VSI_Leptons_LRTR3_1p0_twoTracksCharge',\n",
       " b'secVtx_VSI_Leptons_LRTR3_1p0_ntrk',\n",
       " b'secVtx_VSI_Leptons_LRTR3_1p0_ntrk_lrt',\n",
       " b'secVtx_VSI_Leptons_LRTR3_1p0_ntrk_sel',\n",
       " b'secVtx_VSI_Leptons_LRTR3_1p0_ntrk_assoc',\n",
       " b'secVtx_VSI_Leptons_LRTR3_1p0_pass_mat',\n",
       " b'secVtx_VSI_Leptons_LRTR3_1p0_trk_ID',\n",
       " b'secVtx_VSI_Leptons_LRTR3_1p0_trk_qOverP',\n",
       " b'secVtx_VSI_Leptons_LRTR3_1p0_trk_theta',\n",
       " b'secVtx_VSI_Leptons_LRTR3_1p0_trk_vz',\n",
       " b'secVtx_VSI_Leptons_LRTR3_1p0_trk_E',\n",
       " b'secVtx_VSI_Leptons_LRTR3_1p0_trk_M',\n",
       " b'secVtx_VSI_Leptons_LRTR3_1p0_trk_pt',\n",
       " b'secVtx_VSI_Leptons_LRTR3_1p0_trk_px',\n",
       " b'secVtx_VSI_Leptons_LRTR3_1p0_trk_py',\n",
       " b'secVtx_VSI_Leptons_LRTR3_1p0_trk_pz',\n",
       " b'secVtx_VSI_Leptons_LRTR3_1p0_trk_eta',\n",
       " b'secVtx_VSI_Leptons_LRTR3_1p0_trk_phi',\n",
       " b'secVtx_VSI_Leptons_LRTR3_1p0_trk_d0',\n",
       " b'secVtx_VSI_Leptons_LRTR3_1p0_trk_z0',\n",
       " b'secVtx_VSI_Leptons_LRTR3_1p0_trk_errd0',\n",
       " b'secVtx_VSI_Leptons_LRTR3_1p0_trk_errz0',\n",
       " b'secVtx_VSI_Leptons_LRTR3_1p0_trk_chi2',\n",
       " b'secVtx_VSI_Leptons_LRTR3_1p0_trk_nDoF',\n",
       " b'secVtx_VSI_Leptons_LRTR3_1p0_trk_pt_wrtSV',\n",
       " b'secVtx_VSI_Leptons_LRTR3_1p0_trk_eta_wrtSV',\n",
       " b'secVtx_VSI_Leptons_LRTR3_1p0_trk_phi_wrtSV',\n",
       " b'secVtx_VSI_Leptons_LRTR3_1p0_trk_d0_wrtSV',\n",
       " b'secVtx_VSI_Leptons_LRTR3_1p0_trk_z0_wrtSV',\n",
       " b'secVtx_VSI_Leptons_LRTR3_1p0_trk_errd0_wrtSV',\n",
       " b'secVtx_VSI_Leptons_LRTR3_1p0_trk_errz0_wrtSV',\n",
       " b'secVtx_VSI_Leptons_LRTR3_1p0_trk_chi2_toSV',\n",
       " b'secVtx_VSI_Leptons_LRTR3_1p0_trk_charge',\n",
       " b'secVtx_VSI_Leptons_LRTR3_1p0_trk_isFinal',\n",
       " b'secVtx_VSI_Leptons_LRTR3_1p0_trk_isSelected',\n",
       " b'secVtx_VSI_Leptons_LRTR3_1p0_trk_isAssociated',\n",
       " b'secVtx_VSI_Leptons_LRTR3_1p0_trk_isLRT',\n",
       " b'secVtx_VSI_Leptons_LRTR3_1p0_trk_electronIndex',\n",
       " b'secVtx_VSI_Leptons_LRTR3_1p0_trk_muonIndex',\n",
       " b'secVtx_VSI_Leptons_LRTR3_1p0_trk_nPixelHits',\n",
       " b'secVtx_VSI_Leptons_LRTR3_1p0_trk_nSCTHits',\n",
       " b'secVtx_VSI_Leptons_LRTR3_1p0_trk_nSCTHoles',\n",
       " b'secVtx_VSI_Leptons_LRTR3_1p0_trk_nTRTHits',\n",
       " b'secVtx_VSI_Leptons_LRTR3_1p0_trk_nPixelBarrelLayers',\n",
       " b'secVtx_VSI_Leptons_LRTR3_1p0_trk_nPixelEndCapLayers',\n",
       " b'secVtx_VSI_Leptons_LRTR3_1p0_trk_nSCTBarrelLayers',\n",
       " b'secVtx_VSI_Leptons_LRTR3_1p0_trk_nSCTEndCapLayers',\n",
       " b'secVtx_VSI_Leptons_LRTR3_1p0_trk_hitPattern',\n",
       " b'secVtx_VSI_Leptons_LRTR3_1p0_trk_dEdx',\n",
       " b'secVtx_VSI_Leptons_LRTR3_1p0_trk_radiusOfFirstHit',\n",
       " b'secVtx_VSI_Leptons_LRTR3_1p0_trk_dTheta',\n",
       " b'secVtx_VSI_Leptons_LRTR3_1p0_trk_truthProb',\n",
       " b'secVtx_VSI_Leptons_LRTR3_1p0_trk_truthID',\n",
       " b'secVtx_VSI_Leptons_LRTR3_1p0_trk_truthBarcode',\n",
       " b'secVtx_VSI_Leptons_LRTR3_1p0_trk_truthPdgId',\n",
       " b'secVtx_VSI_Leptons_LRTR3_1p0_closeTruth_distance',\n",
       " b'secVtx_VSI_Leptons_LRTR3_1p0_closeTruth_ID',\n",
       " b'secVtx_VSI_Leptons_LRTR3_1p0_closeTruth_barcode',\n",
       " b'secVtx_VSI_Leptons_LRTR3_1p0_closestTruth_distance',\n",
       " b'secVtx_VSI_Leptons_LRTR3_1p0_closestTruth_ID',\n",
       " b'secVtx_VSI_Leptons_LRTR3_1p0_closestTruth_x',\n",
       " b'secVtx_VSI_Leptons_LRTR3_1p0_closestTruth_y',\n",
       " b'secVtx_VSI_Leptons_LRTR3_1p0_closestTruth_z',\n",
       " b'secVtx_VSI_Leptons_LRTR3_1p0_closestTruth_r',\n",
       " b'secVtx_VSI_Leptons_LRTR3_1p0_closestTruth_eta',\n",
       " b'secVtx_VSI_Leptons_LRTR3_1p0_closestTruth_phi',\n",
       " b'secVtx_VSI_Leptons_LRTR3_1p0_closestTruth_barcode',\n",
       " b'secVtx_VSI_Leptons_LRTR3_1p0_linkTruth_score',\n",
       " b'secVtx_VSI_Leptons_LRTR3_1p0_linkTruth_ID',\n",
       " b'secVtx_VSI_Leptons_LRTR3_1p0_linkTruth_barcode',\n",
       " b'secVtx_VSI_Leptons_LRTR3_1p0_maxlinkTruth_score',\n",
       " b'secVtx_VSI_Leptons_LRTR3_1p0_maxlinkTruth_ID',\n",
       " b'secVtx_VSI_Leptons_LRTR3_1p0_maxlinkTruth_x',\n",
       " b'secVtx_VSI_Leptons_LRTR3_1p0_maxlinkTruth_y',\n",
       " b'secVtx_VSI_Leptons_LRTR3_1p0_maxlinkTruth_z',\n",
       " b'secVtx_VSI_Leptons_LRTR3_1p0_maxlinkTruth_r',\n",
       " b'secVtx_VSI_Leptons_LRTR3_1p0_maxlinkTruth_eta',\n",
       " b'secVtx_VSI_Leptons_LRTR3_1p0_maxlinkTruth_phi',\n",
       " b'secVtx_VSI_Leptons_LRTR3_1p0_maxlinkTruth_barcode',\n",
       " b'secVtx_VSI_Leptons_LRTR3_1p0_maxlinkTruth_parent_pdgId',\n",
       " b'nsecVtx_VSI_LeptonsMod_LRTR3_1p0',\n",
       " b'secVtx_VSI_LeptonsMod_LRTR3_1p0_ID',\n",
       " b'secVtx_VSI_LeptonsMod_LRTR3_1p0_x',\n",
       " b'secVtx_VSI_LeptonsMod_LRTR3_1p0_y',\n",
       " b'secVtx_VSI_LeptonsMod_LRTR3_1p0_z',\n",
       " b'secVtx_VSI_LeptonsMod_LRTR3_1p0_r',\n",
       " b'secVtx_VSI_LeptonsMod_LRTR3_1p0_distFromPV',\n",
       " b'secVtx_VSI_LeptonsMod_LRTR3_1p0_Lxy_err',\n",
       " b'secVtx_VSI_LeptonsMod_LRTR3_1p0_Lxy_sig',\n",
       " b'secVtx_VSI_LeptonsMod_LRTR3_1p0_pt',\n",
       " b'secVtx_VSI_LeptonsMod_LRTR3_1p0_eta',\n",
       " b'secVtx_VSI_LeptonsMod_LRTR3_1p0_phi',\n",
       " b'secVtx_VSI_LeptonsMod_LRTR3_1p0_mass',\n",
       " b'secVtx_VSI_LeptonsMod_LRTR3_1p0_mass_nonAssoc',\n",
       " b'secVtx_VSI_LeptonsMod_LRTR3_1p0_covariance',\n",
       " b'secVtx_VSI_LeptonsMod_LRTR3_1p0_chi2',\n",
       " b'secVtx_VSI_LeptonsMod_LRTR3_1p0_direction',\n",
       " b'secVtx_VSI_LeptonsMod_LRTR3_1p0_charge',\n",
       " b'secVtx_VSI_LeptonsMod_LRTR3_1p0_H',\n",
       " b'secVtx_VSI_LeptonsMod_LRTR3_1p0_Ht',\n",
       " b'secVtx_VSI_LeptonsMod_LRTR3_1p0_minOpAng',\n",
       " b'secVtx_VSI_LeptonsMod_LRTR3_1p0_maxOpAng',\n",
       " b'secVtx_VSI_LeptonsMod_LRTR3_1p0_maxDR_wrtSV',\n",
       " b'secVtx_VSI_LeptonsMod_LRTR3_1p0_maxDR',\n",
       " b'secVtx_VSI_LeptonsMod_LRTR3_1p0_mind0',\n",
       " b'secVtx_VSI_LeptonsMod_LRTR3_1p0_maxd0',\n",
       " b'secVtx_VSI_LeptonsMod_LRTR3_1p0_minOneTrackRemovedMass',\n",
       " b'secVtx_VSI_LeptonsMod_LRTR3_1p0_twoTracksMass',\n",
       " b'secVtx_VSI_LeptonsMod_LRTR3_1p0_twoTracksMassRest',\n",
       " b'secVtx_VSI_LeptonsMod_LRTR3_1p0_twoTracksCharge',\n",
       " b'secVtx_VSI_LeptonsMod_LRTR3_1p0_ntrk',\n",
       " b'secVtx_VSI_LeptonsMod_LRTR3_1p0_ntrk_lrt',\n",
       " b'secVtx_VSI_LeptonsMod_LRTR3_1p0_ntrk_sel',\n",
       " b'secVtx_VSI_LeptonsMod_LRTR3_1p0_ntrk_assoc',\n",
       " b'secVtx_VSI_LeptonsMod_LRTR3_1p0_pass_mat',\n",
       " b'secVtx_VSI_LeptonsMod_LRTR3_1p0_trk_ID',\n",
       " b'secVtx_VSI_LeptonsMod_LRTR3_1p0_trk_qOverP',\n",
       " b'secVtx_VSI_LeptonsMod_LRTR3_1p0_trk_theta',\n",
       " b'secVtx_VSI_LeptonsMod_LRTR3_1p0_trk_vz',\n",
       " b'secVtx_VSI_LeptonsMod_LRTR3_1p0_trk_E',\n",
       " b'secVtx_VSI_LeptonsMod_LRTR3_1p0_trk_M',\n",
       " b'secVtx_VSI_LeptonsMod_LRTR3_1p0_trk_pt',\n",
       " b'secVtx_VSI_LeptonsMod_LRTR3_1p0_trk_px',\n",
       " b'secVtx_VSI_LeptonsMod_LRTR3_1p0_trk_py',\n",
       " b'secVtx_VSI_LeptonsMod_LRTR3_1p0_trk_pz',\n",
       " b'secVtx_VSI_LeptonsMod_LRTR3_1p0_trk_eta',\n",
       " b'secVtx_VSI_LeptonsMod_LRTR3_1p0_trk_phi',\n",
       " b'secVtx_VSI_LeptonsMod_LRTR3_1p0_trk_d0',\n",
       " b'secVtx_VSI_LeptonsMod_LRTR3_1p0_trk_z0',\n",
       " b'secVtx_VSI_LeptonsMod_LRTR3_1p0_trk_errd0',\n",
       " b'secVtx_VSI_LeptonsMod_LRTR3_1p0_trk_errz0',\n",
       " b'secVtx_VSI_LeptonsMod_LRTR3_1p0_trk_chi2',\n",
       " b'secVtx_VSI_LeptonsMod_LRTR3_1p0_trk_nDoF',\n",
       " b'secVtx_VSI_LeptonsMod_LRTR3_1p0_trk_pt_wrtSV',\n",
       " b'secVtx_VSI_LeptonsMod_LRTR3_1p0_trk_eta_wrtSV',\n",
       " b'secVtx_VSI_LeptonsMod_LRTR3_1p0_trk_phi_wrtSV',\n",
       " b'secVtx_VSI_LeptonsMod_LRTR3_1p0_trk_d0_wrtSV',\n",
       " b'secVtx_VSI_LeptonsMod_LRTR3_1p0_trk_z0_wrtSV',\n",
       " b'secVtx_VSI_LeptonsMod_LRTR3_1p0_trk_errd0_wrtSV',\n",
       " b'secVtx_VSI_LeptonsMod_LRTR3_1p0_trk_errz0_wrtSV',\n",
       " b'secVtx_VSI_LeptonsMod_LRTR3_1p0_trk_chi2_toSV',\n",
       " b'secVtx_VSI_LeptonsMod_LRTR3_1p0_trk_charge',\n",
       " b'secVtx_VSI_LeptonsMod_LRTR3_1p0_trk_isFinal',\n",
       " b'secVtx_VSI_LeptonsMod_LRTR3_1p0_trk_isSelected',\n",
       " b'secVtx_VSI_LeptonsMod_LRTR3_1p0_trk_isAssociated',\n",
       " b'secVtx_VSI_LeptonsMod_LRTR3_1p0_trk_isLRT',\n",
       " b'secVtx_VSI_LeptonsMod_LRTR3_1p0_trk_electronIndex',\n",
       " b'secVtx_VSI_LeptonsMod_LRTR3_1p0_trk_muonIndex',\n",
       " b'secVtx_VSI_LeptonsMod_LRTR3_1p0_trk_nPixelHits',\n",
       " b'secVtx_VSI_LeptonsMod_LRTR3_1p0_trk_nSCTHits',\n",
       " b'secVtx_VSI_LeptonsMod_LRTR3_1p0_trk_nSCTHoles',\n",
       " b'secVtx_VSI_LeptonsMod_LRTR3_1p0_trk_nTRTHits',\n",
       " b'secVtx_VSI_LeptonsMod_LRTR3_1p0_trk_nPixelBarrelLayers',\n",
       " b'secVtx_VSI_LeptonsMod_LRTR3_1p0_trk_nPixelEndCapLayers',\n",
       " b'secVtx_VSI_LeptonsMod_LRTR3_1p0_trk_nSCTBarrelLayers',\n",
       " b'secVtx_VSI_LeptonsMod_LRTR3_1p0_trk_nSCTEndCapLayers',\n",
       " b'secVtx_VSI_LeptonsMod_LRTR3_1p0_trk_hitPattern',\n",
       " b'secVtx_VSI_LeptonsMod_LRTR3_1p0_trk_dEdx',\n",
       " b'secVtx_VSI_LeptonsMod_LRTR3_1p0_trk_radiusOfFirstHit',\n",
       " b'secVtx_VSI_LeptonsMod_LRTR3_1p0_trk_dTheta',\n",
       " b'secVtx_VSI_LeptonsMod_LRTR3_1p0_trk_truthProb',\n",
       " b'secVtx_VSI_LeptonsMod_LRTR3_1p0_trk_truthID',\n",
       " b'secVtx_VSI_LeptonsMod_LRTR3_1p0_trk_truthBarcode',\n",
       " b'secVtx_VSI_LeptonsMod_LRTR3_1p0_trk_truthPdgId',\n",
       " b'secVtx_VSI_LeptonsMod_LRTR3_1p0_closeTruth_distance',\n",
       " b'secVtx_VSI_LeptonsMod_LRTR3_1p0_closeTruth_ID',\n",
       " b'secVtx_VSI_LeptonsMod_LRTR3_1p0_closeTruth_barcode',\n",
       " b'secVtx_VSI_LeptonsMod_LRTR3_1p0_closestTruth_distance',\n",
       " b'secVtx_VSI_LeptonsMod_LRTR3_1p0_closestTruth_ID',\n",
       " b'secVtx_VSI_LeptonsMod_LRTR3_1p0_closestTruth_x',\n",
       " b'secVtx_VSI_LeptonsMod_LRTR3_1p0_closestTruth_y',\n",
       " b'secVtx_VSI_LeptonsMod_LRTR3_1p0_closestTruth_z',\n",
       " b'secVtx_VSI_LeptonsMod_LRTR3_1p0_closestTruth_r',\n",
       " b'secVtx_VSI_LeptonsMod_LRTR3_1p0_closestTruth_eta',\n",
       " b'secVtx_VSI_LeptonsMod_LRTR3_1p0_closestTruth_phi',\n",
       " b'secVtx_VSI_LeptonsMod_LRTR3_1p0_closestTruth_barcode',\n",
       " b'secVtx_VSI_LeptonsMod_LRTR3_1p0_linkTruth_score',\n",
       " b'secVtx_VSI_LeptonsMod_LRTR3_1p0_linkTruth_ID',\n",
       " b'secVtx_VSI_LeptonsMod_LRTR3_1p0_linkTruth_barcode',\n",
       " b'secVtx_VSI_LeptonsMod_LRTR3_1p0_maxlinkTruth_score',\n",
       " b'secVtx_VSI_LeptonsMod_LRTR3_1p0_maxlinkTruth_ID',\n",
       " b'secVtx_VSI_LeptonsMod_LRTR3_1p0_maxlinkTruth_x',\n",
       " b'secVtx_VSI_LeptonsMod_LRTR3_1p0_maxlinkTruth_y',\n",
       " b'secVtx_VSI_LeptonsMod_LRTR3_1p0_maxlinkTruth_z',\n",
       " b'secVtx_VSI_LeptonsMod_LRTR3_1p0_maxlinkTruth_r',\n",
       " b'secVtx_VSI_LeptonsMod_LRTR3_1p0_maxlinkTruth_eta',\n",
       " b'secVtx_VSI_LeptonsMod_LRTR3_1p0_maxlinkTruth_phi',\n",
       " b'secVtx_VSI_LeptonsMod_LRTR3_1p0_maxlinkTruth_barcode',\n",
       " b'secVtx_VSI_LeptonsMod_LRTR3_1p0_maxlinkTruth_parent_pdgId',\n",
       " b'nxAH_truth',\n",
       " b'xAH_truth_pdgId',\n",
       " b'xAH_truth_status',\n",
       " b'xAH_truth_barcode',\n",
       " b'ntruthVtx',\n",
       " b'truthVtx_ID',\n",
       " b'truthVtx_x',\n",
       " b'truthVtx_y',\n",
       " b'truthVtx_z',\n",
       " b'truthVtx_r',\n",
       " b'truthVtx_eta',\n",
       " b'truthVtx_phi',\n",
       " b'truthVtx_nOutP',\n",
       " b'truthVtx_barcode',\n",
       " b'truthVtx_parent_ID',\n",
       " b'truthVtx_parent_pt',\n",
       " b'truthVtx_parent_eta',\n",
       " b'truthVtx_parent_phi',\n",
       " b'truthVtx_parent_E',\n",
       " b'truthVtx_parent_M',\n",
       " b'truthVtx_parent_charge',\n",
       " b'truthVtx_parent_pdgId',\n",
       " b'truthVtx_parent_status',\n",
       " b'truthVtx_parent_barcode',\n",
       " b'truthVtx_parent_prod_ID',\n",
       " b'truthVtx_parent_prod_x',\n",
       " b'truthVtx_parent_prod_y',\n",
       " b'truthVtx_parent_prod_z',\n",
       " b'truthVtx_parent_prod_r',\n",
       " b'truthVtx_parent_prod_eta',\n",
       " b'truthVtx_parent_prod_phi',\n",
       " b'truthVtx_parent_prod_barcode',\n",
       " b'truthVtx_outP_ID',\n",
       " b'truthVtx_outP_pt',\n",
       " b'truthVtx_outP_eta',\n",
       " b'truthVtx_outP_phi',\n",
       " b'truthVtx_outP_E',\n",
       " b'truthVtx_outP_M',\n",
       " b'truthVtx_outP_charge',\n",
       " b'truthVtx_outP_pdgId',\n",
       " b'truthVtx_outP_status',\n",
       " b'truthVtx_outP_barcode',\n",
       " b'truthVtx_outP_isReco',\n",
       " b'truthVtx_outP_recoProb',\n",
       " b'truthVtx_outP_recoID',\n",
       " b'truthVtx_outP_recoIsSelected',\n",
       " b'truthVtx_outP_recoIsAssociated',\n",
       " b'truthVtx_outP_isStable',\n",
       " b'truthVtx_outP_isInteracting',\n",
       " b'truthVtx_outP_isReconstructible',\n",
       " b'truthVtx_nReconstructableDaughters',\n",
       " b'truthVtx_nReconstructedDaughters_total',\n",
       " b'truthVtx_nReconstructedDaughters_selected',\n",
       " b'truthVtx_closeRecoVtx_ID',\n",
       " b'truthVtx_closeRecoVtx_distance',\n",
       " b'truthVtx_closestRecoVtx_ID',\n",
       " b'truthVtx_closestRecoVtx_distance',\n",
       " b'truthVtx_linkedRecoVtx_ID',\n",
       " b'truthVtx_linkedRecoVtx_score',\n",
       " b'truthVtx_maxlinkedRecoVtx_ID',\n",
       " b'truthVtx_maxlinkedRecoVtx_score']"
      ]
     },
     "execution_count": 29,
     "metadata": {},
     "output_type": "execute_result"
    }
   ],
   "source": [
    "f = uproot.open('/data/hnl/KShort/ntuples/dijet_mc16e/JZ8/user.rnewhous.23060122._000052.tree.root')\n",
    "outTree = f['outTree']\n",
    "df = outTree.pandas.df(flatten=False, entrystop=100)\n",
    "outTree.keys()"
   ]
  },
  {
   "cell_type": "code",
   "execution_count": 37,
   "metadata": {},
   "outputs": [
    {
     "data": {
      "image/png": "[encoded data removed]",
      "text/plain": [
       "<Figure size 640x480 with 1 Axes>"
      ]
     },
     "metadata": {},
     "output_type": "display_data"
    }
   ],
   "source": [
    "dff = outTree.pandas.df(['secVtx_VSI_LRTR3_1p0_maxOpAng', 'secVtx_VSI_LRTR3_1p0_minOpAng', 'secVtx_VSI_LRTR3_1p0_ntrk'])\n",
    "dff = dff.query('secVtx_VSI_LRTR3_1p0_ntrk == 2')\n",
    "(dff['secVtx_VSI_LRTR3_1p0_maxOpAng']).hist(bins=30, log=True, histtype='step')\n",
    "(dff['secVtx_VSI_LRTR3_1p0_minOpAng']).hist(bins=30, log=True, histtype='step')\n",
    "# import matplotlib.pyplot as plt\n",
    "plt.show()"
   ]
  },
  {
   "cell_type": "markdown",
   "metadata": {},
   "source": [
    "# Control Region\n",
    "This is a mehod that calculates whether or not there is a prompt lepton in the event. This is the definition of our control region so we are not accidentally plotting potential signal regions."
   ]
  },
  {
   "cell_type": "code",
   "execution_count": 38,
   "metadata": {},
   "outputs": [],
   "source": [
    "def calc_pass_cr(row):\n",
    "    '''To be used with df.apply()'''\n",
    "    # Check muons\n",
    "    for loose, medium, tight, d0, z0sintheta in zip(row['muon_isLoose'], \n",
    "                                                    row['muon_isMedium'], \n",
    "                                                    row['muon_isTight'],\n",
    "                                                    row['muon_trkd0'],\n",
    "                                                    row['muon_trkz0sintheta'],\n",
    "                                   ):\n",
    "        if loose or medium or tight:\n",
    "            if abs(d0) < 3.0 or abs(z0sintheta) < 0.5: #mm\n",
    "                return 0 # Found a prompt muon. Does not pass CR.\n",
    "    # Check electrons\n",
    "    for loose, medium, tight, d0, z0sintheta in zip(row['el_LHLoose'], \n",
    "                                                    row['el_LHMedium'], \n",
    "                                                    row['el_LHTight'],\n",
    "                                                    row['el_trkd0'],\n",
    "                                                    row['el_trkz0sintheta'],\n",
    "                                   ):\n",
    "        if loose or medium or tight:\n",
    "            if abs(d0) < 3.0 or abs(z0sintheta) < 0.5: #mm\n",
    "                return 0 # Found a prompt electron. Does not pass CR.\n",
    "    return 1"
   ]
  },
  {
   "cell_type": "markdown",
   "metadata": {},
   "source": [
    "# Alpha\n",
    "This is the calculation of the parameter alpha, which is used to reduce the background when selecting k-short vertices."
   ]
  },
  {
   "cell_type": "code",
   "execution_count": 39,
   "metadata": {},
   "outputs": [],
   "source": [
    "def calc_alpha(row):\n",
    "    '''To be used with df.apply()'''\n",
    "    alphas = []\n",
    "    \n",
    "    if len(row['secVtx_VSI_LRTR3_1p0_x']) == 0:\n",
    "        return alphas\n",
    "    \n",
    "    # primary vertex position vector\n",
    "    pv_vector = uproot_methods.TVector3(row['vertex_x'],\n",
    "                                        row['vertex_y'],\n",
    "                                        row['vertex_z'])    \n",
    "\n",
    "    for dv_x, dv_y, dv_z, dv_phi in zip(row['secVtx_VSI_LRTR3_1p0_x'], \n",
    "                                        row['secVtx_VSI_LRTR3_1p0_y'], \n",
    "                                        row['secVtx_VSI_LRTR3_1p0_z'],\n",
    "                                        row['secVtx_VSI_LRTR3_1p0_phi'],\n",
    "                                       ):\n",
    "\n",
    "        # secondary vertex position vector\n",
    "        sv_vector = uproot_methods.TVector3(dv_x,\n",
    "                                            dv_y,\n",
    "                                            dv_z)\n",
    "\n",
    "        # vector from pv to sv\n",
    "        pv_sv_vector = sv_vector - pv_vector\n",
    "\n",
    "        # vector difference between momentum vector and position vector\n",
    "        alpha = pv_sv_vector.phi - dv_phi\n",
    "        # put in -pi to pi range\n",
    "        alpha = (alpha + np.pi/2) % np.pi*2 - np.pi\n",
    "        alphas.append(alpha)\n",
    "    return alphas"
   ]
  },
  {
   "cell_type": "markdown",
   "metadata": {},
   "source": [
    "# Iterating over a set of files\n",
    "Using this method, we will iterate over several trees chained together across files. Uproot has some good documentation on how this works. https://uproot.readthedocs.io/en/latest/opening-files.html#uproot-iterate"
   ]
  },
  {
   "cell_type": "code",
   "execution_count": 40,
   "metadata": {},
   "outputs": [
    {
     "name": "stderr",
     "output_type": "stream",
     "text": [
      "/home/newhouse/miniconda3/lib/python3.7/site-packages/awkward/array/base.py:394: VisibleDeprecationWarning: Creating an ndarray from ragged nested sequences (which is a list-or-tuple of lists-or-tuples-or ndarrays with different lengths or shapes) is deprecated. If you meant to do this, you must specify 'dtype=object' when creating the ndarray.\n",
      "  return cls.numpy.array(value, copy=False)\n"
     ]
    },
    {
     "name": "stdout",
     "output_type": "stream",
     "text": [
      "Total vertices loaded: 9\n"
     ]
    },
    {
     "name": "stderr",
     "output_type": "stream",
     "text": [
      "/home/newhouse/miniconda3/lib/python3.7/site-packages/awkward/array/base.py:394: VisibleDeprecationWarning: Creating an ndarray from ragged nested sequences (which is a list-or-tuple of lists-or-tuples-or ndarrays with different lengths or shapes) is deprecated. If you meant to do this, you must specify 'dtype=object' when creating the ndarray.\n",
      "  return cls.numpy.array(value, copy=False)\n"
     ]
    },
    {
     "name": "stdout",
     "output_type": "stream",
     "text": [
      "Total vertices loaded: 40\n"
     ]
    },
    {
     "name": "stderr",
     "output_type": "stream",
     "text": [
      "/home/newhouse/miniconda3/lib/python3.7/site-packages/awkward/array/base.py:394: VisibleDeprecationWarning: Creating an ndarray from ragged nested sequences (which is a list-or-tuple of lists-or-tuples-or ndarrays with different lengths or shapes) is deprecated. If you meant to do this, you must specify 'dtype=object' when creating the ndarray.\n",
      "  return cls.numpy.array(value, copy=False)\n"
     ]
    },
    {
     "name": "stdout",
     "output_type": "stream",
     "text": [
      "Total vertices loaded: 72\n"
     ]
    },
    {
     "name": "stderr",
     "output_type": "stream",
     "text": [
      "/home/newhouse/miniconda3/lib/python3.7/site-packages/awkward/array/base.py:394: VisibleDeprecationWarning: Creating an ndarray from ragged nested sequences (which is a list-or-tuple of lists-or-tuples-or ndarrays with different lengths or shapes) is deprecated. If you meant to do this, you must specify 'dtype=object' when creating the ndarray.\n",
      "  return cls.numpy.array(value, copy=False)\n"
     ]
    },
    {
     "name": "stdout",
     "output_type": "stream",
     "text": [
      "Total vertices loaded: 77\n"
     ]
    },
    {
     "name": "stderr",
     "output_type": "stream",
     "text": [
      "/home/newhouse/miniconda3/lib/python3.7/site-packages/awkward/array/base.py:394: VisibleDeprecationWarning: Creating an ndarray from ragged nested sequences (which is a list-or-tuple of lists-or-tuples-or ndarrays with different lengths or shapes) is deprecated. If you meant to do this, you must specify 'dtype=object' when creating the ndarray.\n",
      "  return cls.numpy.array(value, copy=False)\n"
     ]
    },
    {
     "name": "stdout",
     "output_type": "stream",
     "text": [
      "Total vertices loaded: 88\n"
     ]
    },
    {
     "name": "stderr",
     "output_type": "stream",
     "text": [
      "/home/newhouse/miniconda3/lib/python3.7/site-packages/awkward/array/base.py:394: VisibleDeprecationWarning: Creating an ndarray from ragged nested sequences (which is a list-or-tuple of lists-or-tuples-or ndarrays with different lengths or shapes) is deprecated. If you meant to do this, you must specify 'dtype=object' when creating the ndarray.\n",
      "  return cls.numpy.array(value, copy=False)\n"
     ]
    },
    {
     "name": "stdout",
     "output_type": "stream",
     "text": [
      "Total vertices loaded: 95\n"
     ]
    },
    {
     "name": "stderr",
     "output_type": "stream",
     "text": [
      "/home/newhouse/miniconda3/lib/python3.7/site-packages/awkward/array/base.py:394: VisibleDeprecationWarning: Creating an ndarray from ragged nested sequences (which is a list-or-tuple of lists-or-tuples-or ndarrays with different lengths or shapes) is deprecated. If you meant to do this, you must specify 'dtype=object' when creating the ndarray.\n",
      "  return cls.numpy.array(value, copy=False)\n"
     ]
    },
    {
     "name": "stdout",
     "output_type": "stream",
     "text": [
      "Total vertices loaded: 97\n"
     ]
    },
    {
     "name": "stderr",
     "output_type": "stream",
     "text": [
      "/home/newhouse/miniconda3/lib/python3.7/site-packages/awkward/array/base.py:394: VisibleDeprecationWarning: Creating an ndarray from ragged nested sequences (which is a list-or-tuple of lists-or-tuples-or ndarrays with different lengths or shapes) is deprecated. If you meant to do this, you must specify 'dtype=object' when creating the ndarray.\n",
      "  return cls.numpy.array(value, copy=False)\n"
     ]
    },
    {
     "name": "stdout",
     "output_type": "stream",
     "text": [
      "Total vertices loaded: 110\n"
     ]
    },
    {
     "name": "stderr",
     "output_type": "stream",
     "text": [
      "/home/newhouse/miniconda3/lib/python3.7/site-packages/awkward/array/base.py:394: VisibleDeprecationWarning: Creating an ndarray from ragged nested sequences (which is a list-or-tuple of lists-or-tuples-or ndarrays with different lengths or shapes) is deprecated. If you meant to do this, you must specify 'dtype=object' when creating the ndarray.\n",
      "  return cls.numpy.array(value, copy=False)\n"
     ]
    },
    {
     "name": "stdout",
     "output_type": "stream",
     "text": [
      "Total vertices loaded: 115\n"
     ]
    },
    {
     "name": "stderr",
     "output_type": "stream",
     "text": [
      "/home/newhouse/miniconda3/lib/python3.7/site-packages/awkward/array/base.py:394: VisibleDeprecationWarning: Creating an ndarray from ragged nested sequences (which is a list-or-tuple of lists-or-tuples-or ndarrays with different lengths or shapes) is deprecated. If you meant to do this, you must specify 'dtype=object' when creating the ndarray.\n",
      "  return cls.numpy.array(value, copy=False)\n"
     ]
    },
    {
     "name": "stdout",
     "output_type": "stream",
     "text": [
      "Total vertices loaded: 125\n"
     ]
    },
    {
     "name": "stderr",
     "output_type": "stream",
     "text": [
      "/home/newhouse/miniconda3/lib/python3.7/site-packages/awkward/array/base.py:394: VisibleDeprecationWarning: Creating an ndarray from ragged nested sequences (which is a list-or-tuple of lists-or-tuples-or ndarrays with different lengths or shapes) is deprecated. If you meant to do this, you must specify 'dtype=object' when creating the ndarray.\n",
      "  return cls.numpy.array(value, copy=False)\n"
     ]
    },
    {
     "name": "stdout",
     "output_type": "stream",
     "text": [
      "Total vertices loaded: 137\n"
     ]
    },
    {
     "name": "stderr",
     "output_type": "stream",
     "text": [
      "/home/newhouse/miniconda3/lib/python3.7/site-packages/awkward/array/base.py:394: VisibleDeprecationWarning: Creating an ndarray from ragged nested sequences (which is a list-or-tuple of lists-or-tuples-or ndarrays with different lengths or shapes) is deprecated. If you meant to do this, you must specify 'dtype=object' when creating the ndarray.\n",
      "  return cls.numpy.array(value, copy=False)\n"
     ]
    },
    {
     "name": "stdout",
     "output_type": "stream",
     "text": [
      "Total vertices loaded: 146\n"
     ]
    },
    {
     "name": "stderr",
     "output_type": "stream",
     "text": [
      "/home/newhouse/miniconda3/lib/python3.7/site-packages/awkward/array/base.py:394: VisibleDeprecationWarning: Creating an ndarray from ragged nested sequences (which is a list-or-tuple of lists-or-tuples-or ndarrays with different lengths or shapes) is deprecated. If you meant to do this, you must specify 'dtype=object' when creating the ndarray.\n",
      "  return cls.numpy.array(value, copy=False)\n"
     ]
    },
    {
     "name": "stdout",
     "output_type": "stream",
     "text": [
      "Total vertices loaded: 161\n"
     ]
    },
    {
     "name": "stderr",
     "output_type": "stream",
     "text": [
      "/home/newhouse/miniconda3/lib/python3.7/site-packages/awkward/array/base.py:394: VisibleDeprecationWarning: Creating an ndarray from ragged nested sequences (which is a list-or-tuple of lists-or-tuples-or ndarrays with different lengths or shapes) is deprecated. If you meant to do this, you must specify 'dtype=object' when creating the ndarray.\n",
      "  return cls.numpy.array(value, copy=False)\n"
     ]
    },
    {
     "name": "stdout",
     "output_type": "stream",
     "text": [
      "Total vertices loaded: 166\n"
     ]
    },
    {
     "name": "stderr",
     "output_type": "stream",
     "text": [
      "/home/newhouse/miniconda3/lib/python3.7/site-packages/awkward/array/base.py:394: VisibleDeprecationWarning: Creating an ndarray from ragged nested sequences (which is a list-or-tuple of lists-or-tuples-or ndarrays with different lengths or shapes) is deprecated. If you meant to do this, you must specify 'dtype=object' when creating the ndarray.\n",
      "  return cls.numpy.array(value, copy=False)\n"
     ]
    },
    {
     "name": "stdout",
     "output_type": "stream",
     "text": [
      "Total vertices loaded: 181\n"
     ]
    },
    {
     "name": "stderr",
     "output_type": "stream",
     "text": [
      "/home/newhouse/miniconda3/lib/python3.7/site-packages/awkward/array/base.py:394: VisibleDeprecationWarning: Creating an ndarray from ragged nested sequences (which is a list-or-tuple of lists-or-tuples-or ndarrays with different lengths or shapes) is deprecated. If you meant to do this, you must specify 'dtype=object' when creating the ndarray.\n",
      "  return cls.numpy.array(value, copy=False)\n"
     ]
    },
    {
     "name": "stdout",
     "output_type": "stream",
     "text": [
      "Total vertices loaded: 189\n"
     ]
    },
    {
     "name": "stderr",
     "output_type": "stream",
     "text": [
      "/home/newhouse/miniconda3/lib/python3.7/site-packages/awkward/array/base.py:394: VisibleDeprecationWarning: Creating an ndarray from ragged nested sequences (which is a list-or-tuple of lists-or-tuples-or ndarrays with different lengths or shapes) is deprecated. If you meant to do this, you must specify 'dtype=object' when creating the ndarray.\n",
      "  return cls.numpy.array(value, copy=False)\n"
     ]
    },
    {
     "name": "stdout",
     "output_type": "stream",
     "text": [
      "Total vertices loaded: 193\n"
     ]
    },
    {
     "name": "stderr",
     "output_type": "stream",
     "text": [
      "/home/newhouse/miniconda3/lib/python3.7/site-packages/awkward/array/base.py:394: VisibleDeprecationWarning: Creating an ndarray from ragged nested sequences (which is a list-or-tuple of lists-or-tuples-or ndarrays with different lengths or shapes) is deprecated. If you meant to do this, you must specify 'dtype=object' when creating the ndarray.\n",
      "  return cls.numpy.array(value, copy=False)\n"
     ]
    },
    {
     "name": "stdout",
     "output_type": "stream",
     "text": [
      "Total vertices loaded: 208\n"
     ]
    },
    {
     "name": "stderr",
     "output_type": "stream",
     "text": [
      "/home/newhouse/miniconda3/lib/python3.7/site-packages/awkward/array/base.py:394: VisibleDeprecationWarning: Creating an ndarray from ragged nested sequences (which is a list-or-tuple of lists-or-tuples-or ndarrays with different lengths or shapes) is deprecated. If you meant to do this, you must specify 'dtype=object' when creating the ndarray.\n",
      "  return cls.numpy.array(value, copy=False)\n"
     ]
    },
    {
     "name": "stdout",
     "output_type": "stream",
     "text": [
      "Total vertices loaded: 219\n"
     ]
    },
    {
     "name": "stderr",
     "output_type": "stream",
     "text": [
      "/home/newhouse/miniconda3/lib/python3.7/site-packages/awkward/array/base.py:394: VisibleDeprecationWarning: Creating an ndarray from ragged nested sequences (which is a list-or-tuple of lists-or-tuples-or ndarrays with different lengths or shapes) is deprecated. If you meant to do this, you must specify 'dtype=object' when creating the ndarray.\n",
      "  return cls.numpy.array(value, copy=False)\n"
     ]
    },
    {
     "name": "stdout",
     "output_type": "stream",
     "text": [
      "Total vertices loaded: 228\n"
     ]
    },
    {
     "name": "stderr",
     "output_type": "stream",
     "text": [
      "/home/newhouse/miniconda3/lib/python3.7/site-packages/awkward/array/base.py:394: VisibleDeprecationWarning: Creating an ndarray from ragged nested sequences (which is a list-or-tuple of lists-or-tuples-or ndarrays with different lengths or shapes) is deprecated. If you meant to do this, you must specify 'dtype=object' when creating the ndarray.\n",
      "  return cls.numpy.array(value, copy=False)\n"
     ]
    },
    {
     "name": "stdout",
     "output_type": "stream",
     "text": [
      "Total vertices loaded: 239\n"
     ]
    },
    {
     "name": "stderr",
     "output_type": "stream",
     "text": [
      "/home/newhouse/miniconda3/lib/python3.7/site-packages/awkward/array/base.py:394: VisibleDeprecationWarning: Creating an ndarray from ragged nested sequences (which is a list-or-tuple of lists-or-tuples-or ndarrays with different lengths or shapes) is deprecated. If you meant to do this, you must specify 'dtype=object' when creating the ndarray.\n",
      "  return cls.numpy.array(value, copy=False)\n"
     ]
    },
    {
     "name": "stdout",
     "output_type": "stream",
     "text": [
      "Total vertices loaded: 250\n"
     ]
    },
    {
     "name": "stderr",
     "output_type": "stream",
     "text": [
      "/home/newhouse/miniconda3/lib/python3.7/site-packages/awkward/array/base.py:394: VisibleDeprecationWarning: Creating an ndarray from ragged nested sequences (which is a list-or-tuple of lists-or-tuples-or ndarrays with different lengths or shapes) is deprecated. If you meant to do this, you must specify 'dtype=object' when creating the ndarray.\n",
      "  return cls.numpy.array(value, copy=False)\n"
     ]
    },
    {
     "name": "stdout",
     "output_type": "stream",
     "text": [
      "Total vertices loaded: 261\n"
     ]
    },
    {
     "name": "stderr",
     "output_type": "stream",
     "text": [
      "/home/newhouse/miniconda3/lib/python3.7/site-packages/awkward/array/base.py:394: VisibleDeprecationWarning: Creating an ndarray from ragged nested sequences (which is a list-or-tuple of lists-or-tuples-or ndarrays with different lengths or shapes) is deprecated. If you meant to do this, you must specify 'dtype=object' when creating the ndarray.\n",
      "  return cls.numpy.array(value, copy=False)\n"
     ]
    },
    {
     "name": "stdout",
     "output_type": "stream",
     "text": [
      "Total vertices loaded: 273\n"
     ]
    },
    {
     "name": "stderr",
     "output_type": "stream",
     "text": [
      "/home/newhouse/miniconda3/lib/python3.7/site-packages/awkward/array/base.py:394: VisibleDeprecationWarning: Creating an ndarray from ragged nested sequences (which is a list-or-tuple of lists-or-tuples-or ndarrays with different lengths or shapes) is deprecated. If you meant to do this, you must specify 'dtype=object' when creating the ndarray.\n",
      "  return cls.numpy.array(value, copy=False)\n"
     ]
    },
    {
     "name": "stdout",
     "output_type": "stream",
     "text": [
      "Total vertices loaded: 277\n"
     ]
    },
    {
     "name": "stderr",
     "output_type": "stream",
     "text": [
      "/home/newhouse/miniconda3/lib/python3.7/site-packages/awkward/array/base.py:394: VisibleDeprecationWarning: Creating an ndarray from ragged nested sequences (which is a list-or-tuple of lists-or-tuples-or ndarrays with different lengths or shapes) is deprecated. If you meant to do this, you must specify 'dtype=object' when creating the ndarray.\n",
      "  return cls.numpy.array(value, copy=False)\n"
     ]
    },
    {
     "name": "stdout",
     "output_type": "stream",
     "text": [
      "Total vertices loaded: 288\n"
     ]
    },
    {
     "name": "stderr",
     "output_type": "stream",
     "text": [
      "/home/newhouse/miniconda3/lib/python3.7/site-packages/awkward/array/base.py:394: VisibleDeprecationWarning: Creating an ndarray from ragged nested sequences (which is a list-or-tuple of lists-or-tuples-or ndarrays with different lengths or shapes) is deprecated. If you meant to do this, you must specify 'dtype=object' when creating the ndarray.\n",
      "  return cls.numpy.array(value, copy=False)\n"
     ]
    },
    {
     "name": "stdout",
     "output_type": "stream",
     "text": [
      "Total vertices loaded: 293\n"
     ]
    },
    {
     "name": "stderr",
     "output_type": "stream",
     "text": [
      "/home/newhouse/miniconda3/lib/python3.7/site-packages/awkward/array/base.py:394: VisibleDeprecationWarning: Creating an ndarray from ragged nested sequences (which is a list-or-tuple of lists-or-tuples-or ndarrays with different lengths or shapes) is deprecated. If you meant to do this, you must specify 'dtype=object' when creating the ndarray.\n",
      "  return cls.numpy.array(value, copy=False)\n"
     ]
    },
    {
     "name": "stdout",
     "output_type": "stream",
     "text": [
      "Total vertices loaded: 307\n"
     ]
    },
    {
     "name": "stderr",
     "output_type": "stream",
     "text": [
      "/home/newhouse/miniconda3/lib/python3.7/site-packages/awkward/array/base.py:394: VisibleDeprecationWarning: Creating an ndarray from ragged nested sequences (which is a list-or-tuple of lists-or-tuples-or ndarrays with different lengths or shapes) is deprecated. If you meant to do this, you must specify 'dtype=object' when creating the ndarray.\n",
      "  return cls.numpy.array(value, copy=False)\n"
     ]
    },
    {
     "name": "stdout",
     "output_type": "stream",
     "text": [
      "Total vertices loaded: 315\n"
     ]
    },
    {
     "name": "stderr",
     "output_type": "stream",
     "text": [
      "/home/newhouse/miniconda3/lib/python3.7/site-packages/awkward/array/base.py:394: VisibleDeprecationWarning: Creating an ndarray from ragged nested sequences (which is a list-or-tuple of lists-or-tuples-or ndarrays with different lengths or shapes) is deprecated. If you meant to do this, you must specify 'dtype=object' when creating the ndarray.\n",
      "  return cls.numpy.array(value, copy=False)\n"
     ]
    },
    {
     "name": "stdout",
     "output_type": "stream",
     "text": [
      "Total vertices loaded: 324\n"
     ]
    },
    {
     "name": "stderr",
     "output_type": "stream",
     "text": [
      "/home/newhouse/miniconda3/lib/python3.7/site-packages/awkward/array/base.py:394: VisibleDeprecationWarning: Creating an ndarray from ragged nested sequences (which is a list-or-tuple of lists-or-tuples-or ndarrays with different lengths or shapes) is deprecated. If you meant to do this, you must specify 'dtype=object' when creating the ndarray.\n",
      "  return cls.numpy.array(value, copy=False)\n"
     ]
    },
    {
     "name": "stdout",
     "output_type": "stream",
     "text": [
      "Total vertices loaded: 333\n"
     ]
    },
    {
     "name": "stderr",
     "output_type": "stream",
     "text": [
      "/home/newhouse/miniconda3/lib/python3.7/site-packages/awkward/array/base.py:394: VisibleDeprecationWarning: Creating an ndarray from ragged nested sequences (which is a list-or-tuple of lists-or-tuples-or ndarrays with different lengths or shapes) is deprecated. If you meant to do this, you must specify 'dtype=object' when creating the ndarray.\n",
      "  return cls.numpy.array(value, copy=False)\n"
     ]
    },
    {
     "name": "stdout",
     "output_type": "stream",
     "text": [
      "Total vertices loaded: 338\n"
     ]
    },
    {
     "name": "stderr",
     "output_type": "stream",
     "text": [
      "/home/newhouse/miniconda3/lib/python3.7/site-packages/awkward/array/base.py:394: VisibleDeprecationWarning: Creating an ndarray from ragged nested sequences (which is a list-or-tuple of lists-or-tuples-or ndarrays with different lengths or shapes) is deprecated. If you meant to do this, you must specify 'dtype=object' when creating the ndarray.\n",
      "  return cls.numpy.array(value, copy=False)\n"
     ]
    },
    {
     "name": "stdout",
     "output_type": "stream",
     "text": [
      "Total vertices loaded: 350\n"
     ]
    },
    {
     "name": "stderr",
     "output_type": "stream",
     "text": [
      "/home/newhouse/miniconda3/lib/python3.7/site-packages/awkward/array/base.py:394: VisibleDeprecationWarning: Creating an ndarray from ragged nested sequences (which is a list-or-tuple of lists-or-tuples-or ndarrays with different lengths or shapes) is deprecated. If you meant to do this, you must specify 'dtype=object' when creating the ndarray.\n",
      "  return cls.numpy.array(value, copy=False)\n"
     ]
    },
    {
     "name": "stdout",
     "output_type": "stream",
     "text": [
      "Total vertices loaded: 363\n"
     ]
    },
    {
     "name": "stderr",
     "output_type": "stream",
     "text": [
      "/home/newhouse/miniconda3/lib/python3.7/site-packages/awkward/array/base.py:394: VisibleDeprecationWarning: Creating an ndarray from ragged nested sequences (which is a list-or-tuple of lists-or-tuples-or ndarrays with different lengths or shapes) is deprecated. If you meant to do this, you must specify 'dtype=object' when creating the ndarray.\n",
      "  return cls.numpy.array(value, copy=False)\n"
     ]
    },
    {
     "name": "stdout",
     "output_type": "stream",
     "text": [
      "Total vertices loaded: 389\n"
     ]
    },
    {
     "name": "stderr",
     "output_type": "stream",
     "text": [
      "/home/newhouse/miniconda3/lib/python3.7/site-packages/awkward/array/base.py:394: VisibleDeprecationWarning: Creating an ndarray from ragged nested sequences (which is a list-or-tuple of lists-or-tuples-or ndarrays with different lengths or shapes) is deprecated. If you meant to do this, you must specify 'dtype=object' when creating the ndarray.\n",
      "  return cls.numpy.array(value, copy=False)\n"
     ]
    },
    {
     "name": "stdout",
     "output_type": "stream",
     "text": [
      "Total vertices loaded: 402\n"
     ]
    },
    {
     "name": "stderr",
     "output_type": "stream",
     "text": [
      "/home/newhouse/miniconda3/lib/python3.7/site-packages/awkward/array/base.py:394: VisibleDeprecationWarning: Creating an ndarray from ragged nested sequences (which is a list-or-tuple of lists-or-tuples-or ndarrays with different lengths or shapes) is deprecated. If you meant to do this, you must specify 'dtype=object' when creating the ndarray.\n",
      "  return cls.numpy.array(value, copy=False)\n"
     ]
    },
    {
     "name": "stdout",
     "output_type": "stream",
     "text": [
      "Total vertices loaded: 408\n"
     ]
    },
    {
     "name": "stderr",
     "output_type": "stream",
     "text": [
      "/home/newhouse/miniconda3/lib/python3.7/site-packages/awkward/array/base.py:394: VisibleDeprecationWarning: Creating an ndarray from ragged nested sequences (which is a list-or-tuple of lists-or-tuples-or ndarrays with different lengths or shapes) is deprecated. If you meant to do this, you must specify 'dtype=object' when creating the ndarray.\n",
      "  return cls.numpy.array(value, copy=False)\n"
     ]
    },
    {
     "name": "stdout",
     "output_type": "stream",
     "text": [
      "Total vertices loaded: 420\n"
     ]
    },
    {
     "name": "stderr",
     "output_type": "stream",
     "text": [
      "/home/newhouse/miniconda3/lib/python3.7/site-packages/awkward/array/base.py:394: VisibleDeprecationWarning: Creating an ndarray from ragged nested sequences (which is a list-or-tuple of lists-or-tuples-or ndarrays with different lengths or shapes) is deprecated. If you meant to do this, you must specify 'dtype=object' when creating the ndarray.\n",
      "  return cls.numpy.array(value, copy=False)\n"
     ]
    },
    {
     "name": "stdout",
     "output_type": "stream",
     "text": [
      "Total vertices loaded: 432\n"
     ]
    },
    {
     "name": "stderr",
     "output_type": "stream",
     "text": [
      "/home/newhouse/miniconda3/lib/python3.7/site-packages/awkward/array/base.py:394: VisibleDeprecationWarning: Creating an ndarray from ragged nested sequences (which is a list-or-tuple of lists-or-tuples-or ndarrays with different lengths or shapes) is deprecated. If you meant to do this, you must specify 'dtype=object' when creating the ndarray.\n",
      "  return cls.numpy.array(value, copy=False)\n"
     ]
    },
    {
     "name": "stdout",
     "output_type": "stream",
     "text": [
      "Total vertices loaded: 440\n"
     ]
    },
    {
     "name": "stderr",
     "output_type": "stream",
     "text": [
      "/home/newhouse/miniconda3/lib/python3.7/site-packages/awkward/array/base.py:394: VisibleDeprecationWarning: Creating an ndarray from ragged nested sequences (which is a list-or-tuple of lists-or-tuples-or ndarrays with different lengths or shapes) is deprecated. If you meant to do this, you must specify 'dtype=object' when creating the ndarray.\n",
      "  return cls.numpy.array(value, copy=False)\n"
     ]
    },
    {
     "name": "stdout",
     "output_type": "stream",
     "text": [
      "Total vertices loaded: 449\n"
     ]
    },
    {
     "name": "stderr",
     "output_type": "stream",
     "text": [
      "/home/newhouse/miniconda3/lib/python3.7/site-packages/awkward/array/base.py:394: VisibleDeprecationWarning: Creating an ndarray from ragged nested sequences (which is a list-or-tuple of lists-or-tuples-or ndarrays with different lengths or shapes) is deprecated. If you meant to do this, you must specify 'dtype=object' when creating the ndarray.\n",
      "  return cls.numpy.array(value, copy=False)\n"
     ]
    },
    {
     "name": "stdout",
     "output_type": "stream",
     "text": [
      "Total vertices loaded: 453\n"
     ]
    },
    {
     "name": "stderr",
     "output_type": "stream",
     "text": [
      "/home/newhouse/miniconda3/lib/python3.7/site-packages/awkward/array/base.py:394: VisibleDeprecationWarning: Creating an ndarray from ragged nested sequences (which is a list-or-tuple of lists-or-tuples-or ndarrays with different lengths or shapes) is deprecated. If you meant to do this, you must specify 'dtype=object' when creating the ndarray.\n",
      "  return cls.numpy.array(value, copy=False)\n"
     ]
    },
    {
     "name": "stdout",
     "output_type": "stream",
     "text": [
      "Total vertices loaded: 463\n"
     ]
    },
    {
     "name": "stderr",
     "output_type": "stream",
     "text": [
      "/home/newhouse/miniconda3/lib/python3.7/site-packages/awkward/array/base.py:394: VisibleDeprecationWarning: Creating an ndarray from ragged nested sequences (which is a list-or-tuple of lists-or-tuples-or ndarrays with different lengths or shapes) is deprecated. If you meant to do this, you must specify 'dtype=object' when creating the ndarray.\n",
      "  return cls.numpy.array(value, copy=False)\n"
     ]
    },
    {
     "name": "stdout",
     "output_type": "stream",
     "text": [
      "Total vertices loaded: 474\n"
     ]
    },
    {
     "name": "stderr",
     "output_type": "stream",
     "text": [
      "/home/newhouse/miniconda3/lib/python3.7/site-packages/awkward/array/base.py:394: VisibleDeprecationWarning: Creating an ndarray from ragged nested sequences (which is a list-or-tuple of lists-or-tuples-or ndarrays with different lengths or shapes) is deprecated. If you meant to do this, you must specify 'dtype=object' when creating the ndarray.\n",
      "  return cls.numpy.array(value, copy=False)\n"
     ]
    },
    {
     "name": "stdout",
     "output_type": "stream",
     "text": [
      "Total vertices loaded: 478\n"
     ]
    },
    {
     "name": "stderr",
     "output_type": "stream",
     "text": [
      "/home/newhouse/miniconda3/lib/python3.7/site-packages/awkward/array/base.py:394: VisibleDeprecationWarning: Creating an ndarray from ragged nested sequences (which is a list-or-tuple of lists-or-tuples-or ndarrays with different lengths or shapes) is deprecated. If you meant to do this, you must specify 'dtype=object' when creating the ndarray.\n",
      "  return cls.numpy.array(value, copy=False)\n"
     ]
    },
    {
     "name": "stdout",
     "output_type": "stream",
     "text": [
      "Total vertices loaded: 489\n"
     ]
    },
    {
     "name": "stderr",
     "output_type": "stream",
     "text": [
      "/home/newhouse/miniconda3/lib/python3.7/site-packages/awkward/array/base.py:394: VisibleDeprecationWarning: Creating an ndarray from ragged nested sequences (which is a list-or-tuple of lists-or-tuples-or ndarrays with different lengths or shapes) is deprecated. If you meant to do this, you must specify 'dtype=object' when creating the ndarray.\n",
      "  return cls.numpy.array(value, copy=False)\n"
     ]
    },
    {
     "name": "stdout",
     "output_type": "stream",
     "text": [
      "Total vertices loaded: 501\n"
     ]
    },
    {
     "name": "stderr",
     "output_type": "stream",
     "text": [
      "/home/newhouse/miniconda3/lib/python3.7/site-packages/awkward/array/base.py:394: VisibleDeprecationWarning: Creating an ndarray from ragged nested sequences (which is a list-or-tuple of lists-or-tuples-or ndarrays with different lengths or shapes) is deprecated. If you meant to do this, you must specify 'dtype=object' when creating the ndarray.\n",
      "  return cls.numpy.array(value, copy=False)\n"
     ]
    },
    {
     "name": "stdout",
     "output_type": "stream",
     "text": [
      "Total vertices loaded: 512\n"
     ]
    },
    {
     "name": "stderr",
     "output_type": "stream",
     "text": [
      "/home/newhouse/miniconda3/lib/python3.7/site-packages/awkward/array/base.py:394: VisibleDeprecationWarning: Creating an ndarray from ragged nested sequences (which is a list-or-tuple of lists-or-tuples-or ndarrays with different lengths or shapes) is deprecated. If you meant to do this, you must specify 'dtype=object' when creating the ndarray.\n",
      "  return cls.numpy.array(value, copy=False)\n"
     ]
    },
    {
     "name": "stdout",
     "output_type": "stream",
     "text": [
      "Total vertices loaded: 524\n"
     ]
    },
    {
     "name": "stderr",
     "output_type": "stream",
     "text": [
      "/home/newhouse/miniconda3/lib/python3.7/site-packages/awkward/array/base.py:394: VisibleDeprecationWarning: Creating an ndarray from ragged nested sequences (which is a list-or-tuple of lists-or-tuples-or ndarrays with different lengths or shapes) is deprecated. If you meant to do this, you must specify 'dtype=object' when creating the ndarray.\n",
      "  return cls.numpy.array(value, copy=False)\n"
     ]
    },
    {
     "name": "stdout",
     "output_type": "stream",
     "text": [
      "Total vertices loaded: 538\n"
     ]
    },
    {
     "name": "stderr",
     "output_type": "stream",
     "text": [
      "/home/newhouse/miniconda3/lib/python3.7/site-packages/awkward/array/base.py:394: VisibleDeprecationWarning: Creating an ndarray from ragged nested sequences (which is a list-or-tuple of lists-or-tuples-or ndarrays with different lengths or shapes) is deprecated. If you meant to do this, you must specify 'dtype=object' when creating the ndarray.\n",
      "  return cls.numpy.array(value, copy=False)\n"
     ]
    },
    {
     "name": "stdout",
     "output_type": "stream",
     "text": [
      "Total vertices loaded: 547\n"
     ]
    },
    {
     "name": "stderr",
     "output_type": "stream",
     "text": [
      "/home/newhouse/miniconda3/lib/python3.7/site-packages/awkward/array/base.py:394: VisibleDeprecationWarning: Creating an ndarray from ragged nested sequences (which is a list-or-tuple of lists-or-tuples-or ndarrays with different lengths or shapes) is deprecated. If you meant to do this, you must specify 'dtype=object' when creating the ndarray.\n",
      "  return cls.numpy.array(value, copy=False)\n"
     ]
    },
    {
     "name": "stdout",
     "output_type": "stream",
     "text": [
      "Total vertices loaded: 552\n"
     ]
    },
    {
     "name": "stderr",
     "output_type": "stream",
     "text": [
      "/home/newhouse/miniconda3/lib/python3.7/site-packages/awkward/array/base.py:394: VisibleDeprecationWarning: Creating an ndarray from ragged nested sequences (which is a list-or-tuple of lists-or-tuples-or ndarrays with different lengths or shapes) is deprecated. If you meant to do this, you must specify 'dtype=object' when creating the ndarray.\n",
      "  return cls.numpy.array(value, copy=False)\n"
     ]
    },
    {
     "name": "stdout",
     "output_type": "stream",
     "text": [
      "Total vertices loaded: 567\n"
     ]
    },
    {
     "name": "stderr",
     "output_type": "stream",
     "text": [
      "/home/newhouse/miniconda3/lib/python3.7/site-packages/awkward/array/base.py:394: VisibleDeprecationWarning: Creating an ndarray from ragged nested sequences (which is a list-or-tuple of lists-or-tuples-or ndarrays with different lengths or shapes) is deprecated. If you meant to do this, you must specify 'dtype=object' when creating the ndarray.\n",
      "  return cls.numpy.array(value, copy=False)\n"
     ]
    },
    {
     "name": "stdout",
     "output_type": "stream",
     "text": [
      "Total vertices loaded: 570\n"
     ]
    },
    {
     "name": "stderr",
     "output_type": "stream",
     "text": [
      "/home/newhouse/miniconda3/lib/python3.7/site-packages/awkward/array/base.py:394: VisibleDeprecationWarning: Creating an ndarray from ragged nested sequences (which is a list-or-tuple of lists-or-tuples-or ndarrays with different lengths or shapes) is deprecated. If you meant to do this, you must specify 'dtype=object' when creating the ndarray.\n",
      "  return cls.numpy.array(value, copy=False)\n"
     ]
    },
    {
     "name": "stdout",
     "output_type": "stream",
     "text": [
      "Total vertices loaded: 579\n"
     ]
    },
    {
     "name": "stderr",
     "output_type": "stream",
     "text": [
      "/home/newhouse/miniconda3/lib/python3.7/site-packages/awkward/array/base.py:394: VisibleDeprecationWarning: Creating an ndarray from ragged nested sequences (which is a list-or-tuple of lists-or-tuples-or ndarrays with different lengths or shapes) is deprecated. If you meant to do this, you must specify 'dtype=object' when creating the ndarray.\n",
      "  return cls.numpy.array(value, copy=False)\n"
     ]
    },
    {
     "name": "stdout",
     "output_type": "stream",
     "text": [
      "Total vertices loaded: 592\n"
     ]
    },
    {
     "name": "stderr",
     "output_type": "stream",
     "text": [
      "/home/newhouse/miniconda3/lib/python3.7/site-packages/awkward/array/base.py:394: VisibleDeprecationWarning: Creating an ndarray from ragged nested sequences (which is a list-or-tuple of lists-or-tuples-or ndarrays with different lengths or shapes) is deprecated. If you meant to do this, you must specify 'dtype=object' when creating the ndarray.\n",
      "  return cls.numpy.array(value, copy=False)\n"
     ]
    },
    {
     "name": "stdout",
     "output_type": "stream",
     "text": [
      "Total vertices loaded: 601\n"
     ]
    },
    {
     "name": "stderr",
     "output_type": "stream",
     "text": [
      "/home/newhouse/miniconda3/lib/python3.7/site-packages/awkward/array/base.py:394: VisibleDeprecationWarning: Creating an ndarray from ragged nested sequences (which is a list-or-tuple of lists-or-tuples-or ndarrays with different lengths or shapes) is deprecated. If you meant to do this, you must specify 'dtype=object' when creating the ndarray.\n",
      "  return cls.numpy.array(value, copy=False)\n"
     ]
    },
    {
     "name": "stdout",
     "output_type": "stream",
     "text": [
      "Total vertices loaded: 609\n"
     ]
    },
    {
     "name": "stderr",
     "output_type": "stream",
     "text": [
      "/home/newhouse/miniconda3/lib/python3.7/site-packages/awkward/array/base.py:394: VisibleDeprecationWarning: Creating an ndarray from ragged nested sequences (which is a list-or-tuple of lists-or-tuples-or ndarrays with different lengths or shapes) is deprecated. If you meant to do this, you must specify 'dtype=object' when creating the ndarray.\n",
      "  return cls.numpy.array(value, copy=False)\n"
     ]
    },
    {
     "name": "stdout",
     "output_type": "stream",
     "text": [
      "Total vertices loaded: 618\n"
     ]
    },
    {
     "name": "stderr",
     "output_type": "stream",
     "text": [
      "/home/newhouse/miniconda3/lib/python3.7/site-packages/awkward/array/base.py:394: VisibleDeprecationWarning: Creating an ndarray from ragged nested sequences (which is a list-or-tuple of lists-or-tuples-or ndarrays with different lengths or shapes) is deprecated. If you meant to do this, you must specify 'dtype=object' when creating the ndarray.\n",
      "  return cls.numpy.array(value, copy=False)\n"
     ]
    },
    {
     "name": "stdout",
     "output_type": "stream",
     "text": [
      "Total vertices loaded: 624\n"
     ]
    },
    {
     "name": "stderr",
     "output_type": "stream",
     "text": [
      "/home/newhouse/miniconda3/lib/python3.7/site-packages/awkward/array/base.py:394: VisibleDeprecationWarning: Creating an ndarray from ragged nested sequences (which is a list-or-tuple of lists-or-tuples-or ndarrays with different lengths or shapes) is deprecated. If you meant to do this, you must specify 'dtype=object' when creating the ndarray.\n",
      "  return cls.numpy.array(value, copy=False)\n"
     ]
    },
    {
     "name": "stdout",
     "output_type": "stream",
     "text": [
      "Total vertices loaded: 637\n"
     ]
    },
    {
     "name": "stderr",
     "output_type": "stream",
     "text": [
      "/home/newhouse/miniconda3/lib/python3.7/site-packages/awkward/array/base.py:394: VisibleDeprecationWarning: Creating an ndarray from ragged nested sequences (which is a list-or-tuple of lists-or-tuples-or ndarrays with different lengths or shapes) is deprecated. If you meant to do this, you must specify 'dtype=object' when creating the ndarray.\n",
      "  return cls.numpy.array(value, copy=False)\n"
     ]
    },
    {
     "name": "stdout",
     "output_type": "stream",
     "text": [
      "Total vertices loaded: 644\n"
     ]
    },
    {
     "name": "stderr",
     "output_type": "stream",
     "text": [
      "/home/newhouse/miniconda3/lib/python3.7/site-packages/awkward/array/base.py:394: VisibleDeprecationWarning: Creating an ndarray from ragged nested sequences (which is a list-or-tuple of lists-or-tuples-or ndarrays with different lengths or shapes) is deprecated. If you meant to do this, you must specify 'dtype=object' when creating the ndarray.\n",
      "  return cls.numpy.array(value, copy=False)\n"
     ]
    },
    {
     "name": "stdout",
     "output_type": "stream",
     "text": [
      "Total vertices loaded: 651\n"
     ]
    },
    {
     "name": "stderr",
     "output_type": "stream",
     "text": [
      "/home/newhouse/miniconda3/lib/python3.7/site-packages/awkward/array/base.py:394: VisibleDeprecationWarning: Creating an ndarray from ragged nested sequences (which is a list-or-tuple of lists-or-tuples-or ndarrays with different lengths or shapes) is deprecated. If you meant to do this, you must specify 'dtype=object' when creating the ndarray.\n",
      "  return cls.numpy.array(value, copy=False)\n"
     ]
    },
    {
     "name": "stdout",
     "output_type": "stream",
     "text": [
      "Total vertices loaded: 655\n"
     ]
    },
    {
     "name": "stderr",
     "output_type": "stream",
     "text": [
      "/home/newhouse/miniconda3/lib/python3.7/site-packages/awkward/array/base.py:394: VisibleDeprecationWarning: Creating an ndarray from ragged nested sequences (which is a list-or-tuple of lists-or-tuples-or ndarrays with different lengths or shapes) is deprecated. If you meant to do this, you must specify 'dtype=object' when creating the ndarray.\n",
      "  return cls.numpy.array(value, copy=False)\n"
     ]
    },
    {
     "name": "stdout",
     "output_type": "stream",
     "text": [
      "Total vertices loaded: 664\n"
     ]
    },
    {
     "name": "stderr",
     "output_type": "stream",
     "text": [
      "/home/newhouse/miniconda3/lib/python3.7/site-packages/awkward/array/base.py:394: VisibleDeprecationWarning: Creating an ndarray from ragged nested sequences (which is a list-or-tuple of lists-or-tuples-or ndarrays with different lengths or shapes) is deprecated. If you meant to do this, you must specify 'dtype=object' when creating the ndarray.\n",
      "  return cls.numpy.array(value, copy=False)\n"
     ]
    },
    {
     "name": "stdout",
     "output_type": "stream",
     "text": [
      "Total vertices loaded: 673\n"
     ]
    },
    {
     "name": "stderr",
     "output_type": "stream",
     "text": [
      "/home/newhouse/miniconda3/lib/python3.7/site-packages/awkward/array/base.py:394: VisibleDeprecationWarning: Creating an ndarray from ragged nested sequences (which is a list-or-tuple of lists-or-tuples-or ndarrays with different lengths or shapes) is deprecated. If you meant to do this, you must specify 'dtype=object' when creating the ndarray.\n",
      "  return cls.numpy.array(value, copy=False)\n"
     ]
    },
    {
     "name": "stdout",
     "output_type": "stream",
     "text": [
      "Total vertices loaded: 677\n"
     ]
    },
    {
     "name": "stderr",
     "output_type": "stream",
     "text": [
      "/home/newhouse/miniconda3/lib/python3.7/site-packages/awkward/array/base.py:394: VisibleDeprecationWarning: Creating an ndarray from ragged nested sequences (which is a list-or-tuple of lists-or-tuples-or ndarrays with different lengths or shapes) is deprecated. If you meant to do this, you must specify 'dtype=object' when creating the ndarray.\n",
      "  return cls.numpy.array(value, copy=False)\n"
     ]
    },
    {
     "name": "stdout",
     "output_type": "stream",
     "text": [
      "Total vertices loaded: 683\n"
     ]
    },
    {
     "name": "stderr",
     "output_type": "stream",
     "text": [
      "/home/newhouse/miniconda3/lib/python3.7/site-packages/awkward/array/base.py:394: VisibleDeprecationWarning: Creating an ndarray from ragged nested sequences (which is a list-or-tuple of lists-or-tuples-or ndarrays with different lengths or shapes) is deprecated. If you meant to do this, you must specify 'dtype=object' when creating the ndarray.\n",
      "  return cls.numpy.array(value, copy=False)\n"
     ]
    },
    {
     "name": "stdout",
     "output_type": "stream",
     "text": [
      "Total vertices loaded: 695\n"
     ]
    },
    {
     "name": "stderr",
     "output_type": "stream",
     "text": [
      "/home/newhouse/miniconda3/lib/python3.7/site-packages/awkward/array/base.py:394: VisibleDeprecationWarning: Creating an ndarray from ragged nested sequences (which is a list-or-tuple of lists-or-tuples-or ndarrays with different lengths or shapes) is deprecated. If you meant to do this, you must specify 'dtype=object' when creating the ndarray.\n",
      "  return cls.numpy.array(value, copy=False)\n"
     ]
    },
    {
     "name": "stdout",
     "output_type": "stream",
     "text": [
      "Total vertices loaded: 700\n"
     ]
    },
    {
     "name": "stderr",
     "output_type": "stream",
     "text": [
      "/home/newhouse/miniconda3/lib/python3.7/site-packages/awkward/array/base.py:394: VisibleDeprecationWarning: Creating an ndarray from ragged nested sequences (which is a list-or-tuple of lists-or-tuples-or ndarrays with different lengths or shapes) is deprecated. If you meant to do this, you must specify 'dtype=object' when creating the ndarray.\n",
      "  return cls.numpy.array(value, copy=False)\n"
     ]
    },
    {
     "name": "stdout",
     "output_type": "stream",
     "text": [
      "Total vertices loaded: 709\n"
     ]
    },
    {
     "name": "stderr",
     "output_type": "stream",
     "text": [
      "/home/newhouse/miniconda3/lib/python3.7/site-packages/awkward/array/base.py:394: VisibleDeprecationWarning: Creating an ndarray from ragged nested sequences (which is a list-or-tuple of lists-or-tuples-or ndarrays with different lengths or shapes) is deprecated. If you meant to do this, you must specify 'dtype=object' when creating the ndarray.\n",
      "  return cls.numpy.array(value, copy=False)\n"
     ]
    },
    {
     "name": "stdout",
     "output_type": "stream",
     "text": [
      "Total vertices loaded: 712\n"
     ]
    },
    {
     "name": "stderr",
     "output_type": "stream",
     "text": [
      "/home/newhouse/miniconda3/lib/python3.7/site-packages/awkward/array/base.py:394: VisibleDeprecationWarning: Creating an ndarray from ragged nested sequences (which is a list-or-tuple of lists-or-tuples-or ndarrays with different lengths or shapes) is deprecated. If you meant to do this, you must specify 'dtype=object' when creating the ndarray.\n",
      "  return cls.numpy.array(value, copy=False)\n"
     ]
    },
    {
     "name": "stdout",
     "output_type": "stream",
     "text": [
      "Total vertices loaded: 720\n"
     ]
    },
    {
     "name": "stderr",
     "output_type": "stream",
     "text": [
      "/home/newhouse/miniconda3/lib/python3.7/site-packages/awkward/array/base.py:394: VisibleDeprecationWarning: Creating an ndarray from ragged nested sequences (which is a list-or-tuple of lists-or-tuples-or ndarrays with different lengths or shapes) is deprecated. If you meant to do this, you must specify 'dtype=object' when creating the ndarray.\n",
      "  return cls.numpy.array(value, copy=False)\n"
     ]
    },
    {
     "name": "stdout",
     "output_type": "stream",
     "text": [
      "Total vertices loaded: 728\n",
      "Finished\n"
     ]
    }
   ],
   "source": [
    "    \n",
    "vertex_branches = ['secVtx_VSI_LRTR3_1p0_mass',\n",
    "                    'secVtx_VSI_LRTR3_1p0_ntrk',\n",
    "                    'secVtx_VSI_LRTR3_1p0_ntrk_lrt',\n",
    "                    'secVtx_VSI_LRTR3_1p0_trk_isLRT',\n",
    "                    'secVtx_VSI_LRTR3_1p0_r',\n",
    "                    'secVtx_VSI_LRTR3_1p0_pt',\n",
    "                    'secVtx_VSI_LRTR3_1p0_eta',\n",
    "                    'secVtx_VSI_LRTR3_1p0_x',\n",
    "                    'secVtx_VSI_LRTR3_1p0_y',\n",
    "                    'secVtx_VSI_LRTR3_1p0_z',\n",
    "                    'secVtx_VSI_LRTR3_1p0_phi',\n",
    "                    'secVtx_VSI_LRTR3_1p0_maxOpAng'\n",
    "                  ]\n",
    "\n",
    "lepton_branches = ['muon_isTight',\n",
    "                    'muon_isMedium',\n",
    "                    'muon_isLoose',\n",
    "                    'muon_trkd0',\n",
    "                    'muon_trkz0sintheta',\n",
    "                    'el_LHTight',\n",
    "                    'el_LHMedium',\n",
    "                    'el_LHLoose',\n",
    "                    'el_trkd0',\n",
    "                    'el_trkz0sintheta',]\n",
    "\n",
    "pv_branches = ['vertex_x',\n",
    "                'vertex_y',\n",
    "                'vertex_z',]\n",
    "\n",
    "branches = vertex_branches + lepton_branches + pv_branches\n",
    "\n",
    "# remove duplicates\n",
    "branches = list(dict.fromkeys(branches))\n",
    "\n",
    "\n",
    "full_df = None\n",
    "\n",
    "# for it in uproot.tree.iterate('/data/hnl/KShort/ntuples/dijet_mc16e/JZ8/*', \n",
    "for it in uproot.tree.iterate('/data/hnl/KShort/ntuples/dijet_mc16e/JZ12/*/submitDir/data-tree/files.root', \n",
    "                             'outTree',\n",
    "                            branches=branches,\n",
    "                            ):    \n",
    "\n",
    "    # load chunk into dataframe\n",
    "    df = pd.DataFrame(it)\n",
    "    # remove bytesteam flag from columns\n",
    "    df.columns = branches\n",
    "\n",
    "    # calculate variables needed in selection\n",
    "    \n",
    "    # cut on control region\n",
    "    df['pass_cr'] = df.apply(calc_pass_cr, axis=1)\n",
    "    df = df.query('pass_cr > 0')\n",
    "    # cut on number of DVs\n",
    "    df = df[df['secVtx_VSI_LRTR3_1p0_mass'].str.len() > 1]\n",
    "    # calculate alpha\n",
    "    df['alpha'] = df.apply(calc_alpha, axis=1)\n",
    "    \n",
    "    # explode into a dataframe of just vertex quantities\n",
    "    vtx_df = df[vertex_branches+['alpha']].apply(pd.Series.explode)\n",
    "    \n",
    "    # only use 2-trk vertices\n",
    "    vtx_df = vtx_df.query('secVtx_VSI_LRTR3_1p0_ntrk == 2')\n",
    "    \n",
    "    # cut on alpha\n",
    "    vtx_df = vtx_df[abs(vtx_df['alpha']) < 0.01]\n",
    "\n",
    "    # append to the full dataframe\n",
    "    if full_df is None:\n",
    "        full_df = vtx_df\n",
    "    else:\n",
    "        full_df = full_df.append(vtx_df)\n",
    "    print(\"Total vertices loaded:\", len(full_df))\n",
    "    \n",
    "print(\"Finished\")"
   ]
  },
  {
   "cell_type": "code",
   "execution_count": 119,
   "metadata": {},
   "outputs": [
    {
     "data": {
      "text/plain": [
       "<matplotlib.axes._subplots.AxesSubplot at 0x7f5324582c90>"
      ]
     },
     "execution_count": 119,
     "metadata": {},
     "output_type": "execute_result"
    },
    {
     "data": {
      "image/png": "[encoded data removed]",
      "text/plain": [
       "<Figure size 432x288 with 1 Axes>"
      ]
     },
     "metadata": {
      "needs_background": "light"
     },
     "output_type": "display_data"
    }
   ],
   "source": [
    "full_df.secVtx_VSI_LRTR3_1p0_mass.hist(bins=np.linspace(0,1,500))"
   ]
  },
  {
   "cell_type": "code",
   "execution_count": 122,
   "metadata": {},
   "outputs": [],
   "source": []
  },
  {
   "cell_type": "code",
   "execution_count": 8,
   "metadata": {},
   "outputs": [],
   "source": [
    "# pd.read_pickle('/tmp/newhouse/jz12.pkl')\n",
    "\n",
    "\n",
    "df = pd.concat([\n",
    "    pd.read_pickle('/data/hnl/KShort/ntuples/dijet_mc16e/JZ12/output.pkl'),\n",
    "    pd.read_pickle('/data/hnl/KShort/ntuples/dijet_mc16e/JZ11/output.pkl'),\n",
    "    pd.read_pickle('/data/hnl/KShort/ntuples/dijet_mc16e/JZ10/output.pkl'),\n",
    "    pd.read_pickle('/data/hnl/KShort/ntuples/dijet_mc16e/JZ8/output.pkl'),\n",
    "    pd.read_pickle('/data/hnl/KShort/ntuples/dijet_mc16e/JZ9/output.pkl'),\n",
    "])\n",
    "    "
   ]
  },
  {
   "cell_type": "code",
   "execution_count": 9,
   "metadata": {},
   "outputs": [
    {
     "data": {
      "text/plain": [
       "<AxesSubplot:>"
      ]
     },
     "execution_count": 9,
     "metadata": {},
     "output_type": "execute_result"
    },
    {
     "data": {
      "image/png": "[encoded data removed]",
      "text/plain": [
       "<Figure size 432x288 with 1 Axes>"
      ]
     },
     "metadata": {
      "needs_background": "light"
     },
     "output_type": "display_data"
    }
   ],
   "source": [
    "df.secVtx_VSI_LRTR3_1p0_mass.hist(bins=np.linspace(0,1,1000))"
   ]
  },
  {
   "cell_type": "markdown",
   "metadata": {},
   "source": [
    "### Small snippet for merging multiple output MC files"
   ]
  },
  {
   "cell_type": "code",
   "execution_count": 4,
   "metadata": {},
   "outputs": [],
   "source": [
    "import glob\n",
    "import pandas as pd\n",
    "jzslice = 'JZ2'\n",
    "df = pd.concat([pd.read_pickle(path) for path in glob.glob(f'/data/hnl/KShort/ntuples/dijet_mc16e/{jzslice}_selected/*.pkl')])\n",
    "df.to_pickle(f'/data/hnl/KShort/ntuples/dijet_mc16e/{jzslice}/output.pkl')\n",
    "\n"
   ]
  },
  {
   "cell_type": "code",
   "execution_count": 25,
   "metadata": {},
   "outputs": [
    {
     "data": {
      "text/plain": [
       "<AxesSubplot:>"
      ]
     },
     "execution_count": 25,
     "metadata": {},
     "output_type": "execute_result"
    },
    {
     "data": {
      "image/png": "[encoded data removed]",
      "text/plain": [
       "<Figure size 432x288 with 1 Axes>"
      ]
     },
     "metadata": {
      "needs_background": "light"
     },
     "output_type": "display_data"
    }
   ],
   "source": [
    "df.secVtx_VSI_LRTR3_1p0_mass.hist(bins=np.linspace(0,1,1000))"
   ]
  },
  {
   "cell_type": "code",
   "execution_count": null,
   "metadata": {},
   "outputs": [],
   "source": []
  }
 ],
 "metadata": {
  "kernelspec": {
   "display_name": "Python",
   "language": "python",
   "name": "python379jvsc74a57bd02bd8a6aee1135029be5a191617e7d3f148d064ac39998b0aa8fd711311cd18dd"
  },
  "language_info": {
   "codemirror_mode": {
    "name": "ipython",
    "version": 3
   },
   "file_extension": ".py",
   "mimetype": "text/x-python",
   "name": "python",
   "nbconvert_exporter": "python",
   "pygments_lexer": "ipython3",
   "version": "3.7.9"
  }
 },
 "nbformat": 4,
 "nbformat_minor": 4
}
