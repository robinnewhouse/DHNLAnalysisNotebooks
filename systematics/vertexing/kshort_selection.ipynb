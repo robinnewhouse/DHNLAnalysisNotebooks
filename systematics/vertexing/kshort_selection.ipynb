{
 "cells": [
  {
   "cell_type": "code",
   "execution_count": 1,
   "metadata": {},
   "outputs": [],
   "source": [
    "import uproot\n",
    "import uproot_methods\n",
    "import numpy as np\n",
    "import pandas as pd\n"
   ]
  },
  {
   "cell_type": "code",
   "execution_count": 51,
   "metadata": {},
   "outputs": [
    {
     "data": {
      "text/plain": [
       "24000"
      ]
     },
     "execution_count": 51,
     "metadata": {},
     "output_type": "execute_result"
    }
   ],
   "source": [
    "f = uproot.open('/data/hnl/KShort/ntuples/dijet_mc16e/JZ8/user.rnewhous.23060122._000052.tree.root')\n",
    "outTree = f['outTree']\n",
    "df = outTree.pandas.df(flatten=False, entrystop=100)\n",
    "outTree.keys()"
   ]
  },
  {
   "cell_type": "markdown",
   "metadata": {},
   "source": [
    "# Control Region\n",
    "This is a mehod that calculates whether or not there is a prompt lepton in the event. This is the definition of our control region so we are not accidentally plotting potential signal regions."
   ]
  },
  {
   "cell_type": "code",
   "execution_count": 2,
   "metadata": {},
   "outputs": [],
   "source": [
    "def calc_pass_cr(row):\n",
    "    '''To be used with df.apply()'''\n",
    "    # Check muons\n",
    "    for loose, medium, tight, d0, z0sintheta in zip(row['muon_isLoose'], \n",
    "                                                    row['muon_isMedium'], \n",
    "                                                    row['muon_isTight'],\n",
    "                                                    row['muon_trkd0'],\n",
    "                                                    row['muon_trkz0sintheta'],\n",
    "                                   ):\n",
    "        if loose or medium or tight:\n",
    "            if abs(d0) < 3.0 or abs(z0sintheta) < 0.5: #mm\n",
    "                return 0 # Found a prompt muon. Does not pass CR.\n",
    "    # Check electrons\n",
    "    for loose, medium, tight, d0, z0sintheta in zip(row['el_LHLoose'], \n",
    "                                                    row['el_LHMedium'], \n",
    "                                                    row['el_LHTight'],\n",
    "                                                    row['el_trkd0'],\n",
    "                                                    row['el_trkz0sintheta'],\n",
    "                                   ):\n",
    "        if loose or medium or tight:\n",
    "            if abs(d0) < 3.0 or abs(z0sintheta) < 0.5: #mm\n",
    "                return 0 # Found a prompt electron. Does not pass CR.\n",
    "    return 1"
   ]
  },
  {
   "cell_type": "markdown",
   "metadata": {},
   "source": [
    "# Alpha\n",
    "This is the calculation of the parameter alpha, which is used to reduce the background when selecting k-short vertices."
   ]
  },
  {
   "cell_type": "code",
   "execution_count": 3,
   "metadata": {},
   "outputs": [],
   "source": [
    "def calc_alpha(row):\n",
    "    '''To be used with df.apply()'''\n",
    "    alphas = []\n",
    "    \n",
    "    if len(row['secVtx_VSI_LRTR3_1p0_x']) == 0:\n",
    "        return alphas\n",
    "    \n",
    "    # primary vertex position vector\n",
    "    pv_vector = uproot_methods.TVector3(row['vertex_x'],\n",
    "                                        row['vertex_y'],\n",
    "                                        row['vertex_z'])    \n",
    "\n",
    "    for dv_x, dv_y, dv_z, dv_phi in zip(row['secVtx_VSI_LRTR3_1p0_x'], \n",
    "                                        row['secVtx_VSI_LRTR3_1p0_y'], \n",
    "                                        row['secVtx_VSI_LRTR3_1p0_z'],\n",
    "                                        row['secVtx_VSI_LRTR3_1p0_phi'],\n",
    "                                       ):\n",
    "\n",
    "        # secondary vertex position vector\n",
    "        sv_vector = uproot_methods.TVector3(dv_x,\n",
    "                                            dv_y,\n",
    "                                            dv_z)\n",
    "\n",
    "        # vector from pv to sv\n",
    "        pv_sv_vector = sv_vector - pv_vector\n",
    "\n",
    "        # vector difference between momentum vector and position vector\n",
    "        alpha = pv_sv_vector.phi - dv_phi\n",
    "        # put in -pi to pi range\n",
    "        alpha = (alpha + np.pi/2) % np.pi*2 - np.pi\n",
    "        alphas.append(alpha)\n",
    "    return alphas"
   ]
  },
  {
   "cell_type": "markdown",
   "metadata": {},
   "source": [
    "# Iterating over a set of files\n",
    "Using this method, we will iterate over several trees chained together across files. Uproot has some good documentation on how this works. https://uproot.readthedocs.io/en/latest/opening-files.html#uproot-iterate"
   ]
  },
  {
   "cell_type": "code",
   "execution_count": 110,
   "metadata": {},
   "outputs": [
    {
     "name": "stdout",
     "output_type": "stream",
     "text": [
      "Total vertices loaded: 9\n",
      "Total vertices loaded: 40\n",
      "Total vertices loaded: 72\n",
      "Total vertices loaded: 77\n",
      "Total vertices loaded: 88\n",
      "Total vertices loaded: 95\n",
      "Total vertices loaded: 97\n",
      "Total vertices loaded: 110\n",
      "Total vertices loaded: 115\n",
      "Total vertices loaded: 125\n",
      "Total vertices loaded: 137\n",
      "Total vertices loaded: 146\n",
      "Total vertices loaded: 161\n",
      "Total vertices loaded: 166\n",
      "Total vertices loaded: 181\n",
      "Total vertices loaded: 189\n",
      "Total vertices loaded: 193\n",
      "Total vertices loaded: 208\n",
      "Total vertices loaded: 219\n",
      "Total vertices loaded: 228\n",
      "Total vertices loaded: 239\n",
      "Total vertices loaded: 250\n",
      "Total vertices loaded: 261\n",
      "Total vertices loaded: 273\n",
      "Total vertices loaded: 277\n",
      "Total vertices loaded: 288\n",
      "Total vertices loaded: 293\n",
      "Total vertices loaded: 307\n",
      "Total vertices loaded: 315\n",
      "Total vertices loaded: 324\n",
      "Total vertices loaded: 333\n",
      "Total vertices loaded: 338\n",
      "Total vertices loaded: 350\n",
      "Total vertices loaded: 363\n",
      "Total vertices loaded: 389\n",
      "Total vertices loaded: 402\n",
      "Total vertices loaded: 408\n",
      "Total vertices loaded: 420\n",
      "Total vertices loaded: 432\n",
      "Total vertices loaded: 440\n",
      "Total vertices loaded: 449\n",
      "Total vertices loaded: 453\n",
      "Total vertices loaded: 463\n",
      "Total vertices loaded: 474\n",
      "Total vertices loaded: 478\n",
      "Total vertices loaded: 489\n",
      "Total vertices loaded: 501\n",
      "Total vertices loaded: 512\n",
      "Total vertices loaded: 524\n",
      "Total vertices loaded: 538\n",
      "Total vertices loaded: 547\n",
      "Total vertices loaded: 552\n",
      "Total vertices loaded: 567\n",
      "Total vertices loaded: 570\n",
      "Total vertices loaded: 579\n",
      "Total vertices loaded: 592\n",
      "Total vertices loaded: 601\n",
      "Total vertices loaded: 609\n",
      "Total vertices loaded: 618\n",
      "Total vertices loaded: 624\n",
      "Total vertices loaded: 637\n",
      "Total vertices loaded: 644\n",
      "Total vertices loaded: 651\n",
      "Total vertices loaded: 655\n",
      "Total vertices loaded: 664\n",
      "Total vertices loaded: 673\n",
      "Total vertices loaded: 677\n",
      "Total vertices loaded: 683\n",
      "Total vertices loaded: 695\n",
      "Total vertices loaded: 700\n",
      "Total vertices loaded: 709\n",
      "Total vertices loaded: 712\n",
      "Total vertices loaded: 720\n",
      "Total vertices loaded: 728\n",
      "CPU times: user 4min 29s, sys: 3.91 s, total: 4min 33s\n",
      "Wall time: 4min 45s\n"
     ]
    }
   ],
   "source": [
    "    \n",
    "vertex_branches = ['secVtx_VSI_LRTR3_1p0_mass',\n",
    "                    'secVtx_VSI_LRTR3_1p0_ntrk',\n",
    "                    'secVtx_VSI_LRTR3_1p0_ntrk_lrt',\n",
    "                    'secVtx_VSI_LRTR3_1p0_trk_isLRT',\n",
    "                    'secVtx_VSI_LRTR3_1p0_r',\n",
    "                    'secVtx_VSI_LRTR3_1p0_pt',\n",
    "                    'secVtx_VSI_LRTR3_1p0_eta',\n",
    "                    'secVtx_VSI_LRTR3_1p0_x',\n",
    "                    'secVtx_VSI_LRTR3_1p0_y',\n",
    "                    'secVtx_VSI_LRTR3_1p0_z',\n",
    "                    'secVtx_VSI_LRTR3_1p0_phi',]\n",
    "\n",
    "lepton_branches = ['muon_isTight',\n",
    "                    'muon_isMedium',\n",
    "                    'muon_isLoose',\n",
    "                    'muon_trkd0',\n",
    "                    'muon_trkz0sintheta',\n",
    "                    'el_LHTight',\n",
    "                    'el_LHMedium',\n",
    "                    'el_LHLoose',\n",
    "                    'el_trkd0',\n",
    "                    'el_trkz0sintheta',]\n",
    "\n",
    "pv_branches = ['vertex_x',\n",
    "                'vertex_y',\n",
    "                'vertex_z',]\n",
    "\n",
    "branches = vertex_branches + lepton_branches + pv_branches\n",
    "\n",
    "# remove duplicates\n",
    "branches = list(dict.fromkeys(branches))\n",
    "\n",
    "\n",
    "full_df = None\n",
    "\n",
    "# for it in uproot.tree.iterate('/data/hnl/KShort/ntuples/dijet_mc16e/JZ8/*', \n",
    "for it in uproot.tree.iterate('/data/hnl/KShort/ntuples/dijet_mc16e/JZ12/*/submitDir/data-tree/files.root', \n",
    "                             'outTree',\n",
    "                            branches=branches,\n",
    "                            ):    \n",
    "\n",
    "    # load chunk into dataframe\n",
    "    df = pd.DataFrame(it)\n",
    "    # remove bytesteam flag from columns\n",
    "    df.columns = branches\n",
    "\n",
    "    # calculate variables needed in selection\n",
    "    \n",
    "    # cut on control region\n",
    "    df['pass_cr'] = df.apply(calc_pass_cr, axis=1)\n",
    "    df = df.query('pass_cr > 0')\n",
    "    # cut on number of DVs\n",
    "    df = df[df['secVtx_VSI_LRTR3_1p0_mass'].str.len() > 1]\n",
    "    # calculate alpha\n",
    "    df['alpha'] = df.apply(calc_alpha, axis=1)\n",
    "    \n",
    "    # explode into a dataframe of just vertex quantities\n",
    "    vtx_df = df[vertex_branches+['alpha']].apply(pd.Series.explode)\n",
    "    \n",
    "    # only use 2-trk vertices\n",
    "    vtx_df = vtx_df.query('secVtx_VSI_LRTR3_1p0_ntrk == 2')\n",
    "    \n",
    "    # cut on alpha\n",
    "    vtx_df = vtx_df[abs(vtx_df['alpha']) < 0.01]\n",
    "\n",
    "    # append to the full dataframe\n",
    "    if full_df is None:\n",
    "        full_df = vtx_df\n",
    "    else:\n",
    "        full_df = full_df.append(vtx_df)\n",
    "    print(\"Total vertices loaded:\", len(full_df))\n",
    "    \n",
    "print(\"Finished\")"
   ]
  },
  {
   "cell_type": "code",
   "execution_count": 119,
   "metadata": {},
   "outputs": [
    {
     "data": {
      "text/plain": [
       "<matplotlib.axes._subplots.AxesSubplot at 0x7f5324582c90>"
      ]
     },
     "execution_count": 119,
     "metadata": {},
     "output_type": "execute_result"
    },
    {
     "data": {
      "image/png": "[encoded data removed]",
      "text/plain": [
       "<Figure size 432x288 with 1 Axes>"
      ]
     },
     "metadata": {
      "needs_background": "light"
     },
     "output_type": "display_data"
    }
   ],
   "source": [
    "full_df.secVtx_VSI_LRTR3_1p0_mass.hist(bins=np.linspace(0,1,500))"
   ]
  },
  {
   "cell_type": "code",
   "execution_count": 122,
   "metadata": {},
   "outputs": [],
   "source": []
  },
  {
   "cell_type": "code",
   "execution_count": 8,
   "metadata": {},
   "outputs": [],
   "source": [
    "# pd.read_pickle('/tmp/newhouse/jz12.pkl')\n",
    "\n",
    "\n",
    "df = pd.concat([\n",
    "    pd.read_pickle('/data/hnl/KShort/ntuples/dijet_mc16e/JZ12/output.pkl'),\n",
    "    pd.read_pickle('/data/hnl/KShort/ntuples/dijet_mc16e/JZ11/output.pkl'),\n",
    "    pd.read_pickle('/data/hnl/KShort/ntuples/dijet_mc16e/JZ10/output.pkl'),\n",
    "    pd.read_pickle('/data/hnl/KShort/ntuples/dijet_mc16e/JZ8/output.pkl'),\n",
    "    pd.read_pickle('/data/hnl/KShort/ntuples/dijet_mc16e/JZ9/output.pkl'),\n",
    "])\n",
    "    "
   ]
  },
  {
   "cell_type": "code",
   "execution_count": 9,
   "metadata": {},
   "outputs": [
    {
     "data": {
      "text/plain": [
       "<AxesSubplot:>"
      ]
     },
     "execution_count": 9,
     "metadata": {},
     "output_type": "execute_result"
    },
    {
     "data": {
      "image/png": "[encoded data removed]",
      "text/plain": [
       "<Figure size 432x288 with 1 Axes>"
      ]
     },
     "metadata": {
      "needs_background": "light"
     },
     "output_type": "display_data"
    }
   ],
   "source": [
    "df.secVtx_VSI_LRTR3_1p0_mass.hist(bins=np.linspace(0,1,1000))"
   ]
  },
  {
   "cell_type": "markdown",
   "metadata": {},
   "source": [
    "### Small snippet for merging multiple output MC files"
   ]
  },
  {
   "cell_type": "code",
   "execution_count": 4,
   "metadata": {},
   "outputs": [],
   "source": [
    "import glob\n",
    "import pandas as pd\n",
    "jzslice = 'JZ2'\n",
    "df = pd.concat([pd.read_pickle(path) for path in glob.glob(f'/data/hnl/KShort/ntuples/dijet_mc16e/{jzslice}_selected/*.pkl')])\n",
    "df.to_pickle(f'/data/hnl/KShort/ntuples/dijet_mc16e/{jzslice}/output.pkl')\n",
    "\n"
   ]
  },
  {
   "cell_type": "code",
   "execution_count": 25,
   "metadata": {},
   "outputs": [
    {
     "data": {
      "text/plain": [
       "<AxesSubplot:>"
      ]
     },
     "execution_count": 25,
     "metadata": {},
     "output_type": "execute_result"
    },
    {
     "data": {
      "image/png": "[encoded data removed]",
      "text/plain": [
       "<Figure size 432x288 with 1 Axes>"
      ]
     },
     "metadata": {
      "needs_background": "light"
     },
     "output_type": "display_data"
    }
   ],
   "source": [
    "df.secVtx_VSI_LRTR3_1p0_mass.hist(bins=np.linspace(0,1,1000))"
   ]
  },
  {
   "cell_type": "code",
   "execution_count": null,
   "metadata": {},
   "outputs": [],
   "source": []
  }
 ],
 "metadata": {
  "kernelspec": {
   "display_name": "Python 3.7.6 64-bit ('base': conda)",
   "language": "python",
   "name": "python37664bitbasecondae8c51a13ffad4d91a272392ffade2be8"
  },
  "language_info": {
   "codemirror_mode": {
    "name": "ipython",
    "version": 3
   },
   "file_extension": ".py",
   "mimetype": "text/x-python",
   "name": "python",
   "nbconvert_exporter": "python",
   "pygments_lexer": "ipython3",
   "version": "3.7.9"
  }
 },
 "nbformat": 4,
 "nbformat_minor": 4
}
