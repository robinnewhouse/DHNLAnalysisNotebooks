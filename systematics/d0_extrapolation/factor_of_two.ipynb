{
 "cells": [
  {
   "cell_type": "code",
   "execution_count": 51,
   "metadata": {},
   "outputs": [
    {
     "name": "stdout",
     "output_type": "stream",
     "text": [
      "0.960435\n",
      "0.96016\n",
      "0.960848\n",
      "0.95986\n",
      "0.960708\n",
      "0.960122\n",
      "0.960208\n",
      "0.960411\n",
      "0.960464\n",
      "0.960641\n"
     ]
    }
   ],
   "source": [
    "import random\n",
    "\n",
    "tests = []\n"
   ]
  },
  {
   "cell_type": "code",
   "execution_count": 59,
   "metadata": {},
   "outputs": [],
   "source": [
    "\n",
    "for j in range(100):\n",
    "\n",
    "    n_starting_vertices = 1000000\n",
    "    misreconstruction_fraction = 0.02\n",
    "\n",
    "    n_remaining_vertices = 0\n",
    "\n",
    "    for i in range(n_starting_vertices):\n",
    "        if random.random() <= misreconstruction_fraction: continue\n",
    "        if random.random() <= misreconstruction_fraction: continue\n",
    "\n",
    "        n_remaining_vertices += 1\n",
    "\n",
    "    loss = n_remaining_vertices/n_starting_vertices\n",
    "    # print(loss)\n",
    "    tests.append(loss)"
   ]
  },
  {
   "cell_type": "code",
   "execution_count": 75,
   "metadata": {},
   "outputs": [
    {
     "name": "stdout",
     "output_type": "stream",
     "text": [
      "[0.960435, 0.96016, 0.960848, 0.95986, 0.960708, 0.960122, 0.960208, 0.960411, 0.960464, 0.960641, 0.960387, 0.96003, 0.960844, 0.960475, 0.960319, 0.960385, 0.960306, 0.960387, 0.960254, 0.960737, 0.960587, 0.96018, 0.960629, 0.960559, 0.960379, 0.96051, 0.96059, 0.960646, 0.9606, 0.960464, 0.960143, 0.960432, 0.960488, 0.960263, 0.960523, 0.960413, 0.960444, 0.960659, 0.960171, 0.960386, 0.960244, 0.96004, 0.960444, 0.960168, 0.96011, 0.960372, 0.960651, 0.960669, 0.960106, 0.960336, 0.960401, 0.960524, 0.960454, 0.960523, 0.960403, 0.960386, 0.960636, 0.960414, 0.960424, 0.960751, 0.960283, 0.96021, 0.960153, 0.960604, 0.960466, 0.960358, 0.960584, 0.960511, 0.96008, 0.960625, 0.960247, 0.960451, 0.960574, 0.960615, 0.960488, 0.960584, 0.960481, 0.960485, 0.960415, 0.960565, 0.960085, 0.960321, 0.960455, 0.960435, 0.959971, 0.960494, 0.960445, 0.960217, 0.960172, 0.960305, 0.960275, 0.960257, 0.960415, 0.960232, 0.960236, 0.9603, 0.960429, 0.960352, 0.960258, 0.96035, 0.960298, 0.960277, 0.960463, 0.960272, 0.960539, 0.960333, 0.960137, 0.960607, 0.960146, 0.960334, 0.960525, 0.960619, 0.96024, 0.960502, 0.960605, 0.960082, 0.960443, 0.96023, 0.960364, 0.960228, 0.960288, 0.960472, 0.960448, 0.960466, 0.960221, 0.960347, 0.960632, 0.960217, 0.960414, 0.960111]\n",
      "0.9603903538461539\n"
     ]
    },
    {
     "data": {
      "image/png": "[encoded data removed]",
      "text/plain": [
       "<Figure size 640x480 with 1 Axes>"
      ]
     },
     "metadata": {},
     "output_type": "display_data"
    }
   ],
   "source": [
    "print(tests)\n",
    "\n",
    "import matplotlib.pyplot as plt\n",
    "import numpy as np\n",
    "print (np.mean(tests))\n",
    "\n",
    "plt.hist(tests)\n",
    "plt.show()\n",
    "# appears to be 1-(.02+.02)+(.02*.02)"
   ]
  },
  {
   "cell_type": "code",
   "execution_count": 73,
   "metadata": {},
   "outputs": [
    {
     "data": {
      "text/plain": [
       "0.019996019999999982"
      ]
     },
     "execution_count": 73,
     "metadata": {},
     "output_type": "execute_result"
    }
   ],
   "source": [
    "# to get the other way\n",
    "# pretty close\n",
    "(1-.9604)/2 + ((1-.9604)/2)**2/2 "
   ]
  },
  {
   "cell_type": "code",
   "execution_count": null,
   "metadata": {},
   "outputs": [],
   "source": []
  }
 ],
 "metadata": {
  "interpreter": {
   "hash": "805a5ba2c5020bee6720168a4ac5eea6e198ac8599887a28b10c6a10ac198bfc"
  },
  "kernelspec": {
   "display_name": "Python 3.7.9 64-bit ('base': conda)",
   "name": "python3"
  },
  "language_info": {
   "codemirror_mode": {
    "name": "ipython",
    "version": 3
   },
   "file_extension": ".py",
   "mimetype": "text/x-python",
   "name": "python",
   "nbconvert_exporter": "python",
   "pygments_lexer": "ipython3",
   "version": "3.7.9"
  },
  "orig_nbformat": 4
 },
 "nbformat": 4,
 "nbformat_minor": 2
}
