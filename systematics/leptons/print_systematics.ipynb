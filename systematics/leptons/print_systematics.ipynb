{
 "metadata": {
  "language_info": {
   "codemirror_mode": {
    "name": "ipython",
    "version": 3
   },
   "file_extension": ".py",
   "mimetype": "text/x-python",
   "name": "python",
   "nbconvert_exporter": "python",
   "pygments_lexer": "ipython3",
   "version": "3.7.9"
  },
  "orig_nbformat": 4,
  "kernelspec": {
   "name": "python3",
   "display_name": "Python 3.7.9 64-bit ('base': conda)"
  },
  "interpreter": {
   "hash": "2bd8a6aee1135029be5a191617e7d3f148d064ac39998b0aa8fd711311cd18dd"
  }
 },
 "nbformat": 4,
 "nbformat_minor": 2,
 "cells": [
  {
   "cell_type": "code",
   "execution_count": 3,
   "metadata": {},
   "outputs": [],
   "source": [
    "import uproot"
   ]
  },
  {
   "cell_type": "code",
   "execution_count": 79,
   "metadata": {},
   "outputs": [
    {
     "output_type": "stream",
     "name": "stdout",
     "text": [
      "False    6401\nTrue     3599\nName: passes_trigger, dtype: int64\n"
     ]
    },
    {
     "output_type": "execute_result",
     "data": {
      "text/plain": [
       "                                          passedTriggers  passes_trigger\n",
       "entry                                                                   \n",
       "0      [b'HLT_mu26_ivarmedium', b'HLT_mu20_iloose_L1M...            True\n",
       "1      [b'HLT_mu26_ivarmedium', b'HLT_mu20_iloose_L1M...            True\n",
       "2      [b'HLT_mu26_ivarmedium', b'HLT_mu20_iloose_L1M...            True\n",
       "3      [b'HLT_mu26_ivarmedium', b'HLT_mu20_iloose_L1M...            True\n",
       "5      [b'HLT_mu26_ivarmedium', b'HLT_mu20_iloose_L1M...            True\n",
       "...                                                  ...             ...\n",
       "9992   [b'HLT_mu26_ivarmedium', b'HLT_mu20_iloose_L1M...            True\n",
       "9994   [b'HLT_mu26_ivarmedium', b'HLT_mu20_iloose_L1M...            True\n",
       "9995   [b'HLT_mu26_ivarmedium', b'HLT_mu20_iloose_L1M...            True\n",
       "9996   [b'HLT_mu26_ivarmedium', b'HLT_mu20_iloose_L1M...            True\n",
       "9997   [b'HLT_mu26_ivarmedium', b'HLT_mu20_iloose_L1M...            True\n",
       "\n",
       "[3599 rows x 2 columns]"
      ],
      "text/html": "<div>\n<style scoped>\n    .dataframe tbody tr th:only-of-type {\n        vertical-align: middle;\n    }\n\n    .dataframe tbody tr th {\n        vertical-align: top;\n    }\n\n    .dataframe thead th {\n        text-align: right;\n    }\n</style>\n<table border=\"1\" class=\"dataframe\">\n  <thead>\n    <tr style=\"text-align: right;\">\n      <th></th>\n      <th>passedTriggers</th>\n      <th>passes_trigger</th>\n    </tr>\n    <tr>\n      <th>entry</th>\n      <th></th>\n      <th></th>\n    </tr>\n  </thead>\n  <tbody>\n    <tr>\n      <th>0</th>\n      <td>[b'HLT_mu26_ivarmedium', b'HLT_mu20_iloose_L1M...</td>\n      <td>True</td>\n    </tr>\n    <tr>\n      <th>1</th>\n      <td>[b'HLT_mu26_ivarmedium', b'HLT_mu20_iloose_L1M...</td>\n      <td>True</td>\n    </tr>\n    <tr>\n      <th>2</th>\n      <td>[b'HLT_mu26_ivarmedium', b'HLT_mu20_iloose_L1M...</td>\n      <td>True</td>\n    </tr>\n    <tr>\n      <th>3</th>\n      <td>[b'HLT_mu26_ivarmedium', b'HLT_mu20_iloose_L1M...</td>\n      <td>True</td>\n    </tr>\n    <tr>\n      <th>5</th>\n      <td>[b'HLT_mu26_ivarmedium', b'HLT_mu20_iloose_L1M...</td>\n      <td>True</td>\n    </tr>\n    <tr>\n      <th>...</th>\n      <td>...</td>\n      <td>...</td>\n    </tr>\n    <tr>\n      <th>9992</th>\n      <td>[b'HLT_mu26_ivarmedium', b'HLT_mu20_iloose_L1M...</td>\n      <td>True</td>\n    </tr>\n    <tr>\n      <th>9994</th>\n      <td>[b'HLT_mu26_ivarmedium', b'HLT_mu20_iloose_L1M...</td>\n      <td>True</td>\n    </tr>\n    <tr>\n      <th>9995</th>\n      <td>[b'HLT_mu26_ivarmedium', b'HLT_mu20_iloose_L1M...</td>\n      <td>True</td>\n    </tr>\n    <tr>\n      <th>9996</th>\n      <td>[b'HLT_mu26_ivarmedium', b'HLT_mu20_iloose_L1M...</td>\n      <td>True</td>\n    </tr>\n    <tr>\n      <th>9997</th>\n      <td>[b'HLT_mu26_ivarmedium', b'HLT_mu20_iloose_L1M...</td>\n      <td>True</td>\n    </tr>\n  </tbody>\n</table>\n<p>3599 rows × 2 columns</p>\n</div>"
     },
     "metadata": {},
     "execution_count": 79
    }
   ],
   "source": [
    "df = uproot.open('/data/hnl/ntuples/v7p1_ntuples/mc/group.phys-exotics.mc16_13TeV.311633.DAOD_EXOT29.e7422_e5984_a875_r11915_r11748_p4482.dhnl_ntuple_v7p1.v1_tree.root/group.phys-exotics.26069101._000001.tree.root')['nominal'].pandas.df(['passedTriggers'], flatten=False);\n",
    "df['passes_trigger'] = df.apply(lambda x : b'HLT_mu26_ivarmedium' in x[0] and b'HLT_mu20_iloose_L1MU15' in x[0] , axis=1);\n",
    "print(df['passes_trigger'].value_counts())\n",
    "df[df.passes_trigger]"
   ]
  },
  {
   "cell_type": "code",
   "execution_count": null,
   "metadata": {},
   "outputs": [],
   "source": []
  },
  {
   "cell_type": "code",
   "execution_count": 60,
   "metadata": {},
   "outputs": [
    {
     "output_type": "stream",
     "name": "stderr",
     "text": [
      "/home/newhouse/miniconda3/lib/python3.7/site-packages/awkward/array/base.py:394: VisibleDeprecationWarning: Creating an ndarray from ragged nested sequences (which is a list-or-tuple of lists-or-tuples-or ndarrays with different lengths or shapes) is deprecated. If you meant to do this, you must specify 'dtype=object' when creating the ndarray.\n  return cls.numpy.array(value, copy=False)\n"
     ]
    },
    {
     "output_type": "execute_result",
     "data": {
      "text/plain": [
       "False    6401\n",
       "True     3599\n",
       "Name: passes_trigger, dtype: int64"
      ]
     },
     "metadata": {},
     "execution_count": 60
    }
   ],
   "source": [
    "df = uproot.open('/data/hnl/ntuples/v6p0_ntuples/mc/group.phys-exotics.mc16_13TeV.311633.DAOD_EXOT29.e7422_e5984_a875_r11915_r11748_p4482.dhnl_ntuple_v6p0.v2_tree.root/group.phys-exotics.25819651._000001.tree.root')['outTree'].pandas.df(['passedTriggers'], flatten=False);\n",
    "df['passes_trigger'] = df.apply(lambda x : b'HLT_mu26_ivarmedium' in x[0] and b'HLT_mu20_iloose_L1MU15' in x[0] , axis=1)\n",
    "df\n",
    "df['passes_trigger'].value_counts()\n"
   ]
  },
  {
   "cell_type": "code",
   "execution_count": 4,
   "metadata": {},
   "outputs": [
    {
     "output_type": "execute_result",
     "data": {
      "text/plain": [
       "                                 muon_pt  \\\n",
       "entry                                      \n",
       "0       [31.53958, 27.567934, 12.247906]   \n",
       "1      [44.376354, 38.709682, 34.188484]   \n",
       "2       [40.25625, 18.751348, 12.825718]   \n",
       "3       [26.539574, 10.159995, 3.363718]   \n",
       "4        [41.10127, 23.70125, 3.2300112]   \n",
       "5                  [35.785618, 9.815993]   \n",
       "6                            [36.081512]   \n",
       "7                             [26.80445]   \n",
       "8       [38.973213, 10.452066, 8.143545]   \n",
       "9                            [5.6330285]   \n",
       "\n",
       "                         muon_RecoEff_SF_Medium_sysNames  \\\n",
       "entry                                                      \n",
       "0      [b'', b'MUON_EFF_RECO_STAT_LOWPT__1down', b'MU...   \n",
       "1      [b'', b'MUON_EFF_RECO_STAT_LOWPT__1down', b'MU...   \n",
       "2      [b'', b'MUON_EFF_RECO_STAT_LOWPT__1down', b'MU...   \n",
       "3      [b'', b'MUON_EFF_RECO_STAT_LOWPT__1down', b'MU...   \n",
       "4      [b'', b'MUON_EFF_RECO_STAT_LOWPT__1down', b'MU...   \n",
       "5      [b'', b'MUON_EFF_RECO_STAT_LOWPT__1down', b'MU...   \n",
       "6      [b'', b'MUON_EFF_RECO_STAT_LOWPT__1down', b'MU...   \n",
       "7      [b'', b'MUON_EFF_RECO_STAT_LOWPT__1down', b'MU...   \n",
       "8      [b'', b'MUON_EFF_RECO_STAT_LOWPT__1down', b'MU...   \n",
       "9      [b'', b'MUON_EFF_RECO_STAT_LOWPT__1down', b'MU...   \n",
       "\n",
       "                              muon_RecoEff_SF_RecoMedium  \\\n",
       "entry                                                      \n",
       "0      [[0.9949961, 0.9949961, 0.9949961, 0.99443436,...   \n",
       "1      [[1.0045885, 1.0045885, 1.0045885, 1.0034566, ...   \n",
       "2      [[0.99778664, 0.99778664, 0.99778664, 0.997381...   \n",
       "3      [[0.993639, 0.993639, 0.993639, 0.99311274, 0....   \n",
       "4      [[0.9962693, 0.9962693, 0.9962693, 0.99571514,...   \n",
       "5      [[0.99706125, 0.99706125, 0.99706125, 0.995254...   \n",
       "6      [[0.98684436, 0.98684436, 0.98684436, 0.986134...   \n",
       "7      [[0.995113, 0.995113, 0.995113, 0.99454427, 0....   \n",
       "8      [[0.9960908, 0.9960908, 0.9960908, 0.995518, 0...   \n",
       "9      [[0.99386644, 0.9914059, 0.996327, 0.99386644,...   \n",
       "\n",
       "          muon_TrigEff_SF_HLT_mu26_ivarmedium_RecoMedium  \\\n",
       "entry                                                      \n",
       "0      [[0.99770015, 0.9950428, 1.0002999, 0.9929889,...   \n",
       "1      [[0.94498914, 0.93305916, 0.95687616, 0.939446...   \n",
       "2      [[0.9447082, 0.94247115, 0.94692093, 0.9387388...   \n",
       "3      [[0.0, 0.0, 0.0, 0.0, 0.0, 0.0, 0.0, 0.0, 0.0,...   \n",
       "4      [[1.0103573, 1.0082562, 1.0124213, 1.0068669, ...   \n",
       "5      [[0.0, 0.0, 0.0, 0.0, 0.0], [0.0, 0.0, 0.0, 0....   \n",
       "6      [[0.9914931, 0.9888805, 0.9940666, 0.98879933,...   \n",
       "7      [[0.0, 0.0, 0.0, 0.0, 0.0, 0.0, 0.0, 0.0, 0.0,...   \n",
       "8      [[1.0206124, 1.0161854, 1.0247872, 1.0164986, ...   \n",
       "9      [[0.0, 0.0, 0.0, 0.0, 0.0, 0.0, 0.0, 0.0, 0.0,...   \n",
       "\n",
       "       muon_TrigEff_SF_HLT_mu20_iloose_L1MU15_RecoMedium  \n",
       "entry                                                     \n",
       "0                               [[-1.0], [-1.0], [-1.0]]  \n",
       "1                               [[-1.0], [-1.0], [-1.0]]  \n",
       "2                               [[-1.0], [-1.0], [-1.0]]  \n",
       "3                               [[-1.0], [-1.0], [-1.0]]  \n",
       "4                               [[-1.0], [-1.0], [-1.0]]  \n",
       "5      [[0.9216986, 0.91083425, 0.9321743, 0.9142554,...  \n",
       "6                                               [[-1.0]]  \n",
       "7                                               [[-1.0]]  \n",
       "8                               [[-1.0], [-1.0], [-1.0]]  \n",
       "9                                               [[-1.0]]  "
      ],
      "text/html": "<div>\n<style scoped>\n    .dataframe tbody tr th:only-of-type {\n        vertical-align: middle;\n    }\n\n    .dataframe tbody tr th {\n        vertical-align: top;\n    }\n\n    .dataframe thead th {\n        text-align: right;\n    }\n</style>\n<table border=\"1\" class=\"dataframe\">\n  <thead>\n    <tr style=\"text-align: right;\">\n      <th></th>\n      <th>muon_pt</th>\n      <th>muon_RecoEff_SF_Medium_sysNames</th>\n      <th>muon_RecoEff_SF_RecoMedium</th>\n      <th>muon_TrigEff_SF_HLT_mu26_ivarmedium_RecoMedium</th>\n      <th>muon_TrigEff_SF_HLT_mu20_iloose_L1MU15_RecoMedium</th>\n    </tr>\n    <tr>\n      <th>entry</th>\n      <th></th>\n      <th></th>\n      <th></th>\n      <th></th>\n      <th></th>\n    </tr>\n  </thead>\n  <tbody>\n    <tr>\n      <th>0</th>\n      <td>[31.53958, 27.567934, 12.247906]</td>\n      <td>[b'', b'MUON_EFF_RECO_STAT_LOWPT__1down', b'MU...</td>\n      <td>[[0.9949961, 0.9949961, 0.9949961, 0.99443436,...</td>\n      <td>[[0.99770015, 0.9950428, 1.0002999, 0.9929889,...</td>\n      <td>[[-1.0], [-1.0], [-1.0]]</td>\n    </tr>\n    <tr>\n      <th>1</th>\n      <td>[44.376354, 38.709682, 34.188484]</td>\n      <td>[b'', b'MUON_EFF_RECO_STAT_LOWPT__1down', b'MU...</td>\n      <td>[[1.0045885, 1.0045885, 1.0045885, 1.0034566, ...</td>\n      <td>[[0.94498914, 0.93305916, 0.95687616, 0.939446...</td>\n      <td>[[-1.0], [-1.0], [-1.0]]</td>\n    </tr>\n    <tr>\n      <th>2</th>\n      <td>[40.25625, 18.751348, 12.825718]</td>\n      <td>[b'', b'MUON_EFF_RECO_STAT_LOWPT__1down', b'MU...</td>\n      <td>[[0.99778664, 0.99778664, 0.99778664, 0.997381...</td>\n      <td>[[0.9447082, 0.94247115, 0.94692093, 0.9387388...</td>\n      <td>[[-1.0], [-1.0], [-1.0]]</td>\n    </tr>\n    <tr>\n      <th>3</th>\n      <td>[26.539574, 10.159995, 3.363718]</td>\n      <td>[b'', b'MUON_EFF_RECO_STAT_LOWPT__1down', b'MU...</td>\n      <td>[[0.993639, 0.993639, 0.993639, 0.99311274, 0....</td>\n      <td>[[0.0, 0.0, 0.0, 0.0, 0.0, 0.0, 0.0, 0.0, 0.0,...</td>\n      <td>[[-1.0], [-1.0], [-1.0]]</td>\n    </tr>\n    <tr>\n      <th>4</th>\n      <td>[41.10127, 23.70125, 3.2300112]</td>\n      <td>[b'', b'MUON_EFF_RECO_STAT_LOWPT__1down', b'MU...</td>\n      <td>[[0.9962693, 0.9962693, 0.9962693, 0.99571514,...</td>\n      <td>[[1.0103573, 1.0082562, 1.0124213, 1.0068669, ...</td>\n      <td>[[-1.0], [-1.0], [-1.0]]</td>\n    </tr>\n    <tr>\n      <th>5</th>\n      <td>[35.785618, 9.815993]</td>\n      <td>[b'', b'MUON_EFF_RECO_STAT_LOWPT__1down', b'MU...</td>\n      <td>[[0.99706125, 0.99706125, 0.99706125, 0.995254...</td>\n      <td>[[0.0, 0.0, 0.0, 0.0, 0.0], [0.0, 0.0, 0.0, 0....</td>\n      <td>[[0.9216986, 0.91083425, 0.9321743, 0.9142554,...</td>\n    </tr>\n    <tr>\n      <th>6</th>\n      <td>[36.081512]</td>\n      <td>[b'', b'MUON_EFF_RECO_STAT_LOWPT__1down', b'MU...</td>\n      <td>[[0.98684436, 0.98684436, 0.98684436, 0.986134...</td>\n      <td>[[0.9914931, 0.9888805, 0.9940666, 0.98879933,...</td>\n      <td>[[-1.0]]</td>\n    </tr>\n    <tr>\n      <th>7</th>\n      <td>[26.80445]</td>\n      <td>[b'', b'MUON_EFF_RECO_STAT_LOWPT__1down', b'MU...</td>\n      <td>[[0.995113, 0.995113, 0.995113, 0.99454427, 0....</td>\n      <td>[[0.0, 0.0, 0.0, 0.0, 0.0, 0.0, 0.0, 0.0, 0.0,...</td>\n      <td>[[-1.0]]</td>\n    </tr>\n    <tr>\n      <th>8</th>\n      <td>[38.973213, 10.452066, 8.143545]</td>\n      <td>[b'', b'MUON_EFF_RECO_STAT_LOWPT__1down', b'MU...</td>\n      <td>[[0.9960908, 0.9960908, 0.9960908, 0.995518, 0...</td>\n      <td>[[1.0206124, 1.0161854, 1.0247872, 1.0164986, ...</td>\n      <td>[[-1.0], [-1.0], [-1.0]]</td>\n    </tr>\n    <tr>\n      <th>9</th>\n      <td>[5.6330285]</td>\n      <td>[b'', b'MUON_EFF_RECO_STAT_LOWPT__1down', b'MU...</td>\n      <td>[[0.99386644, 0.9914059, 0.996327, 0.99386644,...</td>\n      <td>[[0.0, 0.0, 0.0, 0.0, 0.0, 0.0, 0.0, 0.0, 0.0,...</td>\n      <td>[[-1.0]]</td>\n    </tr>\n  </tbody>\n</table>\n</div>"
     },
     "metadata": {},
     "execution_count": 4
    }
   ],
   "source": [
    "df"
   ]
  },
  {
   "cell_type": "code",
   "execution_count": 5,
   "metadata": {},
   "outputs": [
    {
     "output_type": "execute_result",
     "data": {
      "text/plain": [
       "entry\n",
       "0    0.994996\n",
       "1    1.004588\n",
       "2    0.997787\n",
       "3    0.993639\n",
       "4    0.996269\n",
       "5    0.997061\n",
       "6    0.986844\n",
       "7    0.995113\n",
       "8    0.996091\n",
       "9    0.993866\n",
       "Name: muon_RecoEff_SF_RecoMedium, dtype: float64"
      ]
     },
     "metadata": {},
     "execution_count": 5
    }
   ],
   "source": [
    "df['muon_RecoEff_SF_RecoMedium'].apply(lambda x: x[0][0])"
   ]
  },
  {
   "cell_type": "code",
   "execution_count": 9,
   "metadata": {},
   "outputs": [
    {
     "output_type": "stream",
     "name": "stderr",
     "text": [
      "/home/newhouse/miniconda3/lib/python3.7/site-packages/awkward/array/base.py:394: VisibleDeprecationWarning: Creating an ndarray from ragged nested sequences (which is a list-or-tuple of lists-or-tuples-or ndarrays with different lengths or shapes) is deprecated. If you meant to do this, you must specify 'dtype=object' when creating the ndarray.\n  return cls.numpy.array(value, copy=False)\n"
     ]
    },
    {
     "output_type": "execute_result",
     "data": {
      "text/plain": [
       "                                                   el_pt  \\\n",
       "entry                                                      \n",
       "0              [4.255289, 3.462038, 3.239674, 3.0508854]   \n",
       "1                                  [6.4449067, 4.087618]   \n",
       "2                                             [3.233778]   \n",
       "3                                             [2.942104]   \n",
       "4      [5.3327417, 4.7048087, 4.2417808, 4.1747055, 3...   \n",
       "5                                                     []   \n",
       "6                                  [4.8872313, 3.491988]   \n",
       "7                                                     []   \n",
       "8                                 [11.495093, 6.4608145]   \n",
       "9                                             [4.924631]   \n",
       "\n",
       "                                el_PIDEff_SF_LooseBLayer  \\\n",
       "entry                                                      \n",
       "0      [[1.0, 1.0, 1.0, 1.0, 1.0, 1.0, 1.0, 1.0, 1.0,...   \n",
       "1      [[1.1792234, 1.1792234, 1.1792234, 1.182844, 1...   \n",
       "2      [[1.0, 1.0, 1.0, 1.0, 1.0, 1.0, 1.0, 1.0, 1.0,...   \n",
       "3      [[1.0, 1.0, 1.0, 1.0, 1.0, 1.0, 1.0, 1.0, 1.0,...   \n",
       "4      [[1.1792234, 1.1792234, 1.1792234, 1.182844, 1...   \n",
       "5                                                     []   \n",
       "6      [[1.1684479, 1.1684479, 1.1684479, 1.1885619, ...   \n",
       "7                                                     []   \n",
       "8      [[0.9654389, 0.9654389, 0.9654389, 0.9739127, ...   \n",
       "9      [[1.1792234, 1.1792234, 1.1792234, 1.182844, 1...   \n",
       "\n",
       "                                     el_PIDEff_SF_Medium  \\\n",
       "entry                                                      \n",
       "0      [[1.0, 1.0, 1.0, 1.0, 1.0, 1.0, 1.0, 1.0, 1.0,...   \n",
       "1      [[1.2492296, 1.2492296, 1.2492296, 1.2219676, ...   \n",
       "2      [[1.0, 1.0, 1.0, 1.0, 1.0, 1.0, 1.0, 1.0, 1.0,...   \n",
       "3      [[1.0, 1.0, 1.0, 1.0, 1.0, 1.0, 1.0, 1.0, 1.0,...   \n",
       "4      [[1.2492296, 1.2492296, 1.2492296, 1.2219676, ...   \n",
       "5                                                     []   \n",
       "6      [[1.0213215, 1.0213215, 1.0213215, 1.0309108, ...   \n",
       "7                                                     []   \n",
       "8      [[1.0066272, 1.0066272, 1.0066272, 1.0131708, ...   \n",
       "9      [[1.2492296, 1.2492296, 1.2492296, 1.2219676, ...   \n",
       "\n",
       "      el_TrigEff_SF_SINGLE_E_2015_e24_lhmedium_L1EM20VH_OR_e60_lhmedium_OR_e120_lhloose_2016_2018_e26_lhtight_nod0_ivarloose_OR_e60_lhmedium_nod0_OR_e140_lhloose_nod0_LooseBLayer_isolGradient  \\\n",
       "entry                                                                                                                                                                                             \n",
       "0      [[1.0, 1.0, 1.0, 1.0, 1.0, 1.0, 1.0, 1.0, 1.0,...                                                                                                                                          \n",
       "1      [[1.0, 1.0, 1.0, 1.0, 1.0, 1.0, 1.0, 1.0, 1.0,...                                                                                                                                          \n",
       "2      [[1.0, 1.0, 1.0, 1.0, 1.0, 1.0, 1.0, 1.0, 1.0,...                                                                                                                                          \n",
       "3      [[1.0, 1.0, 1.0, 1.0, 1.0, 1.0, 1.0, 1.0, 1.0,...                                                                                                                                          \n",
       "4      [[1.0, 1.0, 1.0, 1.0, 1.0, 1.0, 1.0, 1.0, 1.0,...                                                                                                                                          \n",
       "5                                                     []                                                                                                                                          \n",
       "6      [[1.0, 1.0, 1.0, 1.0, 1.0, 1.0, 1.0, 1.0, 1.0,...                                                                                                                                          \n",
       "7                                                     []                                                                                                                                          \n",
       "8      [[0.0, 0.0, 0.0, 0.0, 0.0, 0.0, 0.0, 0.0, 0.0,...                                                                                                                                          \n",
       "9      [[1.0, 1.0, 1.0, 1.0, 1.0, 1.0, 1.0, 1.0, 1.0,...                                                                                                                                          \n",
       "\n",
       "      el_TrigEff_SF_SINGLE_E_2015_e24_lhmedium_L1EM20VH_OR_e60_lhmedium_OR_e120_lhloose_2016_2018_e26_lhtight_nod0_ivarloose_OR_e60_lhmedium_nod0_OR_e140_lhloose_nod0_Medium_isolGradient  \n",
       "entry                                                                                                                                                                                       \n",
       "0      [[1.0, 1.0, 1.0, 1.0, 1.0, 1.0, 1.0, 1.0, 1.0,...                                                                                                                                    \n",
       "1      [[1.0, 1.0, 1.0, 1.0, 1.0, 1.0, 1.0, 1.0, 1.0,...                                                                                                                                    \n",
       "2      [[1.0, 1.0, 1.0, 1.0, 1.0, 1.0, 1.0, 1.0, 1.0,...                                                                                                                                    \n",
       "3      [[1.0, 1.0, 1.0, 1.0, 1.0, 1.0, 1.0, 1.0, 1.0,...                                                                                                                                    \n",
       "4      [[1.0, 1.0, 1.0, 1.0, 1.0, 1.0, 1.0, 1.0, 1.0,...                                                                                                                                    \n",
       "5                                                     []                                                                                                                                    \n",
       "6      [[1.0, 1.0, 1.0, 1.0, 1.0, 1.0, 1.0, 1.0, 1.0,...                                                                                                                                    \n",
       "7                                                     []                                                                                                                                    \n",
       "8      [[0.0, 0.0, 0.0, 0.0, 0.0, 0.0, 0.0, 0.0, 0.0,...                                                                                                                                    \n",
       "9      [[1.0, 1.0, 1.0, 1.0, 1.0, 1.0, 1.0, 1.0, 1.0,...                                                                                                                                    "
      ],
      "text/html": "<div>\n<style scoped>\n    .dataframe tbody tr th:only-of-type {\n        vertical-align: middle;\n    }\n\n    .dataframe tbody tr th {\n        vertical-align: top;\n    }\n\n    .dataframe thead th {\n        text-align: right;\n    }\n</style>\n<table border=\"1\" class=\"dataframe\">\n  <thead>\n    <tr style=\"text-align: right;\">\n      <th></th>\n      <th>el_pt</th>\n      <th>el_PIDEff_SF_LooseBLayer</th>\n      <th>el_PIDEff_SF_Medium</th>\n      <th>el_TrigEff_SF_SINGLE_E_2015_e24_lhmedium_L1EM20VH_OR_e60_lhmedium_OR_e120_lhloose_2016_2018_e26_lhtight_nod0_ivarloose_OR_e60_lhmedium_nod0_OR_e140_lhloose_nod0_LooseBLayer_isolGradient</th>\n      <th>el_TrigEff_SF_SINGLE_E_2015_e24_lhmedium_L1EM20VH_OR_e60_lhmedium_OR_e120_lhloose_2016_2018_e26_lhtight_nod0_ivarloose_OR_e60_lhmedium_nod0_OR_e140_lhloose_nod0_Medium_isolGradient</th>\n    </tr>\n    <tr>\n      <th>entry</th>\n      <th></th>\n      <th></th>\n      <th></th>\n      <th></th>\n      <th></th>\n    </tr>\n  </thead>\n  <tbody>\n    <tr>\n      <th>0</th>\n      <td>[4.255289, 3.462038, 3.239674, 3.0508854]</td>\n      <td>[[1.0, 1.0, 1.0, 1.0, 1.0, 1.0, 1.0, 1.0, 1.0,...</td>\n      <td>[[1.0, 1.0, 1.0, 1.0, 1.0, 1.0, 1.0, 1.0, 1.0,...</td>\n      <td>[[1.0, 1.0, 1.0, 1.0, 1.0, 1.0, 1.0, 1.0, 1.0,...</td>\n      <td>[[1.0, 1.0, 1.0, 1.0, 1.0, 1.0, 1.0, 1.0, 1.0,...</td>\n    </tr>\n    <tr>\n      <th>1</th>\n      <td>[6.4449067, 4.087618]</td>\n      <td>[[1.1792234, 1.1792234, 1.1792234, 1.182844, 1...</td>\n      <td>[[1.2492296, 1.2492296, 1.2492296, 1.2219676, ...</td>\n      <td>[[1.0, 1.0, 1.0, 1.0, 1.0, 1.0, 1.0, 1.0, 1.0,...</td>\n      <td>[[1.0, 1.0, 1.0, 1.0, 1.0, 1.0, 1.0, 1.0, 1.0,...</td>\n    </tr>\n    <tr>\n      <th>2</th>\n      <td>[3.233778]</td>\n      <td>[[1.0, 1.0, 1.0, 1.0, 1.0, 1.0, 1.0, 1.0, 1.0,...</td>\n      <td>[[1.0, 1.0, 1.0, 1.0, 1.0, 1.0, 1.0, 1.0, 1.0,...</td>\n      <td>[[1.0, 1.0, 1.0, 1.0, 1.0, 1.0, 1.0, 1.0, 1.0,...</td>\n      <td>[[1.0, 1.0, 1.0, 1.0, 1.0, 1.0, 1.0, 1.0, 1.0,...</td>\n    </tr>\n    <tr>\n      <th>3</th>\n      <td>[2.942104]</td>\n      <td>[[1.0, 1.0, 1.0, 1.0, 1.0, 1.0, 1.0, 1.0, 1.0,...</td>\n      <td>[[1.0, 1.0, 1.0, 1.0, 1.0, 1.0, 1.0, 1.0, 1.0,...</td>\n      <td>[[1.0, 1.0, 1.0, 1.0, 1.0, 1.0, 1.0, 1.0, 1.0,...</td>\n      <td>[[1.0, 1.0, 1.0, 1.0, 1.0, 1.0, 1.0, 1.0, 1.0,...</td>\n    </tr>\n    <tr>\n      <th>4</th>\n      <td>[5.3327417, 4.7048087, 4.2417808, 4.1747055, 3...</td>\n      <td>[[1.1792234, 1.1792234, 1.1792234, 1.182844, 1...</td>\n      <td>[[1.2492296, 1.2492296, 1.2492296, 1.2219676, ...</td>\n      <td>[[1.0, 1.0, 1.0, 1.0, 1.0, 1.0, 1.0, 1.0, 1.0,...</td>\n      <td>[[1.0, 1.0, 1.0, 1.0, 1.0, 1.0, 1.0, 1.0, 1.0,...</td>\n    </tr>\n    <tr>\n      <th>5</th>\n      <td>[]</td>\n      <td>[]</td>\n      <td>[]</td>\n      <td>[]</td>\n      <td>[]</td>\n    </tr>\n    <tr>\n      <th>6</th>\n      <td>[4.8872313, 3.491988]</td>\n      <td>[[1.1684479, 1.1684479, 1.1684479, 1.1885619, ...</td>\n      <td>[[1.0213215, 1.0213215, 1.0213215, 1.0309108, ...</td>\n      <td>[[1.0, 1.0, 1.0, 1.0, 1.0, 1.0, 1.0, 1.0, 1.0,...</td>\n      <td>[[1.0, 1.0, 1.0, 1.0, 1.0, 1.0, 1.0, 1.0, 1.0,...</td>\n    </tr>\n    <tr>\n      <th>7</th>\n      <td>[]</td>\n      <td>[]</td>\n      <td>[]</td>\n      <td>[]</td>\n      <td>[]</td>\n    </tr>\n    <tr>\n      <th>8</th>\n      <td>[11.495093, 6.4608145]</td>\n      <td>[[0.9654389, 0.9654389, 0.9654389, 0.9739127, ...</td>\n      <td>[[1.0066272, 1.0066272, 1.0066272, 1.0131708, ...</td>\n      <td>[[0.0, 0.0, 0.0, 0.0, 0.0, 0.0, 0.0, 0.0, 0.0,...</td>\n      <td>[[0.0, 0.0, 0.0, 0.0, 0.0, 0.0, 0.0, 0.0, 0.0,...</td>\n    </tr>\n    <tr>\n      <th>9</th>\n      <td>[4.924631]</td>\n      <td>[[1.1792234, 1.1792234, 1.1792234, 1.182844, 1...</td>\n      <td>[[1.2492296, 1.2492296, 1.2492296, 1.2219676, ...</td>\n      <td>[[1.0, 1.0, 1.0, 1.0, 1.0, 1.0, 1.0, 1.0, 1.0,...</td>\n      <td>[[1.0, 1.0, 1.0, 1.0, 1.0, 1.0, 1.0, 1.0, 1.0,...</td>\n    </tr>\n  </tbody>\n</table>\n</div>"
     },
     "metadata": {},
     "execution_count": 9
    }
   ],
   "source": [
    "df = nominal.pandas.df(['el_pt', 'el_PIDEff_SF_*', 'el_TrigEff_SF_SINGLE_E_*'], flatten=False)\n",
    "df\n"
   ]
  },
  {
   "cell_type": "code",
   "execution_count": 26,
   "metadata": {},
   "outputs": [
    {
     "output_type": "stream",
     "name": "stdout",
     "text": [
      "['nominal', 'MUON_EFF_TrigStatUncertainty__1down', 'MUON_EFF_TrigStatUncertainty__1up', 'MUON_EFF_TrigSystUncertainty__1down', 'MUON_EFF_TrigSystUncertainty__1up']\n"
     ]
    },
    {
     "output_type": "execute_result",
     "data": {
      "text/plain": [
       "[b'MuonEfficiencyCorrector_RecoSyst_RecoMedium;1',\n",
       " b'MuonEfficiencyCorrector_IsoSyst_IsoFCLoose;1',\n",
       " b'MuonEfficiencyCorrector_TrigSyst_RecoMedium;1',\n",
       " b'MuonEfficiencyCorrector_TTVASyst_TTVA;1',\n",
       " b'EleEffCorr_PIDSyst_LooseBLayer;1',\n",
       " b'EleEffCorr_IsoSyst_LooseBLayer_isolGradient;1',\n",
       " b'EleEffCorr_RecoSyst_Reconstruction;2',\n",
       " b'EleEffCorr_RecoSyst_Reconstruction;1',\n",
       " b'EleEffCorr_TrigSyst_SINGLE_E_2015_e24_lhmedium_L1EM20VH_OR_e60_lhmedium_OR_e120_lhloose_2016_2018_e26_lhtight_nod0_ivarloose_OR_e60_lhmedium_nod0_OR_e140_lhloose_nod0_LooseBLayer_isolGradient;1',\n",
       " b'EleEffCorr_PIDSyst_Medium;1',\n",
       " b'EleEffCorr_IsoSyst_Medium_isolGradient;1',\n",
       " b'EleEffCorr_TrigSyst_SINGLE_E_2015_e24_lhmedium_L1EM20VH_OR_e60_lhmedium_OR_e120_lhloose_2016_2018_e26_lhtight_nod0_ivarloose_OR_e60_lhmedium_nod0_OR_e140_lhloose_nod0_Medium_isolGradient;1']"
      ]
     },
     "metadata": {},
     "execution_count": 26
    }
   ],
   "source": [
    "import uproot\n",
    "metadata = uproot.open('/home/newhouse/public/Analysis/HNL/DHNLAlgorithm/run/13_systematics/submitDir.sf5/data-metadata/files.root')\n",
    "print(metadata['systematics']['MuonEfficiencyCorrector_TrigSyst_RecoMedium'].xlabels)\n",
    "# metadata['systematics']['MuonEfficiencyCorrector_RecoSyst_RecoMedium'].xlabels\n",
    "metadata['systematics'].keys()"
   ]
  },
  {
   "cell_type": "code",
   "execution_count": null,
   "metadata": {},
   "outputs": [],
   "source": []
  }
 ]
}