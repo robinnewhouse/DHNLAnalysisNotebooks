{
 "cells": [
  {
   "cell_type": "code",
   "execution_count": 1,
   "source": [
    "import uproot\n",
    "import numpy as np\n",
    "import matplotlib.pyplot as plt"
   ],
   "outputs": [],
   "metadata": {}
  },
  {
   "cell_type": "code",
   "execution_count": 7,
   "source": [
    "filename = '/data/hnl/ntuples/v8p1_ntuples/mc/group.phys-exotics.mc16_13TeV.311602.DAOD_EXOT29.e7422_e5984_a875_r11916_r11748_p4482.dhnl_ntuple_v8p1.v1_tree.root/group.phys-exotics.26356380._000001.tree.root'\n",
    "df = uproot.open(filename)['nominal'].pandas.df(['passedTriggers'], flatten=False);\n",
    "df['passes_trigger'] = df.apply(lambda x : b'HLT_mu26_ivarmedium' in x[0] or b'HLT_mu20_iloose_L1MU15' in x[0] , axis=1);\n",
    "print(df['passes_trigger'].value_counts())\n",
    "df[df.passes_trigger]"
   ],
   "outputs": [
    {
     "output_type": "stream",
     "name": "stderr",
     "text": [
      "/home/newhouse/miniconda3/lib/python3.7/site-packages/awkward/array/base.py:394: VisibleDeprecationWarning: Creating an ndarray from ragged nested sequences (which is a list-or-tuple of lists-or-tuples-or ndarrays with different lengths or shapes) is deprecated. If you meant to do this, you must specify 'dtype=object' when creating the ndarray.\n",
      "  return cls.numpy.array(value, copy=False)\n"
     ]
    },
    {
     "output_type": "stream",
     "name": "stdout",
     "text": [
      "False    13285\n",
      "True      6715\n",
      "Name: passes_trigger, dtype: int64\n"
     ]
    },
    {
     "output_type": "execute_result",
     "data": {
      "text/plain": [
       "                 passedTriggers  passes_trigger\n",
       "entry                                          \n",
       "3      [b'HLT_mu26_ivarmedium']            True\n",
       "5      [b'HLT_mu26_ivarmedium']            True\n",
       "8      [b'HLT_mu26_ivarmedium']            True\n",
       "10     [b'HLT_mu26_ivarmedium']            True\n",
       "19     [b'HLT_mu26_ivarmedium']            True\n",
       "...                         ...             ...\n",
       "19987  [b'HLT_mu26_ivarmedium']            True\n",
       "19992  [b'HLT_mu26_ivarmedium']            True\n",
       "19993  [b'HLT_mu26_ivarmedium']            True\n",
       "19997  [b'HLT_mu26_ivarmedium']            True\n",
       "19998  [b'HLT_mu26_ivarmedium']            True\n",
       "\n",
       "[6715 rows x 2 columns]"
      ],
      "text/html": [
       "<div>\n",
       "<style scoped>\n",
       "    .dataframe tbody tr th:only-of-type {\n",
       "        vertical-align: middle;\n",
       "    }\n",
       "\n",
       "    .dataframe tbody tr th {\n",
       "        vertical-align: top;\n",
       "    }\n",
       "\n",
       "    .dataframe thead th {\n",
       "        text-align: right;\n",
       "    }\n",
       "</style>\n",
       "<table border=\"1\" class=\"dataframe\">\n",
       "  <thead>\n",
       "    <tr style=\"text-align: right;\">\n",
       "      <th></th>\n",
       "      <th>passedTriggers</th>\n",
       "      <th>passes_trigger</th>\n",
       "    </tr>\n",
       "    <tr>\n",
       "      <th>entry</th>\n",
       "      <th></th>\n",
       "      <th></th>\n",
       "    </tr>\n",
       "  </thead>\n",
       "  <tbody>\n",
       "    <tr>\n",
       "      <th>3</th>\n",
       "      <td>[b'HLT_mu26_ivarmedium']</td>\n",
       "      <td>True</td>\n",
       "    </tr>\n",
       "    <tr>\n",
       "      <th>5</th>\n",
       "      <td>[b'HLT_mu26_ivarmedium']</td>\n",
       "      <td>True</td>\n",
       "    </tr>\n",
       "    <tr>\n",
       "      <th>8</th>\n",
       "      <td>[b'HLT_mu26_ivarmedium']</td>\n",
       "      <td>True</td>\n",
       "    </tr>\n",
       "    <tr>\n",
       "      <th>10</th>\n",
       "      <td>[b'HLT_mu26_ivarmedium']</td>\n",
       "      <td>True</td>\n",
       "    </tr>\n",
       "    <tr>\n",
       "      <th>19</th>\n",
       "      <td>[b'HLT_mu26_ivarmedium']</td>\n",
       "      <td>True</td>\n",
       "    </tr>\n",
       "    <tr>\n",
       "      <th>...</th>\n",
       "      <td>...</td>\n",
       "      <td>...</td>\n",
       "    </tr>\n",
       "    <tr>\n",
       "      <th>19987</th>\n",
       "      <td>[b'HLT_mu26_ivarmedium']</td>\n",
       "      <td>True</td>\n",
       "    </tr>\n",
       "    <tr>\n",
       "      <th>19992</th>\n",
       "      <td>[b'HLT_mu26_ivarmedium']</td>\n",
       "      <td>True</td>\n",
       "    </tr>\n",
       "    <tr>\n",
       "      <th>19993</th>\n",
       "      <td>[b'HLT_mu26_ivarmedium']</td>\n",
       "      <td>True</td>\n",
       "    </tr>\n",
       "    <tr>\n",
       "      <th>19997</th>\n",
       "      <td>[b'HLT_mu26_ivarmedium']</td>\n",
       "      <td>True</td>\n",
       "    </tr>\n",
       "    <tr>\n",
       "      <th>19998</th>\n",
       "      <td>[b'HLT_mu26_ivarmedium']</td>\n",
       "      <td>True</td>\n",
       "    </tr>\n",
       "  </tbody>\n",
       "</table>\n",
       "<p>6715 rows × 2 columns</p>\n",
       "</div>"
      ]
     },
     "metadata": {},
     "execution_count": 7
    }
   ],
   "metadata": {}
  },
  {
   "cell_type": "code",
   "execution_count": null,
   "source": [],
   "outputs": [],
   "metadata": {}
  },
  {
   "cell_type": "code",
   "execution_count": 60,
   "source": [
    "df = uproot.open('/data/hnl/ntuples/v6p0_ntuples/mc/group.phys-exotics.mc16_13TeV.311633.DAOD_EXOT29.e7422_e5984_a875_r11915_r11748_p4482.dhnl_ntuple_v6p0.v2_tree.root/group.phys-exotics.25819651._000001.tree.root')['outTree'].pandas.df(['passedTriggers'], flatten=False);\n",
    "df['passes_trigger'] = df.apply(lambda x : b'HLT_mu26_ivarmedium' in x[0] and b'HLT_mu20_iloose_L1MU15' in x[0] , axis=1)\n",
    "df\n",
    "df['passes_trigger'].value_counts()\n"
   ],
   "outputs": [
    {
     "output_type": "stream",
     "name": "stderr",
     "text": [
      "/home/newhouse/miniconda3/lib/python3.7/site-packages/awkward/array/base.py:394: VisibleDeprecationWarning: Creating an ndarray from ragged nested sequences (which is a list-or-tuple of lists-or-tuples-or ndarrays with different lengths or shapes) is deprecated. If you meant to do this, you must specify 'dtype=object' when creating the ndarray.\n",
      "  return cls.numpy.array(value, copy=False)\n"
     ]
    },
    {
     "output_type": "execute_result",
     "data": {
      "text/plain": [
       "False    6401\n",
       "True     3599\n",
       "Name: passes_trigger, dtype: int64"
      ]
     },
     "metadata": {},
     "execution_count": 60
    }
   ],
   "metadata": {}
  },
  {
   "cell_type": "code",
   "execution_count": 4,
   "source": [
    "df"
   ],
   "outputs": [
    {
     "output_type": "execute_result",
     "data": {
      "text/plain": [
       "                                 muon_pt  \\\n",
       "entry                                      \n",
       "0       [31.53958, 27.567934, 12.247906]   \n",
       "1      [44.376354, 38.709682, 34.188484]   \n",
       "2       [40.25625, 18.751348, 12.825718]   \n",
       "3       [26.539574, 10.159995, 3.363718]   \n",
       "4        [41.10127, 23.70125, 3.2300112]   \n",
       "5                  [35.785618, 9.815993]   \n",
       "6                            [36.081512]   \n",
       "7                             [26.80445]   \n",
       "8       [38.973213, 10.452066, 8.143545]   \n",
       "9                            [5.6330285]   \n",
       "\n",
       "                         muon_RecoEff_SF_Medium_sysNames  \\\n",
       "entry                                                      \n",
       "0      [b'', b'MUON_EFF_RECO_STAT_LOWPT__1down', b'MU...   \n",
       "1      [b'', b'MUON_EFF_RECO_STAT_LOWPT__1down', b'MU...   \n",
       "2      [b'', b'MUON_EFF_RECO_STAT_LOWPT__1down', b'MU...   \n",
       "3      [b'', b'MUON_EFF_RECO_STAT_LOWPT__1down', b'MU...   \n",
       "4      [b'', b'MUON_EFF_RECO_STAT_LOWPT__1down', b'MU...   \n",
       "5      [b'', b'MUON_EFF_RECO_STAT_LOWPT__1down', b'MU...   \n",
       "6      [b'', b'MUON_EFF_RECO_STAT_LOWPT__1down', b'MU...   \n",
       "7      [b'', b'MUON_EFF_RECO_STAT_LOWPT__1down', b'MU...   \n",
       "8      [b'', b'MUON_EFF_RECO_STAT_LOWPT__1down', b'MU...   \n",
       "9      [b'', b'MUON_EFF_RECO_STAT_LOWPT__1down', b'MU...   \n",
       "\n",
       "                              muon_RecoEff_SF_RecoMedium  \\\n",
       "entry                                                      \n",
       "0      [[0.9949961, 0.9949961, 0.9949961, 0.99443436,...   \n",
       "1      [[1.0045885, 1.0045885, 1.0045885, 1.0034566, ...   \n",
       "2      [[0.99778664, 0.99778664, 0.99778664, 0.997381...   \n",
       "3      [[0.993639, 0.993639, 0.993639, 0.99311274, 0....   \n",
       "4      [[0.9962693, 0.9962693, 0.9962693, 0.99571514,...   \n",
       "5      [[0.99706125, 0.99706125, 0.99706125, 0.995254...   \n",
       "6      [[0.98684436, 0.98684436, 0.98684436, 0.986134...   \n",
       "7      [[0.995113, 0.995113, 0.995113, 0.99454427, 0....   \n",
       "8      [[0.9960908, 0.9960908, 0.9960908, 0.995518, 0...   \n",
       "9      [[0.99386644, 0.9914059, 0.996327, 0.99386644,...   \n",
       "\n",
       "          muon_TrigEff_SF_HLT_mu26_ivarmedium_RecoMedium  \\\n",
       "entry                                                      \n",
       "0      [[0.99770015, 0.9950428, 1.0002999, 0.9929889,...   \n",
       "1      [[0.94498914, 0.93305916, 0.95687616, 0.939446...   \n",
       "2      [[0.9447082, 0.94247115, 0.94692093, 0.9387388...   \n",
       "3      [[0.0, 0.0, 0.0, 0.0, 0.0, 0.0, 0.0, 0.0, 0.0,...   \n",
       "4      [[1.0103573, 1.0082562, 1.0124213, 1.0068669, ...   \n",
       "5      [[0.0, 0.0, 0.0, 0.0, 0.0], [0.0, 0.0, 0.0, 0....   \n",
       "6      [[0.9914931, 0.9888805, 0.9940666, 0.98879933,...   \n",
       "7      [[0.0, 0.0, 0.0, 0.0, 0.0, 0.0, 0.0, 0.0, 0.0,...   \n",
       "8      [[1.0206124, 1.0161854, 1.0247872, 1.0164986, ...   \n",
       "9      [[0.0, 0.0, 0.0, 0.0, 0.0, 0.0, 0.0, 0.0, 0.0,...   \n",
       "\n",
       "       muon_TrigEff_SF_HLT_mu20_iloose_L1MU15_RecoMedium  \n",
       "entry                                                     \n",
       "0                               [[-1.0], [-1.0], [-1.0]]  \n",
       "1                               [[-1.0], [-1.0], [-1.0]]  \n",
       "2                               [[-1.0], [-1.0], [-1.0]]  \n",
       "3                               [[-1.0], [-1.0], [-1.0]]  \n",
       "4                               [[-1.0], [-1.0], [-1.0]]  \n",
       "5      [[0.9216986, 0.91083425, 0.9321743, 0.9142554,...  \n",
       "6                                               [[-1.0]]  \n",
       "7                                               [[-1.0]]  \n",
       "8                               [[-1.0], [-1.0], [-1.0]]  \n",
       "9                                               [[-1.0]]  "
      ],
      "text/html": [
       "<div>\n",
       "<style scoped>\n",
       "    .dataframe tbody tr th:only-of-type {\n",
       "        vertical-align: middle;\n",
       "    }\n",
       "\n",
       "    .dataframe tbody tr th {\n",
       "        vertical-align: top;\n",
       "    }\n",
       "\n",
       "    .dataframe thead th {\n",
       "        text-align: right;\n",
       "    }\n",
       "</style>\n",
       "<table border=\"1\" class=\"dataframe\">\n",
       "  <thead>\n",
       "    <tr style=\"text-align: right;\">\n",
       "      <th></th>\n",
       "      <th>muon_pt</th>\n",
       "      <th>muon_RecoEff_SF_Medium_sysNames</th>\n",
       "      <th>muon_RecoEff_SF_RecoMedium</th>\n",
       "      <th>muon_TrigEff_SF_HLT_mu26_ivarmedium_RecoMedium</th>\n",
       "      <th>muon_TrigEff_SF_HLT_mu20_iloose_L1MU15_RecoMedium</th>\n",
       "    </tr>\n",
       "    <tr>\n",
       "      <th>entry</th>\n",
       "      <th></th>\n",
       "      <th></th>\n",
       "      <th></th>\n",
       "      <th></th>\n",
       "      <th></th>\n",
       "    </tr>\n",
       "  </thead>\n",
       "  <tbody>\n",
       "    <tr>\n",
       "      <th>0</th>\n",
       "      <td>[31.53958, 27.567934, 12.247906]</td>\n",
       "      <td>[b'', b'MUON_EFF_RECO_STAT_LOWPT__1down', b'MU...</td>\n",
       "      <td>[[0.9949961, 0.9949961, 0.9949961, 0.99443436,...</td>\n",
       "      <td>[[0.99770015, 0.9950428, 1.0002999, 0.9929889,...</td>\n",
       "      <td>[[-1.0], [-1.0], [-1.0]]</td>\n",
       "    </tr>\n",
       "    <tr>\n",
       "      <th>1</th>\n",
       "      <td>[44.376354, 38.709682, 34.188484]</td>\n",
       "      <td>[b'', b'MUON_EFF_RECO_STAT_LOWPT__1down', b'MU...</td>\n",
       "      <td>[[1.0045885, 1.0045885, 1.0045885, 1.0034566, ...</td>\n",
       "      <td>[[0.94498914, 0.93305916, 0.95687616, 0.939446...</td>\n",
       "      <td>[[-1.0], [-1.0], [-1.0]]</td>\n",
       "    </tr>\n",
       "    <tr>\n",
       "      <th>2</th>\n",
       "      <td>[40.25625, 18.751348, 12.825718]</td>\n",
       "      <td>[b'', b'MUON_EFF_RECO_STAT_LOWPT__1down', b'MU...</td>\n",
       "      <td>[[0.99778664, 0.99778664, 0.99778664, 0.997381...</td>\n",
       "      <td>[[0.9447082, 0.94247115, 0.94692093, 0.9387388...</td>\n",
       "      <td>[[-1.0], [-1.0], [-1.0]]</td>\n",
       "    </tr>\n",
       "    <tr>\n",
       "      <th>3</th>\n",
       "      <td>[26.539574, 10.159995, 3.363718]</td>\n",
       "      <td>[b'', b'MUON_EFF_RECO_STAT_LOWPT__1down', b'MU...</td>\n",
       "      <td>[[0.993639, 0.993639, 0.993639, 0.99311274, 0....</td>\n",
       "      <td>[[0.0, 0.0, 0.0, 0.0, 0.0, 0.0, 0.0, 0.0, 0.0,...</td>\n",
       "      <td>[[-1.0], [-1.0], [-1.0]]</td>\n",
       "    </tr>\n",
       "    <tr>\n",
       "      <th>4</th>\n",
       "      <td>[41.10127, 23.70125, 3.2300112]</td>\n",
       "      <td>[b'', b'MUON_EFF_RECO_STAT_LOWPT__1down', b'MU...</td>\n",
       "      <td>[[0.9962693, 0.9962693, 0.9962693, 0.99571514,...</td>\n",
       "      <td>[[1.0103573, 1.0082562, 1.0124213, 1.0068669, ...</td>\n",
       "      <td>[[-1.0], [-1.0], [-1.0]]</td>\n",
       "    </tr>\n",
       "    <tr>\n",
       "      <th>5</th>\n",
       "      <td>[35.785618, 9.815993]</td>\n",
       "      <td>[b'', b'MUON_EFF_RECO_STAT_LOWPT__1down', b'MU...</td>\n",
       "      <td>[[0.99706125, 0.99706125, 0.99706125, 0.995254...</td>\n",
       "      <td>[[0.0, 0.0, 0.0, 0.0, 0.0], [0.0, 0.0, 0.0, 0....</td>\n",
       "      <td>[[0.9216986, 0.91083425, 0.9321743, 0.9142554,...</td>\n",
       "    </tr>\n",
       "    <tr>\n",
       "      <th>6</th>\n",
       "      <td>[36.081512]</td>\n",
       "      <td>[b'', b'MUON_EFF_RECO_STAT_LOWPT__1down', b'MU...</td>\n",
       "      <td>[[0.98684436, 0.98684436, 0.98684436, 0.986134...</td>\n",
       "      <td>[[0.9914931, 0.9888805, 0.9940666, 0.98879933,...</td>\n",
       "      <td>[[-1.0]]</td>\n",
       "    </tr>\n",
       "    <tr>\n",
       "      <th>7</th>\n",
       "      <td>[26.80445]</td>\n",
       "      <td>[b'', b'MUON_EFF_RECO_STAT_LOWPT__1down', b'MU...</td>\n",
       "      <td>[[0.995113, 0.995113, 0.995113, 0.99454427, 0....</td>\n",
       "      <td>[[0.0, 0.0, 0.0, 0.0, 0.0, 0.0, 0.0, 0.0, 0.0,...</td>\n",
       "      <td>[[-1.0]]</td>\n",
       "    </tr>\n",
       "    <tr>\n",
       "      <th>8</th>\n",
       "      <td>[38.973213, 10.452066, 8.143545]</td>\n",
       "      <td>[b'', b'MUON_EFF_RECO_STAT_LOWPT__1down', b'MU...</td>\n",
       "      <td>[[0.9960908, 0.9960908, 0.9960908, 0.995518, 0...</td>\n",
       "      <td>[[1.0206124, 1.0161854, 1.0247872, 1.0164986, ...</td>\n",
       "      <td>[[-1.0], [-1.0], [-1.0]]</td>\n",
       "    </tr>\n",
       "    <tr>\n",
       "      <th>9</th>\n",
       "      <td>[5.6330285]</td>\n",
       "      <td>[b'', b'MUON_EFF_RECO_STAT_LOWPT__1down', b'MU...</td>\n",
       "      <td>[[0.99386644, 0.9914059, 0.996327, 0.99386644,...</td>\n",
       "      <td>[[0.0, 0.0, 0.0, 0.0, 0.0, 0.0, 0.0, 0.0, 0.0,...</td>\n",
       "      <td>[[-1.0]]</td>\n",
       "    </tr>\n",
       "  </tbody>\n",
       "</table>\n",
       "</div>"
      ]
     },
     "metadata": {},
     "execution_count": 4
    }
   ],
   "metadata": {}
  },
  {
   "cell_type": "code",
   "execution_count": 5,
   "source": [
    "df['muon_RecoEff_SF_RecoMedium'].apply(lambda x: x[0][0])"
   ],
   "outputs": [
    {
     "output_type": "execute_result",
     "data": {
      "text/plain": [
       "entry\n",
       "0    0.994996\n",
       "1    1.004588\n",
       "2    0.997787\n",
       "3    0.993639\n",
       "4    0.996269\n",
       "5    0.997061\n",
       "6    0.986844\n",
       "7    0.995113\n",
       "8    0.996091\n",
       "9    0.993866\n",
       "Name: muon_RecoEff_SF_RecoMedium, dtype: float64"
      ]
     },
     "metadata": {},
     "execution_count": 5
    }
   ],
   "metadata": {}
  },
  {
   "cell_type": "code",
   "execution_count": 8,
   "source": [
    "df = nominal.pandas.df(['el_pt', 'el_PIDEff_SF_*', 'el_TrigEff_SF_SINGLE_E_*'], flatten=False)\n",
    "df.iloc[2]\n"
   ],
   "outputs": [
    {
     "output_type": "error",
     "ename": "NameError",
     "evalue": "name 'nominal' is not defined",
     "traceback": [
      "\u001b[0;31m---------------------------------------------------------------------------\u001b[0m",
      "\u001b[0;31mNameError\u001b[0m                                 Traceback (most recent call last)",
      "\u001b[0;32m<ipython-input-8-887aab566943>\u001b[0m in \u001b[0;36m<module>\u001b[0;34m\u001b[0m\n\u001b[0;32m----> 1\u001b[0;31m \u001b[0mdf\u001b[0m \u001b[0;34m=\u001b[0m \u001b[0mnominal\u001b[0m\u001b[0;34m.\u001b[0m\u001b[0mpandas\u001b[0m\u001b[0;34m.\u001b[0m\u001b[0mdf\u001b[0m\u001b[0;34m(\u001b[0m\u001b[0;34m[\u001b[0m\u001b[0;34m'el_pt'\u001b[0m\u001b[0;34m,\u001b[0m \u001b[0;34m'el_PIDEff_SF_*'\u001b[0m\u001b[0;34m,\u001b[0m \u001b[0;34m'el_TrigEff_SF_SINGLE_E_*'\u001b[0m\u001b[0;34m]\u001b[0m\u001b[0;34m,\u001b[0m \u001b[0mflatten\u001b[0m\u001b[0;34m=\u001b[0m\u001b[0;32mFalse\u001b[0m\u001b[0;34m)\u001b[0m\u001b[0;34m\u001b[0m\u001b[0;34m\u001b[0m\u001b[0m\n\u001b[0m\u001b[1;32m      2\u001b[0m \u001b[0mdf\u001b[0m\u001b[0;34m.\u001b[0m\u001b[0miloc\u001b[0m\u001b[0;34m[\u001b[0m\u001b[0;36m2\u001b[0m\u001b[0;34m]\u001b[0m\u001b[0;34m\u001b[0m\u001b[0;34m\u001b[0m\u001b[0m\n",
      "\u001b[0;31mNameError\u001b[0m: name 'nominal' is not defined"
     ]
    }
   ],
   "metadata": {}
  },
  {
   "cell_type": "code",
   "execution_count": 15,
   "source": [
    "import uproot\n",
    "metadata = uproot.open('/home/newhouse/tmp/mc16_13TeV.312983.Pythia8EvtGen_A14NNPDF23LO_WelHNL50_7p5G_lt1dd_emu.NTUPLE.e7902_e5984_a875_r11915_r11748_p4482.v9p0/submitDir/data-metadata/files.root')\n",
    "# print(*list(enumerate(metadata['systematics']['MuonEfficiencyCorrector_TrigSyst_RecoMedium'].xlabels)), sep='\\n')\n",
    "# metadata['systematics']['MuonEfficiencyCorrector_RecoSyst_RecoMedium'].xlabels\n",
    "# for k in metadata['systematics'].keys():\n",
    "#     print(k.decode())\n",
    "#     print()\n",
    "    \n",
    "# systematics I care about\n",
    "for k in [\n",
    "    'MuonEfficiencyCorrector_RecoSyst_RecoMedium',\n",
    "    'MuonEfficiencyCorrector_TrigSyst_RecoMedium',\n",
    "    'EleEffCorr_RecoSyst_Reconstruction',\n",
    "    'EleEffCorr_PIDSyst_LooseBLayer',\n",
    "    'EleEffCorr_PIDSyst_Medium',\n",
    "    'EleEffCorr_TrigSyst_SINGLE_E_2015_e24_lhmedium_L1EM20VH_OR_e60_lhmedium_OR_e120_lhloose_2016_2018_e26_lhtight_nod0_ivarloose_OR_e60_lhmedium_nod0_OR_e140_lhloose_nod0_Medium_isolGradient',\n",
    "]:\n",
    "    # print(k)\n",
    "    print(*list(enumerate(metadata['systematics'][k].xlabels)), sep='\\n')\n",
    "    # print()\n"
   ],
   "outputs": [
    {
     "output_type": "stream",
     "name": "stdout",
     "text": [
      "(0, 'nominal')\n",
      "(1, 'MUON_EFF_RECO_STAT_LOWPT__1down')\n",
      "(2, 'MUON_EFF_RECO_STAT_LOWPT__1up')\n",
      "(3, 'MUON_EFF_RECO_STAT__1down')\n",
      "(4, 'MUON_EFF_RECO_STAT__1up')\n",
      "(5, 'MUON_EFF_RECO_SYS_LOWPT__1down')\n",
      "(6, 'MUON_EFF_RECO_SYS_LOWPT__1up')\n",
      "(7, 'MUON_EFF_RECO_SYS__1down')\n",
      "(8, 'MUON_EFF_RECO_SYS__1up')\n",
      "(0, 'nominal')\n",
      "(1, 'MUON_EFF_TrigStatUncertainty__1down')\n",
      "(2, 'MUON_EFF_TrigStatUncertainty__1up')\n",
      "(3, 'MUON_EFF_TrigSystUncertainty__1down')\n",
      "(4, 'MUON_EFF_TrigSystUncertainty__1up')\n",
      "(0, 'nominal')\n",
      "(1, 'EL_EFF_Reco_TOTAL_1NPCOR_PLUS_UNCOR__1down')\n",
      "(2, 'EL_EFF_Reco_TOTAL_1NPCOR_PLUS_UNCOR__1up')\n",
      "(0, 'nominal')\n",
      "(1, 'EL_EFF_ID_TOTAL_1NPCOR_PLUS_UNCOR__1down')\n",
      "(2, 'EL_EFF_ID_TOTAL_1NPCOR_PLUS_UNCOR__1up')\n",
      "(0, 'nominal')\n",
      "(1, 'EL_EFF_ID_TOTAL_1NPCOR_PLUS_UNCOR__1down')\n",
      "(2, 'EL_EFF_ID_TOTAL_1NPCOR_PLUS_UNCOR__1up')\n",
      "(0, 'nominal')\n",
      "(1, 'EL_EFF_Trigger_TOTAL_1NPCOR_PLUS_UNCOR__1down')\n",
      "(2, 'EL_EFF_Trigger_TOTAL_1NPCOR_PLUS_UNCOR__1up')\n"
     ]
    }
   ],
   "metadata": {
    "scrolled": false
   }
  },
  {
   "cell_type": "code",
   "execution_count": null,
   "source": [],
   "outputs": [],
   "metadata": {}
  },
  {
   "cell_type": "code",
   "execution_count": 2,
   "source": [
    "metadata['systematics']['MuonEfficiencyCorrector_RecoSyst_RecoMedium'].xlabels"
   ],
   "outputs": [
    {
     "output_type": "execute_result",
     "data": {
      "text/plain": [
       "['nominal',\n",
       " 'MUON_EFF_RECO_STAT_LOWPT__1down',\n",
       " 'MUON_EFF_RECO_STAT_LOWPT__1up',\n",
       " 'MUON_EFF_RECO_STAT__1down',\n",
       " 'MUON_EFF_RECO_STAT__1up',\n",
       " 'MUON_EFF_RECO_SYS_LOWPT__1down',\n",
       " 'MUON_EFF_RECO_SYS_LOWPT__1up',\n",
       " 'MUON_EFF_RECO_SYS__1down',\n",
       " 'MUON_EFF_RECO_SYS__1up']"
      ]
     },
     "metadata": {},
     "execution_count": 2
    }
   ],
   "metadata": {}
  },
  {
   "cell_type": "code",
   "execution_count": 3,
   "source": [
    "metadata['systematics']['EleEffCorr_RecoSyst_Reconstruction'].xlabels"
   ],
   "outputs": [
    {
     "output_type": "execute_result",
     "data": {
      "text/plain": [
       "['nominal',\n",
       " 'EL_EFF_Reco_TOTAL_1NPCOR_PLUS_UNCOR__1down',\n",
       " 'EL_EFF_Reco_TOTAL_1NPCOR_PLUS_UNCOR__1up']"
      ]
     },
     "metadata": {},
     "execution_count": 3
    }
   ],
   "metadata": {}
  },
  {
   "cell_type": "code",
   "execution_count": 29,
   "source": [
    "import glob\n",
    "for f in glob.glob('/data/newhouse/tmp/submitDir/data-tree/files.root'):\n",
    "    nominal = uproot.open(f)['nominal']\n",
    "    if len(nominal['bcid'].array()) > 1000:\n",
    "        print(f)\n",
    "        print(len(nominal['bcid'].array()))"
   ],
   "outputs": [
    {
     "output_type": "stream",
     "name": "stdout",
     "text": [
      "/data/newhouse/HNL/ntuples/v9p0/mc16_13TeV.312958.Pythia8EvtGen_A14NNPDF23LO_WelHNL50_3G_lt100dd_ee.NTUPLE.e7902_e5984_a875_r11915_r11748_p4482.v9p0/submitDir/data-tree/files.root\n",
      "10000\n"
     ]
    },
    {
     "output_type": "error",
     "ename": "KeyboardInterrupt",
     "evalue": "",
     "traceback": [
      "\u001b[0;31m---------------------------------------------------------------------------\u001b[0m",
      "\u001b[0;31mKeyboardInterrupt\u001b[0m                         Traceback (most recent call last)",
      "\u001b[0;32m<ipython-input-29-3ec24c3b7901>\u001b[0m in \u001b[0;36m<module>\u001b[0;34m\u001b[0m\n\u001b[1;32m      1\u001b[0m \u001b[0;32mimport\u001b[0m \u001b[0mglob\u001b[0m\u001b[0;34m\u001b[0m\u001b[0;34m\u001b[0m\u001b[0m\n\u001b[1;32m      2\u001b[0m \u001b[0;32mfor\u001b[0m \u001b[0mf\u001b[0m \u001b[0;32min\u001b[0m \u001b[0mglob\u001b[0m\u001b[0;34m.\u001b[0m\u001b[0mglob\u001b[0m\u001b[0;34m(\u001b[0m\u001b[0;34m'/data/newhouse/HNL/ntuples/v9p0/*/submitDir/data-tree/files.root'\u001b[0m\u001b[0;34m)\u001b[0m\u001b[0;34m:\u001b[0m\u001b[0;34m\u001b[0m\u001b[0;34m\u001b[0m\u001b[0m\n\u001b[0;32m----> 3\u001b[0;31m     \u001b[0mnominal\u001b[0m \u001b[0;34m=\u001b[0m \u001b[0muproot\u001b[0m\u001b[0;34m.\u001b[0m\u001b[0mopen\u001b[0m\u001b[0;34m(\u001b[0m\u001b[0mf\u001b[0m\u001b[0;34m)\u001b[0m\u001b[0;34m[\u001b[0m\u001b[0;34m'nominal'\u001b[0m\u001b[0;34m]\u001b[0m\u001b[0;34m\u001b[0m\u001b[0;34m\u001b[0m\u001b[0m\n\u001b[0m\u001b[1;32m      4\u001b[0m     \u001b[0;32mif\u001b[0m \u001b[0mlen\u001b[0m\u001b[0;34m(\u001b[0m\u001b[0mnominal\u001b[0m\u001b[0;34m[\u001b[0m\u001b[0;34m'bcid'\u001b[0m\u001b[0;34m]\u001b[0m\u001b[0;34m.\u001b[0m\u001b[0marray\u001b[0m\u001b[0;34m(\u001b[0m\u001b[0;34m)\u001b[0m\u001b[0;34m)\u001b[0m \u001b[0;34m>\u001b[0m \u001b[0;36m1000\u001b[0m\u001b[0;34m:\u001b[0m\u001b[0;34m\u001b[0m\u001b[0;34m\u001b[0m\u001b[0m\n\u001b[1;32m      5\u001b[0m         \u001b[0mprint\u001b[0m\u001b[0;34m(\u001b[0m\u001b[0mf\u001b[0m\u001b[0;34m)\u001b[0m\u001b[0;34m\u001b[0m\u001b[0;34m\u001b[0m\u001b[0m\n",
      "\u001b[0;32m~/miniconda3/lib/python3.7/site-packages/uproot/rootio.py\u001b[0m in \u001b[0;36m__getitem__\u001b[0;34m(self, name)\u001b[0m\n\u001b[1;32m    224\u001b[0m \u001b[0;34m\u001b[0m\u001b[0m\n\u001b[1;32m    225\u001b[0m     \u001b[0;32mdef\u001b[0m \u001b[0m__getitem__\u001b[0m\u001b[0;34m(\u001b[0m\u001b[0mself\u001b[0m\u001b[0;34m,\u001b[0m \u001b[0mname\u001b[0m\u001b[0;34m)\u001b[0m\u001b[0;34m:\u001b[0m\u001b[0;34m\u001b[0m\u001b[0;34m\u001b[0m\u001b[0m\n\u001b[0;32m--> 226\u001b[0;31m         \u001b[0;32mreturn\u001b[0m \u001b[0mself\u001b[0m\u001b[0;34m.\u001b[0m\u001b[0mget\u001b[0m\u001b[0;34m(\u001b[0m\u001b[0mname\u001b[0m\u001b[0;34m)\u001b[0m\u001b[0;34m\u001b[0m\u001b[0;34m\u001b[0m\u001b[0m\n\u001b[0m\u001b[1;32m    227\u001b[0m \u001b[0;34m\u001b[0m\u001b[0m\n\u001b[1;32m    228\u001b[0m     \u001b[0;32mdef\u001b[0m \u001b[0m__len__\u001b[0m\u001b[0;34m(\u001b[0m\u001b[0mself\u001b[0m\u001b[0;34m)\u001b[0m\u001b[0;34m:\u001b[0m\u001b[0;34m\u001b[0m\u001b[0;34m\u001b[0m\u001b[0m\n",
      "\u001b[0;32m~/miniconda3/lib/python3.7/site-packages/uproot/rootio.py\u001b[0m in \u001b[0;36mget\u001b[0;34m(self, name, cycle)\u001b[0m\n\u001b[1;32m    369\u001b[0m \u001b[0;34m\u001b[0m\u001b[0m\n\u001b[1;32m    370\u001b[0m             \u001b[0;32mif\u001b[0m \u001b[0mlast\u001b[0m \u001b[0;32mis\u001b[0m \u001b[0;32mnot\u001b[0m \u001b[0;32mNone\u001b[0m\u001b[0;34m:\u001b[0m\u001b[0;34m\u001b[0m\u001b[0;34m\u001b[0m\u001b[0m\n\u001b[0;32m--> 371\u001b[0;31m                 \u001b[0;32mreturn\u001b[0m \u001b[0mlast\u001b[0m\u001b[0;34m.\u001b[0m\u001b[0mget\u001b[0m\u001b[0;34m(\u001b[0m\u001b[0;34m)\u001b[0m\u001b[0;34m\u001b[0m\u001b[0;34m\u001b[0m\u001b[0m\n\u001b[0m\u001b[1;32m    372\u001b[0m             \u001b[0;32melif\u001b[0m \u001b[0mcycle\u001b[0m \u001b[0;32mis\u001b[0m \u001b[0;32mNone\u001b[0m\u001b[0;34m:\u001b[0m\u001b[0;34m\u001b[0m\u001b[0;34m\u001b[0m\u001b[0m\n\u001b[1;32m    373\u001b[0m                 \u001b[0;32mraise\u001b[0m \u001b[0m_KeyError\u001b[0m\u001b[0;34m(\u001b[0m\u001b[0;34m\"not found: {0}\\n in file: {1}\"\u001b[0m\u001b[0;34m.\u001b[0m\u001b[0mformat\u001b[0m\u001b[0;34m(\u001b[0m\u001b[0mrepr\u001b[0m\u001b[0;34m(\u001b[0m\u001b[0mname\u001b[0m\u001b[0;34m)\u001b[0m\u001b[0;34m,\u001b[0m \u001b[0mself\u001b[0m\u001b[0;34m.\u001b[0m\u001b[0m_context\u001b[0m\u001b[0;34m.\u001b[0m\u001b[0msourcepath\u001b[0m\u001b[0;34m)\u001b[0m\u001b[0;34m)\u001b[0m\u001b[0;34m\u001b[0m\u001b[0;34m\u001b[0m\u001b[0m\n",
      "\u001b[0;32m~/miniconda3/lib/python3.7/site-packages/uproot/rootio.py\u001b[0m in \u001b[0;36mget\u001b[0;34m(self, dismiss)\u001b[0m\n\u001b[1;32m   1048\u001b[0m \u001b[0;34m\u001b[0m\u001b[0m\n\u001b[1;32m   1049\u001b[0m         \u001b[0;32mtry\u001b[0m\u001b[0;34m:\u001b[0m\u001b[0;34m\u001b[0m\u001b[0;34m\u001b[0m\u001b[0m\n\u001b[0;32m-> 1050\u001b[0;31m             \u001b[0;32mreturn\u001b[0m \u001b[0m_classof\u001b[0m\u001b[0;34m(\u001b[0m\u001b[0mself\u001b[0m\u001b[0;34m.\u001b[0m\u001b[0m_context\u001b[0m\u001b[0;34m,\u001b[0m \u001b[0mself\u001b[0m\u001b[0;34m.\u001b[0m\u001b[0m_fClassName\u001b[0m\u001b[0;34m)\u001b[0m\u001b[0;34m.\u001b[0m\u001b[0mread\u001b[0m\u001b[0;34m(\u001b[0m\u001b[0mself\u001b[0m\u001b[0;34m.\u001b[0m\u001b[0m_source\u001b[0m\u001b[0;34m,\u001b[0m \u001b[0mself\u001b[0m\u001b[0;34m.\u001b[0m\u001b[0m_cursor\u001b[0m\u001b[0;34m.\u001b[0m\u001b[0mcopied\u001b[0m\u001b[0;34m(\u001b[0m\u001b[0;34m)\u001b[0m\u001b[0;34m,\u001b[0m \u001b[0mself\u001b[0m\u001b[0;34m.\u001b[0m\u001b[0m_context\u001b[0m\u001b[0;34m,\u001b[0m \u001b[0mself\u001b[0m\u001b[0;34m)\u001b[0m\u001b[0;34m\u001b[0m\u001b[0;34m\u001b[0m\u001b[0m\n\u001b[0m\u001b[1;32m   1051\u001b[0m         \u001b[0;32mfinally\u001b[0m\u001b[0;34m:\u001b[0m\u001b[0;34m\u001b[0m\u001b[0;34m\u001b[0m\u001b[0m\n\u001b[1;32m   1052\u001b[0m             \u001b[0;32mif\u001b[0m \u001b[0mdismiss\u001b[0m\u001b[0;34m:\u001b[0m\u001b[0;34m\u001b[0m\u001b[0;34m\u001b[0m\u001b[0m\n",
      "\u001b[0;32m~/miniconda3/lib/python3.7/site-packages/uproot/rootio.py\u001b[0m in \u001b[0;36mread\u001b[0;34m(cls, source, cursor, context, parent)\u001b[0m\n\u001b[1;32m    987\u001b[0m             \u001b[0mcontext\u001b[0m \u001b[0;34m=\u001b[0m \u001b[0mcontext\u001b[0m\u001b[0;34m.\u001b[0m\u001b[0mcopy\u001b[0m\u001b[0;34m(\u001b[0m\u001b[0;34m)\u001b[0m\u001b[0;34m\u001b[0m\u001b[0;34m\u001b[0m\u001b[0m\n\u001b[1;32m    988\u001b[0m         \u001b[0mout\u001b[0m \u001b[0;34m=\u001b[0m \u001b[0mcls\u001b[0m\u001b[0;34m.\u001b[0m\u001b[0m__new__\u001b[0m\u001b[0;34m(\u001b[0m\u001b[0mcls\u001b[0m\u001b[0;34m)\u001b[0m\u001b[0;34m\u001b[0m\u001b[0;34m\u001b[0m\u001b[0m\n\u001b[0;32m--> 989\u001b[0;31m         \u001b[0mout\u001b[0m \u001b[0;34m=\u001b[0m \u001b[0mcls\u001b[0m\u001b[0;34m.\u001b[0m\u001b[0m_readinto\u001b[0m\u001b[0;34m(\u001b[0m\u001b[0mout\u001b[0m\u001b[0;34m,\u001b[0m \u001b[0msource\u001b[0m\u001b[0;34m,\u001b[0m \u001b[0mcursor\u001b[0m\u001b[0;34m,\u001b[0m \u001b[0mcontext\u001b[0m\u001b[0;34m,\u001b[0m \u001b[0mparent\u001b[0m\u001b[0;34m)\u001b[0m\u001b[0;34m\u001b[0m\u001b[0;34m\u001b[0m\u001b[0m\n\u001b[0m\u001b[1;32m    990\u001b[0m         \u001b[0mout\u001b[0m\u001b[0;34m.\u001b[0m\u001b[0m_postprocess\u001b[0m\u001b[0;34m(\u001b[0m\u001b[0msource\u001b[0m\u001b[0;34m,\u001b[0m \u001b[0mcursor\u001b[0m\u001b[0;34m,\u001b[0m \u001b[0mcontext\u001b[0m\u001b[0;34m,\u001b[0m \u001b[0mparent\u001b[0m\u001b[0;34m)\u001b[0m\u001b[0;34m\u001b[0m\u001b[0;34m\u001b[0m\u001b[0m\n\u001b[1;32m    991\u001b[0m         \u001b[0;32mreturn\u001b[0m \u001b[0mout\u001b[0m\u001b[0;34m\u001b[0m\u001b[0;34m\u001b[0m\u001b[0m\n",
      "\u001b[0;32m~/miniconda3/lib/python3.7/site-packages/uproot/rootio.py\u001b[0m in \u001b[0;36m_readinto\u001b[0;34m(cls, self, source, cursor, context, parent, asclass)\u001b[0m\n",
      "\u001b[0;32m~/miniconda3/lib/python3.7/site-packages/uproot/rootio.py\u001b[0m in \u001b[0;36mread\u001b[0;34m(cls, source, cursor, context, parent, asclass)\u001b[0m\n\u001b[1;32m   1456\u001b[0m             \u001b[0mcontext\u001b[0m \u001b[0;34m=\u001b[0m \u001b[0mcontext\u001b[0m\u001b[0;34m.\u001b[0m\u001b[0mcopy\u001b[0m\u001b[0;34m(\u001b[0m\u001b[0;34m)\u001b[0m\u001b[0;34m\u001b[0m\u001b[0;34m\u001b[0m\u001b[0m\n\u001b[1;32m   1457\u001b[0m         \u001b[0mout\u001b[0m \u001b[0;34m=\u001b[0m \u001b[0mcls\u001b[0m\u001b[0;34m.\u001b[0m\u001b[0m__new__\u001b[0m\u001b[0;34m(\u001b[0m\u001b[0mcls\u001b[0m\u001b[0;34m)\u001b[0m\u001b[0;34m\u001b[0m\u001b[0;34m\u001b[0m\u001b[0m\n\u001b[0;32m-> 1458\u001b[0;31m         \u001b[0mout\u001b[0m \u001b[0;34m=\u001b[0m \u001b[0mcls\u001b[0m\u001b[0;34m.\u001b[0m\u001b[0m_readinto\u001b[0m\u001b[0;34m(\u001b[0m\u001b[0mout\u001b[0m\u001b[0;34m,\u001b[0m \u001b[0msource\u001b[0m\u001b[0;34m,\u001b[0m \u001b[0mcursor\u001b[0m\u001b[0;34m,\u001b[0m \u001b[0mcontext\u001b[0m\u001b[0;34m,\u001b[0m \u001b[0mparent\u001b[0m\u001b[0;34m,\u001b[0m \u001b[0masclass\u001b[0m\u001b[0;34m=\u001b[0m\u001b[0masclass\u001b[0m\u001b[0;34m)\u001b[0m\u001b[0;34m\u001b[0m\u001b[0;34m\u001b[0m\u001b[0m\n\u001b[0m\u001b[1;32m   1459\u001b[0m         \u001b[0mout\u001b[0m\u001b[0;34m.\u001b[0m\u001b[0m_postprocess\u001b[0m\u001b[0;34m(\u001b[0m\u001b[0msource\u001b[0m\u001b[0;34m,\u001b[0m \u001b[0mcursor\u001b[0m\u001b[0;34m,\u001b[0m \u001b[0mcontext\u001b[0m\u001b[0;34m,\u001b[0m \u001b[0mparent\u001b[0m\u001b[0;34m)\u001b[0m\u001b[0;34m\u001b[0m\u001b[0;34m\u001b[0m\u001b[0m\n\u001b[1;32m   1460\u001b[0m         \u001b[0;32mreturn\u001b[0m \u001b[0mout\u001b[0m\u001b[0;34m\u001b[0m\u001b[0;34m\u001b[0m\u001b[0m\n",
      "\u001b[0;32m~/miniconda3/lib/python3.7/site-packages/uproot/rootio.py\u001b[0m in \u001b[0;36m_readinto\u001b[0;34m(cls, self, source, cursor, context, parent, asclass)\u001b[0m\n\u001b[1;32m   1466\u001b[0m         \u001b[0mname\u001b[0m \u001b[0;34m=\u001b[0m \u001b[0mcursor\u001b[0m\u001b[0;34m.\u001b[0m\u001b[0mstring\u001b[0m\u001b[0;34m(\u001b[0m\u001b[0msource\u001b[0m\u001b[0;34m)\u001b[0m\u001b[0;34m\u001b[0m\u001b[0;34m\u001b[0m\u001b[0m\n\u001b[1;32m   1467\u001b[0m         \u001b[0msize\u001b[0m\u001b[0;34m,\u001b[0m \u001b[0mlow\u001b[0m \u001b[0;34m=\u001b[0m \u001b[0mcursor\u001b[0m\u001b[0;34m.\u001b[0m\u001b[0mfields\u001b[0m\u001b[0;34m(\u001b[0m\u001b[0msource\u001b[0m\u001b[0;34m,\u001b[0m \u001b[0mstruct\u001b[0m\u001b[0;34m.\u001b[0m\u001b[0mStruct\u001b[0m\u001b[0;34m(\u001b[0m\u001b[0;34m\">ii\"\u001b[0m\u001b[0;34m)\u001b[0m\u001b[0;34m)\u001b[0m\u001b[0;34m\u001b[0m\u001b[0;34m\u001b[0m\u001b[0m\n\u001b[0;32m-> 1468\u001b[0;31m         \u001b[0mself\u001b[0m\u001b[0;34m.\u001b[0m\u001b[0mextend\u001b[0m\u001b[0;34m(\u001b[0m\u001b[0;34m[\u001b[0m\u001b[0m_readobjany\u001b[0m\u001b[0;34m(\u001b[0m\u001b[0msource\u001b[0m\u001b[0;34m,\u001b[0m \u001b[0mcursor\u001b[0m\u001b[0;34m,\u001b[0m \u001b[0mcontext\u001b[0m\u001b[0;34m,\u001b[0m \u001b[0mparent\u001b[0m\u001b[0;34m,\u001b[0m \u001b[0masclass\u001b[0m\u001b[0;34m=\u001b[0m\u001b[0masclass\u001b[0m\u001b[0;34m)\u001b[0m \u001b[0;32mfor\u001b[0m \u001b[0mi\u001b[0m \u001b[0;32min\u001b[0m \u001b[0mrange\u001b[0m\u001b[0;34m(\u001b[0m\u001b[0msize\u001b[0m\u001b[0;34m)\u001b[0m\u001b[0;34m]\u001b[0m\u001b[0;34m)\u001b[0m\u001b[0;34m\u001b[0m\u001b[0;34m\u001b[0m\u001b[0m\n\u001b[0m\u001b[1;32m   1469\u001b[0m         \u001b[0m_endcheck\u001b[0m\u001b[0;34m(\u001b[0m\u001b[0mstart\u001b[0m\u001b[0;34m,\u001b[0m \u001b[0mcursor\u001b[0m\u001b[0;34m,\u001b[0m \u001b[0mcnt\u001b[0m\u001b[0;34m)\u001b[0m\u001b[0;34m\u001b[0m\u001b[0;34m\u001b[0m\u001b[0m\n\u001b[1;32m   1470\u001b[0m         \u001b[0;32mreturn\u001b[0m \u001b[0mself\u001b[0m\u001b[0;34m\u001b[0m\u001b[0;34m\u001b[0m\u001b[0m\n",
      "\u001b[0;32m~/miniconda3/lib/python3.7/site-packages/uproot/rootio.py\u001b[0m in \u001b[0;36m<listcomp>\u001b[0;34m(.0)\u001b[0m\n\u001b[1;32m   1466\u001b[0m         \u001b[0mname\u001b[0m \u001b[0;34m=\u001b[0m \u001b[0mcursor\u001b[0m\u001b[0;34m.\u001b[0m\u001b[0mstring\u001b[0m\u001b[0;34m(\u001b[0m\u001b[0msource\u001b[0m\u001b[0;34m)\u001b[0m\u001b[0;34m\u001b[0m\u001b[0;34m\u001b[0m\u001b[0m\n\u001b[1;32m   1467\u001b[0m         \u001b[0msize\u001b[0m\u001b[0;34m,\u001b[0m \u001b[0mlow\u001b[0m \u001b[0;34m=\u001b[0m \u001b[0mcursor\u001b[0m\u001b[0;34m.\u001b[0m\u001b[0mfields\u001b[0m\u001b[0;34m(\u001b[0m\u001b[0msource\u001b[0m\u001b[0;34m,\u001b[0m \u001b[0mstruct\u001b[0m\u001b[0;34m.\u001b[0m\u001b[0mStruct\u001b[0m\u001b[0;34m(\u001b[0m\u001b[0;34m\">ii\"\u001b[0m\u001b[0;34m)\u001b[0m\u001b[0;34m)\u001b[0m\u001b[0;34m\u001b[0m\u001b[0;34m\u001b[0m\u001b[0m\n\u001b[0;32m-> 1468\u001b[0;31m         \u001b[0mself\u001b[0m\u001b[0;34m.\u001b[0m\u001b[0mextend\u001b[0m\u001b[0;34m(\u001b[0m\u001b[0;34m[\u001b[0m\u001b[0m_readobjany\u001b[0m\u001b[0;34m(\u001b[0m\u001b[0msource\u001b[0m\u001b[0;34m,\u001b[0m \u001b[0mcursor\u001b[0m\u001b[0;34m,\u001b[0m \u001b[0mcontext\u001b[0m\u001b[0;34m,\u001b[0m \u001b[0mparent\u001b[0m\u001b[0;34m,\u001b[0m \u001b[0masclass\u001b[0m\u001b[0;34m=\u001b[0m\u001b[0masclass\u001b[0m\u001b[0;34m)\u001b[0m \u001b[0;32mfor\u001b[0m \u001b[0mi\u001b[0m \u001b[0;32min\u001b[0m \u001b[0mrange\u001b[0m\u001b[0;34m(\u001b[0m\u001b[0msize\u001b[0m\u001b[0;34m)\u001b[0m\u001b[0;34m]\u001b[0m\u001b[0;34m)\u001b[0m\u001b[0;34m\u001b[0m\u001b[0;34m\u001b[0m\u001b[0m\n\u001b[0m\u001b[1;32m   1469\u001b[0m         \u001b[0m_endcheck\u001b[0m\u001b[0;34m(\u001b[0m\u001b[0mstart\u001b[0m\u001b[0;34m,\u001b[0m \u001b[0mcursor\u001b[0m\u001b[0;34m,\u001b[0m \u001b[0mcnt\u001b[0m\u001b[0;34m)\u001b[0m\u001b[0;34m\u001b[0m\u001b[0;34m\u001b[0m\u001b[0m\n\u001b[1;32m   1470\u001b[0m         \u001b[0;32mreturn\u001b[0m \u001b[0mself\u001b[0m\u001b[0;34m\u001b[0m\u001b[0;34m\u001b[0m\u001b[0m\n",
      "\u001b[0;32m~/miniconda3/lib/python3.7/site-packages/uproot/rootio.py\u001b[0m in \u001b[0;36m_readobjany\u001b[0;34m(source, cursor, context, parent, asclass)\u001b[0m\n\u001b[1;32m    558\u001b[0m                 \u001b[0;32mraise\u001b[0m \u001b[0mIOError\u001b[0m\u001b[0;34m(\u001b[0m\u001b[0;34m\"invalid class-tag reference (not a recognized class: {0})\\nin file: {1}\"\u001b[0m\u001b[0;34m.\u001b[0m\u001b[0mformat\u001b[0m\u001b[0;34m(\u001b[0m\u001b[0mfct\u001b[0m\u001b[0;34m,\u001b[0m \u001b[0mcontext\u001b[0m\u001b[0;34m.\u001b[0m\u001b[0msourcepath\u001b[0m\u001b[0;34m)\u001b[0m\u001b[0;34m)\u001b[0m\u001b[0;34m\u001b[0m\u001b[0;34m\u001b[0m\u001b[0m\n\u001b[1;32m    559\u001b[0m \u001b[0;34m\u001b[0m\u001b[0m\n\u001b[0;32m--> 560\u001b[0;31m             \u001b[0mobj\u001b[0m \u001b[0;34m=\u001b[0m \u001b[0mfct\u001b[0m\u001b[0;34m.\u001b[0m\u001b[0mread\u001b[0m\u001b[0;34m(\u001b[0m\u001b[0msource\u001b[0m\u001b[0;34m,\u001b[0m \u001b[0mcursor\u001b[0m\u001b[0;34m,\u001b[0m \u001b[0mcontext\u001b[0m\u001b[0;34m,\u001b[0m \u001b[0mparent\u001b[0m\u001b[0;34m)\u001b[0m     \u001b[0;31m# new object\u001b[0m\u001b[0;34m\u001b[0m\u001b[0;34m\u001b[0m\u001b[0m\n\u001b[0m\u001b[1;32m    561\u001b[0m \u001b[0;34m\u001b[0m\u001b[0m\n\u001b[1;32m    562\u001b[0m         \u001b[0;32melse\u001b[0m\u001b[0;34m:\u001b[0m\u001b[0;34m\u001b[0m\u001b[0;34m\u001b[0m\u001b[0m\n",
      "\u001b[0;32m~/miniconda3/lib/python3.7/site-packages/uproot/rootio.py\u001b[0m in \u001b[0;36mread\u001b[0;34m(cls, source, cursor, context, parent)\u001b[0m\n\u001b[1;32m    987\u001b[0m             \u001b[0mcontext\u001b[0m \u001b[0;34m=\u001b[0m \u001b[0mcontext\u001b[0m\u001b[0;34m.\u001b[0m\u001b[0mcopy\u001b[0m\u001b[0;34m(\u001b[0m\u001b[0;34m)\u001b[0m\u001b[0;34m\u001b[0m\u001b[0;34m\u001b[0m\u001b[0m\n\u001b[1;32m    988\u001b[0m         \u001b[0mout\u001b[0m \u001b[0;34m=\u001b[0m \u001b[0mcls\u001b[0m\u001b[0;34m.\u001b[0m\u001b[0m__new__\u001b[0m\u001b[0;34m(\u001b[0m\u001b[0mcls\u001b[0m\u001b[0;34m)\u001b[0m\u001b[0;34m\u001b[0m\u001b[0;34m\u001b[0m\u001b[0m\n\u001b[0;32m--> 989\u001b[0;31m         \u001b[0mout\u001b[0m \u001b[0;34m=\u001b[0m \u001b[0mcls\u001b[0m\u001b[0;34m.\u001b[0m\u001b[0m_readinto\u001b[0m\u001b[0;34m(\u001b[0m\u001b[0mout\u001b[0m\u001b[0;34m,\u001b[0m \u001b[0msource\u001b[0m\u001b[0;34m,\u001b[0m \u001b[0mcursor\u001b[0m\u001b[0;34m,\u001b[0m \u001b[0mcontext\u001b[0m\u001b[0;34m,\u001b[0m \u001b[0mparent\u001b[0m\u001b[0;34m)\u001b[0m\u001b[0;34m\u001b[0m\u001b[0;34m\u001b[0m\u001b[0m\n\u001b[0m\u001b[1;32m    990\u001b[0m         \u001b[0mout\u001b[0m\u001b[0;34m.\u001b[0m\u001b[0m_postprocess\u001b[0m\u001b[0;34m(\u001b[0m\u001b[0msource\u001b[0m\u001b[0;34m,\u001b[0m \u001b[0mcursor\u001b[0m\u001b[0;34m,\u001b[0m \u001b[0mcontext\u001b[0m\u001b[0;34m,\u001b[0m \u001b[0mparent\u001b[0m\u001b[0;34m)\u001b[0m\u001b[0;34m\u001b[0m\u001b[0;34m\u001b[0m\u001b[0m\n\u001b[1;32m    991\u001b[0m         \u001b[0;32mreturn\u001b[0m \u001b[0mout\u001b[0m\u001b[0;34m\u001b[0m\u001b[0;34m\u001b[0m\u001b[0m\n",
      "\u001b[0;32m~/miniconda3/lib/python3.7/site-packages/uproot/rootio.py\u001b[0m in \u001b[0;36m_readinto\u001b[0;34m(cls, self, source, cursor, context, parent, asclass)\u001b[0m\n",
      "\u001b[0;32m~/miniconda3/lib/python3.7/site-packages/uproot/rootio.py\u001b[0m in \u001b[0;36m_readinto\u001b[0;34m(cls, self, source, cursor, context, parent, asclass)\u001b[0m\n",
      "\u001b[0;32m~/miniconda3/lib/python3.7/site-packages/uproot/rootio.py\u001b[0m in \u001b[0;36m_startcheck\u001b[0;34m(source, cursor)\u001b[0m\n\u001b[1;32m    440\u001b[0m     \u001b[0mstart\u001b[0m \u001b[0;34m=\u001b[0m \u001b[0mcursor\u001b[0m\u001b[0;34m.\u001b[0m\u001b[0mindex\u001b[0m\u001b[0;34m\u001b[0m\u001b[0;34m\u001b[0m\u001b[0m\n\u001b[1;32m    441\u001b[0m     \u001b[0mcnt\u001b[0m\u001b[0;34m,\u001b[0m \u001b[0mvers\u001b[0m \u001b[0;34m=\u001b[0m \u001b[0mcursor\u001b[0m\u001b[0;34m.\u001b[0m\u001b[0mfields\u001b[0m\u001b[0;34m(\u001b[0m\u001b[0msource\u001b[0m\u001b[0;34m,\u001b[0m \u001b[0m_startcheck\u001b[0m\u001b[0;34m.\u001b[0m\u001b[0m_format_cntvers\u001b[0m\u001b[0;34m)\u001b[0m\u001b[0;34m\u001b[0m\u001b[0;34m\u001b[0m\u001b[0m\n\u001b[0;32m--> 442\u001b[0;31m     \u001b[0;32mif\u001b[0m \u001b[0mnumpy\u001b[0m\u001b[0;34m.\u001b[0m\u001b[0mint64\u001b[0m\u001b[0;34m(\u001b[0m\u001b[0mcnt\u001b[0m\u001b[0;34m)\u001b[0m \u001b[0;34m&\u001b[0m \u001b[0muproot\u001b[0m\u001b[0;34m.\u001b[0m\u001b[0mconst\u001b[0m\u001b[0;34m.\u001b[0m\u001b[0mkByteCountMask\u001b[0m\u001b[0;34m:\u001b[0m\u001b[0;34m\u001b[0m\u001b[0;34m\u001b[0m\u001b[0m\n\u001b[0m\u001b[1;32m    443\u001b[0m         \u001b[0mcnt\u001b[0m \u001b[0;34m=\u001b[0m \u001b[0mint\u001b[0m\u001b[0;34m(\u001b[0m\u001b[0mnumpy\u001b[0m\u001b[0;34m.\u001b[0m\u001b[0mint64\u001b[0m\u001b[0;34m(\u001b[0m\u001b[0mcnt\u001b[0m\u001b[0;34m)\u001b[0m \u001b[0;34m&\u001b[0m \u001b[0;34m~\u001b[0m\u001b[0muproot\u001b[0m\u001b[0;34m.\u001b[0m\u001b[0mconst\u001b[0m\u001b[0;34m.\u001b[0m\u001b[0mkByteCountMask\u001b[0m\u001b[0;34m)\u001b[0m\u001b[0;34m\u001b[0m\u001b[0;34m\u001b[0m\u001b[0m\n\u001b[1;32m    444\u001b[0m         \u001b[0;32mreturn\u001b[0m \u001b[0mstart\u001b[0m\u001b[0;34m,\u001b[0m \u001b[0mcnt\u001b[0m \u001b[0;34m+\u001b[0m \u001b[0;36m4\u001b[0m\u001b[0;34m,\u001b[0m \u001b[0mvers\u001b[0m\u001b[0;34m\u001b[0m\u001b[0;34m\u001b[0m\u001b[0m\n",
      "\u001b[0;31mKeyboardInterrupt\u001b[0m: "
     ]
    }
   ],
   "metadata": {}
  },
  {
   "cell_type": "code",
   "execution_count": null,
   "source": [],
   "outputs": [],
   "metadata": {}
  }
 ],
 "metadata": {
  "interpreter": {
   "hash": "2bd8a6aee1135029be5a191617e7d3f148d064ac39998b0aa8fd711311cd18dd"
  },
  "kernelspec": {
   "name": "python3",
   "display_name": "Python 3.7.9 64-bit ('base': conda)"
  },
  "language_info": {
   "codemirror_mode": {
    "name": "ipython",
    "version": 3
   },
   "file_extension": ".py",
   "mimetype": "text/x-python",
   "name": "python",
   "nbconvert_exporter": "python",
   "pygments_lexer": "ipython3",
   "version": "3.7.9"
  }
 },
 "nbformat": 4,
 "nbformat_minor": 2
}