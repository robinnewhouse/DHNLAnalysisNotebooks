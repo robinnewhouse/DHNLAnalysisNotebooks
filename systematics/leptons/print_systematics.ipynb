{
 "cells": [
  {
   "cell_type": "code",
   "execution_count": 1,
   "source": [
    "import uproot\n",
    "import numpy as np\n",
    "import matplotlib.pyplot as plt"
   ],
   "outputs": [],
   "metadata": {}
  },
  {
   "cell_type": "code",
   "execution_count": 7,
   "source": [
    "filename = '/data/hnl/ntuples/v8p1_ntuples/mc/group.phys-exotics.mc16_13TeV.311602.DAOD_EXOT29.e7422_e5984_a875_r11916_r11748_p4482.dhnl_ntuple_v8p1.v1_tree.root/group.phys-exotics.26356380._000001.tree.root'\n",
    "df = uproot.open(filename)['nominal'].pandas.df(['passedTriggers'], flatten=False);\n",
    "df['passes_trigger'] = df.apply(lambda x : b'HLT_mu26_ivarmedium' in x[0] or b'HLT_mu20_iloose_L1MU15' in x[0] , axis=1);\n",
    "print(df['passes_trigger'].value_counts())\n",
    "df[df.passes_trigger]"
   ],
   "outputs": [
    {
     "output_type": "stream",
     "name": "stderr",
     "text": [
      "/home/newhouse/miniconda3/lib/python3.7/site-packages/awkward/array/base.py:394: VisibleDeprecationWarning: Creating an ndarray from ragged nested sequences (which is a list-or-tuple of lists-or-tuples-or ndarrays with different lengths or shapes) is deprecated. If you meant to do this, you must specify 'dtype=object' when creating the ndarray.\n",
      "  return cls.numpy.array(value, copy=False)\n"
     ]
    },
    {
     "output_type": "stream",
     "name": "stdout",
     "text": [
      "False    13285\n",
      "True      6715\n",
      "Name: passes_trigger, dtype: int64\n"
     ]
    },
    {
     "output_type": "execute_result",
     "data": {
      "text/html": [
       "<div>\n",
       "<style scoped>\n",
       "    .dataframe tbody tr th:only-of-type {\n",
       "        vertical-align: middle;\n",
       "    }\n",
       "\n",
       "    .dataframe tbody tr th {\n",
       "        vertical-align: top;\n",
       "    }\n",
       "\n",
       "    .dataframe thead th {\n",
       "        text-align: right;\n",
       "    }\n",
       "</style>\n",
       "<table border=\"1\" class=\"dataframe\">\n",
       "  <thead>\n",
       "    <tr style=\"text-align: right;\">\n",
       "      <th></th>\n",
       "      <th>passedTriggers</th>\n",
       "      <th>passes_trigger</th>\n",
       "    </tr>\n",
       "    <tr>\n",
       "      <th>entry</th>\n",
       "      <th></th>\n",
       "      <th></th>\n",
       "    </tr>\n",
       "  </thead>\n",
       "  <tbody>\n",
       "    <tr>\n",
       "      <th>3</th>\n",
       "      <td>[b'HLT_mu26_ivarmedium']</td>\n",
       "      <td>True</td>\n",
       "    </tr>\n",
       "    <tr>\n",
       "      <th>5</th>\n",
       "      <td>[b'HLT_mu26_ivarmedium']</td>\n",
       "      <td>True</td>\n",
       "    </tr>\n",
       "    <tr>\n",
       "      <th>8</th>\n",
       "      <td>[b'HLT_mu26_ivarmedium']</td>\n",
       "      <td>True</td>\n",
       "    </tr>\n",
       "    <tr>\n",
       "      <th>10</th>\n",
       "      <td>[b'HLT_mu26_ivarmedium']</td>\n",
       "      <td>True</td>\n",
       "    </tr>\n",
       "    <tr>\n",
       "      <th>19</th>\n",
       "      <td>[b'HLT_mu26_ivarmedium']</td>\n",
       "      <td>True</td>\n",
       "    </tr>\n",
       "    <tr>\n",
       "      <th>...</th>\n",
       "      <td>...</td>\n",
       "      <td>...</td>\n",
       "    </tr>\n",
       "    <tr>\n",
       "      <th>19987</th>\n",
       "      <td>[b'HLT_mu26_ivarmedium']</td>\n",
       "      <td>True</td>\n",
       "    </tr>\n",
       "    <tr>\n",
       "      <th>19992</th>\n",
       "      <td>[b'HLT_mu26_ivarmedium']</td>\n",
       "      <td>True</td>\n",
       "    </tr>\n",
       "    <tr>\n",
       "      <th>19993</th>\n",
       "      <td>[b'HLT_mu26_ivarmedium']</td>\n",
       "      <td>True</td>\n",
       "    </tr>\n",
       "    <tr>\n",
       "      <th>19997</th>\n",
       "      <td>[b'HLT_mu26_ivarmedium']</td>\n",
       "      <td>True</td>\n",
       "    </tr>\n",
       "    <tr>\n",
       "      <th>19998</th>\n",
       "      <td>[b'HLT_mu26_ivarmedium']</td>\n",
       "      <td>True</td>\n",
       "    </tr>\n",
       "  </tbody>\n",
       "</table>\n",
       "<p>6715 rows × 2 columns</p>\n",
       "</div>"
      ],
      "text/plain": [
       "                 passedTriggers  passes_trigger\n",
       "entry                                          \n",
       "3      [b'HLT_mu26_ivarmedium']            True\n",
       "5      [b'HLT_mu26_ivarmedium']            True\n",
       "8      [b'HLT_mu26_ivarmedium']            True\n",
       "10     [b'HLT_mu26_ivarmedium']            True\n",
       "19     [b'HLT_mu26_ivarmedium']            True\n",
       "...                         ...             ...\n",
       "19987  [b'HLT_mu26_ivarmedium']            True\n",
       "19992  [b'HLT_mu26_ivarmedium']            True\n",
       "19993  [b'HLT_mu26_ivarmedium']            True\n",
       "19997  [b'HLT_mu26_ivarmedium']            True\n",
       "19998  [b'HLT_mu26_ivarmedium']            True\n",
       "\n",
       "[6715 rows x 2 columns]"
      ]
     },
     "metadata": {},
     "execution_count": 7
    }
   ],
   "metadata": {}
  },
  {
   "cell_type": "code",
   "execution_count": null,
   "source": [],
   "outputs": [],
   "metadata": {}
  },
  {
   "cell_type": "code",
   "execution_count": 60,
   "source": [
    "df = uproot.open('/data/hnl/ntuples/v6p0_ntuples/mc/group.phys-exotics.mc16_13TeV.311633.DAOD_EXOT29.e7422_e5984_a875_r11915_r11748_p4482.dhnl_ntuple_v6p0.v2_tree.root/group.phys-exotics.25819651._000001.tree.root')['outTree'].pandas.df(['passedTriggers'], flatten=False);\n",
    "df['passes_trigger'] = df.apply(lambda x : b'HLT_mu26_ivarmedium' in x[0] and b'HLT_mu20_iloose_L1MU15' in x[0] , axis=1)\n",
    "df\n",
    "df['passes_trigger'].value_counts()\n"
   ],
   "outputs": [
    {
     "output_type": "stream",
     "name": "stderr",
     "text": [
      "/home/newhouse/miniconda3/lib/python3.7/site-packages/awkward/array/base.py:394: VisibleDeprecationWarning: Creating an ndarray from ragged nested sequences (which is a list-or-tuple of lists-or-tuples-or ndarrays with different lengths or shapes) is deprecated. If you meant to do this, you must specify 'dtype=object' when creating the ndarray.\n",
      "  return cls.numpy.array(value, copy=False)\n"
     ]
    },
    {
     "output_type": "execute_result",
     "data": {
      "text/plain": [
       "False    6401\n",
       "True     3599\n",
       "Name: passes_trigger, dtype: int64"
      ]
     },
     "metadata": {},
     "execution_count": 60
    }
   ],
   "metadata": {}
  },
  {
   "cell_type": "code",
   "execution_count": 4,
   "source": [
    "df"
   ],
   "outputs": [
    {
     "output_type": "execute_result",
     "data": {
      "text/html": [
       "<div>\n",
       "<style scoped>\n",
       "    .dataframe tbody tr th:only-of-type {\n",
       "        vertical-align: middle;\n",
       "    }\n",
       "\n",
       "    .dataframe tbody tr th {\n",
       "        vertical-align: top;\n",
       "    }\n",
       "\n",
       "    .dataframe thead th {\n",
       "        text-align: right;\n",
       "    }\n",
       "</style>\n",
       "<table border=\"1\" class=\"dataframe\">\n",
       "  <thead>\n",
       "    <tr style=\"text-align: right;\">\n",
       "      <th></th>\n",
       "      <th>muon_pt</th>\n",
       "      <th>muon_RecoEff_SF_Medium_sysNames</th>\n",
       "      <th>muon_RecoEff_SF_RecoMedium</th>\n",
       "      <th>muon_TrigEff_SF_HLT_mu26_ivarmedium_RecoMedium</th>\n",
       "      <th>muon_TrigEff_SF_HLT_mu20_iloose_L1MU15_RecoMedium</th>\n",
       "    </tr>\n",
       "    <tr>\n",
       "      <th>entry</th>\n",
       "      <th></th>\n",
       "      <th></th>\n",
       "      <th></th>\n",
       "      <th></th>\n",
       "      <th></th>\n",
       "    </tr>\n",
       "  </thead>\n",
       "  <tbody>\n",
       "    <tr>\n",
       "      <th>0</th>\n",
       "      <td>[31.53958, 27.567934, 12.247906]</td>\n",
       "      <td>[b'', b'MUON_EFF_RECO_STAT_LOWPT__1down', b'MU...</td>\n",
       "      <td>[[0.9949961, 0.9949961, 0.9949961, 0.99443436,...</td>\n",
       "      <td>[[0.99770015, 0.9950428, 1.0002999, 0.9929889,...</td>\n",
       "      <td>[[-1.0], [-1.0], [-1.0]]</td>\n",
       "    </tr>\n",
       "    <tr>\n",
       "      <th>1</th>\n",
       "      <td>[44.376354, 38.709682, 34.188484]</td>\n",
       "      <td>[b'', b'MUON_EFF_RECO_STAT_LOWPT__1down', b'MU...</td>\n",
       "      <td>[[1.0045885, 1.0045885, 1.0045885, 1.0034566, ...</td>\n",
       "      <td>[[0.94498914, 0.93305916, 0.95687616, 0.939446...</td>\n",
       "      <td>[[-1.0], [-1.0], [-1.0]]</td>\n",
       "    </tr>\n",
       "    <tr>\n",
       "      <th>2</th>\n",
       "      <td>[40.25625, 18.751348, 12.825718]</td>\n",
       "      <td>[b'', b'MUON_EFF_RECO_STAT_LOWPT__1down', b'MU...</td>\n",
       "      <td>[[0.99778664, 0.99778664, 0.99778664, 0.997381...</td>\n",
       "      <td>[[0.9447082, 0.94247115, 0.94692093, 0.9387388...</td>\n",
       "      <td>[[-1.0], [-1.0], [-1.0]]</td>\n",
       "    </tr>\n",
       "    <tr>\n",
       "      <th>3</th>\n",
       "      <td>[26.539574, 10.159995, 3.363718]</td>\n",
       "      <td>[b'', b'MUON_EFF_RECO_STAT_LOWPT__1down', b'MU...</td>\n",
       "      <td>[[0.993639, 0.993639, 0.993639, 0.99311274, 0....</td>\n",
       "      <td>[[0.0, 0.0, 0.0, 0.0, 0.0, 0.0, 0.0, 0.0, 0.0,...</td>\n",
       "      <td>[[-1.0], [-1.0], [-1.0]]</td>\n",
       "    </tr>\n",
       "    <tr>\n",
       "      <th>4</th>\n",
       "      <td>[41.10127, 23.70125, 3.2300112]</td>\n",
       "      <td>[b'', b'MUON_EFF_RECO_STAT_LOWPT__1down', b'MU...</td>\n",
       "      <td>[[0.9962693, 0.9962693, 0.9962693, 0.99571514,...</td>\n",
       "      <td>[[1.0103573, 1.0082562, 1.0124213, 1.0068669, ...</td>\n",
       "      <td>[[-1.0], [-1.0], [-1.0]]</td>\n",
       "    </tr>\n",
       "    <tr>\n",
       "      <th>5</th>\n",
       "      <td>[35.785618, 9.815993]</td>\n",
       "      <td>[b'', b'MUON_EFF_RECO_STAT_LOWPT__1down', b'MU...</td>\n",
       "      <td>[[0.99706125, 0.99706125, 0.99706125, 0.995254...</td>\n",
       "      <td>[[0.0, 0.0, 0.0, 0.0, 0.0], [0.0, 0.0, 0.0, 0....</td>\n",
       "      <td>[[0.9216986, 0.91083425, 0.9321743, 0.9142554,...</td>\n",
       "    </tr>\n",
       "    <tr>\n",
       "      <th>6</th>\n",
       "      <td>[36.081512]</td>\n",
       "      <td>[b'', b'MUON_EFF_RECO_STAT_LOWPT__1down', b'MU...</td>\n",
       "      <td>[[0.98684436, 0.98684436, 0.98684436, 0.986134...</td>\n",
       "      <td>[[0.9914931, 0.9888805, 0.9940666, 0.98879933,...</td>\n",
       "      <td>[[-1.0]]</td>\n",
       "    </tr>\n",
       "    <tr>\n",
       "      <th>7</th>\n",
       "      <td>[26.80445]</td>\n",
       "      <td>[b'', b'MUON_EFF_RECO_STAT_LOWPT__1down', b'MU...</td>\n",
       "      <td>[[0.995113, 0.995113, 0.995113, 0.99454427, 0....</td>\n",
       "      <td>[[0.0, 0.0, 0.0, 0.0, 0.0, 0.0, 0.0, 0.0, 0.0,...</td>\n",
       "      <td>[[-1.0]]</td>\n",
       "    </tr>\n",
       "    <tr>\n",
       "      <th>8</th>\n",
       "      <td>[38.973213, 10.452066, 8.143545]</td>\n",
       "      <td>[b'', b'MUON_EFF_RECO_STAT_LOWPT__1down', b'MU...</td>\n",
       "      <td>[[0.9960908, 0.9960908, 0.9960908, 0.995518, 0...</td>\n",
       "      <td>[[1.0206124, 1.0161854, 1.0247872, 1.0164986, ...</td>\n",
       "      <td>[[-1.0], [-1.0], [-1.0]]</td>\n",
       "    </tr>\n",
       "    <tr>\n",
       "      <th>9</th>\n",
       "      <td>[5.6330285]</td>\n",
       "      <td>[b'', b'MUON_EFF_RECO_STAT_LOWPT__1down', b'MU...</td>\n",
       "      <td>[[0.99386644, 0.9914059, 0.996327, 0.99386644,...</td>\n",
       "      <td>[[0.0, 0.0, 0.0, 0.0, 0.0, 0.0, 0.0, 0.0, 0.0,...</td>\n",
       "      <td>[[-1.0]]</td>\n",
       "    </tr>\n",
       "  </tbody>\n",
       "</table>\n",
       "</div>"
      ],
      "text/plain": [
       "                                 muon_pt  \\\n",
       "entry                                      \n",
       "0       [31.53958, 27.567934, 12.247906]   \n",
       "1      [44.376354, 38.709682, 34.188484]   \n",
       "2       [40.25625, 18.751348, 12.825718]   \n",
       "3       [26.539574, 10.159995, 3.363718]   \n",
       "4        [41.10127, 23.70125, 3.2300112]   \n",
       "5                  [35.785618, 9.815993]   \n",
       "6                            [36.081512]   \n",
       "7                             [26.80445]   \n",
       "8       [38.973213, 10.452066, 8.143545]   \n",
       "9                            [5.6330285]   \n",
       "\n",
       "                         muon_RecoEff_SF_Medium_sysNames  \\\n",
       "entry                                                      \n",
       "0      [b'', b'MUON_EFF_RECO_STAT_LOWPT__1down', b'MU...   \n",
       "1      [b'', b'MUON_EFF_RECO_STAT_LOWPT__1down', b'MU...   \n",
       "2      [b'', b'MUON_EFF_RECO_STAT_LOWPT__1down', b'MU...   \n",
       "3      [b'', b'MUON_EFF_RECO_STAT_LOWPT__1down', b'MU...   \n",
       "4      [b'', b'MUON_EFF_RECO_STAT_LOWPT__1down', b'MU...   \n",
       "5      [b'', b'MUON_EFF_RECO_STAT_LOWPT__1down', b'MU...   \n",
       "6      [b'', b'MUON_EFF_RECO_STAT_LOWPT__1down', b'MU...   \n",
       "7      [b'', b'MUON_EFF_RECO_STAT_LOWPT__1down', b'MU...   \n",
       "8      [b'', b'MUON_EFF_RECO_STAT_LOWPT__1down', b'MU...   \n",
       "9      [b'', b'MUON_EFF_RECO_STAT_LOWPT__1down', b'MU...   \n",
       "\n",
       "                              muon_RecoEff_SF_RecoMedium  \\\n",
       "entry                                                      \n",
       "0      [[0.9949961, 0.9949961, 0.9949961, 0.99443436,...   \n",
       "1      [[1.0045885, 1.0045885, 1.0045885, 1.0034566, ...   \n",
       "2      [[0.99778664, 0.99778664, 0.99778664, 0.997381...   \n",
       "3      [[0.993639, 0.993639, 0.993639, 0.99311274, 0....   \n",
       "4      [[0.9962693, 0.9962693, 0.9962693, 0.99571514,...   \n",
       "5      [[0.99706125, 0.99706125, 0.99706125, 0.995254...   \n",
       "6      [[0.98684436, 0.98684436, 0.98684436, 0.986134...   \n",
       "7      [[0.995113, 0.995113, 0.995113, 0.99454427, 0....   \n",
       "8      [[0.9960908, 0.9960908, 0.9960908, 0.995518, 0...   \n",
       "9      [[0.99386644, 0.9914059, 0.996327, 0.99386644,...   \n",
       "\n",
       "          muon_TrigEff_SF_HLT_mu26_ivarmedium_RecoMedium  \\\n",
       "entry                                                      \n",
       "0      [[0.99770015, 0.9950428, 1.0002999, 0.9929889,...   \n",
       "1      [[0.94498914, 0.93305916, 0.95687616, 0.939446...   \n",
       "2      [[0.9447082, 0.94247115, 0.94692093, 0.9387388...   \n",
       "3      [[0.0, 0.0, 0.0, 0.0, 0.0, 0.0, 0.0, 0.0, 0.0,...   \n",
       "4      [[1.0103573, 1.0082562, 1.0124213, 1.0068669, ...   \n",
       "5      [[0.0, 0.0, 0.0, 0.0, 0.0], [0.0, 0.0, 0.0, 0....   \n",
       "6      [[0.9914931, 0.9888805, 0.9940666, 0.98879933,...   \n",
       "7      [[0.0, 0.0, 0.0, 0.0, 0.0, 0.0, 0.0, 0.0, 0.0,...   \n",
       "8      [[1.0206124, 1.0161854, 1.0247872, 1.0164986, ...   \n",
       "9      [[0.0, 0.0, 0.0, 0.0, 0.0, 0.0, 0.0, 0.0, 0.0,...   \n",
       "\n",
       "       muon_TrigEff_SF_HLT_mu20_iloose_L1MU15_RecoMedium  \n",
       "entry                                                     \n",
       "0                               [[-1.0], [-1.0], [-1.0]]  \n",
       "1                               [[-1.0], [-1.0], [-1.0]]  \n",
       "2                               [[-1.0], [-1.0], [-1.0]]  \n",
       "3                               [[-1.0], [-1.0], [-1.0]]  \n",
       "4                               [[-1.0], [-1.0], [-1.0]]  \n",
       "5      [[0.9216986, 0.91083425, 0.9321743, 0.9142554,...  \n",
       "6                                               [[-1.0]]  \n",
       "7                                               [[-1.0]]  \n",
       "8                               [[-1.0], [-1.0], [-1.0]]  \n",
       "9                                               [[-1.0]]  "
      ]
     },
     "metadata": {},
     "execution_count": 4
    }
   ],
   "metadata": {}
  },
  {
   "cell_type": "code",
   "execution_count": 5,
   "source": [
    "df['muon_RecoEff_SF_RecoMedium'].apply(lambda x: x[0][0])"
   ],
   "outputs": [
    {
     "output_type": "execute_result",
     "data": {
      "text/plain": [
       "entry\n",
       "0    0.994996\n",
       "1    1.004588\n",
       "2    0.997787\n",
       "3    0.993639\n",
       "4    0.996269\n",
       "5    0.997061\n",
       "6    0.986844\n",
       "7    0.995113\n",
       "8    0.996091\n",
       "9    0.993866\n",
       "Name: muon_RecoEff_SF_RecoMedium, dtype: float64"
      ]
     },
     "metadata": {},
     "execution_count": 5
    }
   ],
   "metadata": {}
  },
  {
   "cell_type": "code",
   "execution_count": 8,
   "source": [
    "df = nominal.pandas.df(['el_pt', 'el_PIDEff_SF_*', 'el_TrigEff_SF_SINGLE_E_*'], flatten=False)\n",
    "df.iloc[2]\n"
   ],
   "outputs": [
    {
     "output_type": "error",
     "ename": "NameError",
     "evalue": "name 'nominal' is not defined",
     "traceback": [
      "\u001b[0;31m---------------------------------------------------------------------------\u001b[0m",
      "\u001b[0;31mNameError\u001b[0m                                 Traceback (most recent call last)",
      "\u001b[0;32m<ipython-input-8-887aab566943>\u001b[0m in \u001b[0;36m<module>\u001b[0;34m\u001b[0m\n\u001b[0;32m----> 1\u001b[0;31m \u001b[0mdf\u001b[0m \u001b[0;34m=\u001b[0m \u001b[0mnominal\u001b[0m\u001b[0;34m.\u001b[0m\u001b[0mpandas\u001b[0m\u001b[0;34m.\u001b[0m\u001b[0mdf\u001b[0m\u001b[0;34m(\u001b[0m\u001b[0;34m[\u001b[0m\u001b[0;34m'el_pt'\u001b[0m\u001b[0;34m,\u001b[0m \u001b[0;34m'el_PIDEff_SF_*'\u001b[0m\u001b[0;34m,\u001b[0m \u001b[0;34m'el_TrigEff_SF_SINGLE_E_*'\u001b[0m\u001b[0;34m]\u001b[0m\u001b[0;34m,\u001b[0m \u001b[0mflatten\u001b[0m\u001b[0;34m=\u001b[0m\u001b[0;32mFalse\u001b[0m\u001b[0;34m)\u001b[0m\u001b[0;34m\u001b[0m\u001b[0;34m\u001b[0m\u001b[0m\n\u001b[0m\u001b[1;32m      2\u001b[0m \u001b[0mdf\u001b[0m\u001b[0;34m.\u001b[0m\u001b[0miloc\u001b[0m\u001b[0;34m[\u001b[0m\u001b[0;36m2\u001b[0m\u001b[0;34m]\u001b[0m\u001b[0;34m\u001b[0m\u001b[0;34m\u001b[0m\u001b[0m\n",
      "\u001b[0;31mNameError\u001b[0m: name 'nominal' is not defined"
     ]
    }
   ],
   "metadata": {}
  },
  {
   "cell_type": "code",
   "execution_count": 15,
   "source": [
    "import uproot\n",
    "metadata = uproot.open('/home/newhouse/tmp/mc16_13TeV.312983.Pythia8EvtGen_A14NNPDF23LO_WelHNL50_7p5G_lt1dd_emu.NTUPLE.e7902_e5984_a875_r11915_r11748_p4482.v9p0/submitDir/data-metadata/files.root')\n",
    "# print(*list(enumerate(metadata['systematics']['MuonEfficiencyCorrector_TrigSyst_RecoMedium'].xlabels)), sep='\\n')\n",
    "# metadata['systematics']['MuonEfficiencyCorrector_RecoSyst_RecoMedium'].xlabels\n",
    "# for k in metadata['systematics'].keys():\n",
    "#     print(k.decode())\n",
    "#     print()\n",
    "    \n",
    "# systematics I care about\n",
    "for k in [\n",
    "    'MuonEfficiencyCorrector_RecoSyst_RecoMedium',\n",
    "    'MuonEfficiencyCorrector_TrigSyst_RecoMedium',\n",
    "    'EleEffCorr_RecoSyst_Reconstruction',\n",
    "    'EleEffCorr_PIDSyst_LooseBLayer',\n",
    "    'EleEffCorr_PIDSyst_Medium',\n",
    "    'EleEffCorr_TrigSyst_SINGLE_E_2015_e24_lhmedium_L1EM20VH_OR_e60_lhmedium_OR_e120_lhloose_2016_2018_e26_lhtight_nod0_ivarloose_OR_e60_lhmedium_nod0_OR_e140_lhloose_nod0_Medium_isolGradient',\n",
    "]:\n",
    "    # print(k)\n",
    "    print(*list(enumerate(metadata['systematics'][k].xlabels)), sep='\\n')\n",
    "    # print()\n"
   ],
   "outputs": [
    {
     "output_type": "stream",
     "name": "stdout",
     "text": [
      "(0, 'nominal')\n",
      "(1, 'MUON_EFF_RECO_STAT_LOWPT__1down')\n",
      "(2, 'MUON_EFF_RECO_STAT_LOWPT__1up')\n",
      "(3, 'MUON_EFF_RECO_STAT__1down')\n",
      "(4, 'MUON_EFF_RECO_STAT__1up')\n",
      "(5, 'MUON_EFF_RECO_SYS_LOWPT__1down')\n",
      "(6, 'MUON_EFF_RECO_SYS_LOWPT__1up')\n",
      "(7, 'MUON_EFF_RECO_SYS__1down')\n",
      "(8, 'MUON_EFF_RECO_SYS__1up')\n",
      "(0, 'nominal')\n",
      "(1, 'MUON_EFF_TrigStatUncertainty__1down')\n",
      "(2, 'MUON_EFF_TrigStatUncertainty__1up')\n",
      "(3, 'MUON_EFF_TrigSystUncertainty__1down')\n",
      "(4, 'MUON_EFF_TrigSystUncertainty__1up')\n",
      "(0, 'nominal')\n",
      "(1, 'EL_EFF_Reco_TOTAL_1NPCOR_PLUS_UNCOR__1down')\n",
      "(2, 'EL_EFF_Reco_TOTAL_1NPCOR_PLUS_UNCOR__1up')\n",
      "(0, 'nominal')\n",
      "(1, 'EL_EFF_ID_TOTAL_1NPCOR_PLUS_UNCOR__1down')\n",
      "(2, 'EL_EFF_ID_TOTAL_1NPCOR_PLUS_UNCOR__1up')\n",
      "(0, 'nominal')\n",
      "(1, 'EL_EFF_ID_TOTAL_1NPCOR_PLUS_UNCOR__1down')\n",
      "(2, 'EL_EFF_ID_TOTAL_1NPCOR_PLUS_UNCOR__1up')\n",
      "(0, 'nominal')\n",
      "(1, 'EL_EFF_Trigger_TOTAL_1NPCOR_PLUS_UNCOR__1down')\n",
      "(2, 'EL_EFF_Trigger_TOTAL_1NPCOR_PLUS_UNCOR__1up')\n"
     ]
    }
   ],
   "metadata": {
    "scrolled": false
   }
  },
  {
   "cell_type": "code",
   "execution_count": null,
   "source": [],
   "outputs": [],
   "metadata": {}
  },
  {
   "cell_type": "code",
   "execution_count": 2,
   "source": [
    "metadata['systematics']['MuonEfficiencyCorrector_RecoSyst_RecoMedium'].xlabels"
   ],
   "outputs": [
    {
     "output_type": "execute_result",
     "data": {
      "text/plain": [
       "['nominal',\n",
       " 'MUON_EFF_RECO_STAT_LOWPT__1down',\n",
       " 'MUON_EFF_RECO_STAT_LOWPT__1up',\n",
       " 'MUON_EFF_RECO_STAT__1down',\n",
       " 'MUON_EFF_RECO_STAT__1up',\n",
       " 'MUON_EFF_RECO_SYS_LOWPT__1down',\n",
       " 'MUON_EFF_RECO_SYS_LOWPT__1up',\n",
       " 'MUON_EFF_RECO_SYS__1down',\n",
       " 'MUON_EFF_RECO_SYS__1up']"
      ]
     },
     "metadata": {},
     "execution_count": 2
    }
   ],
   "metadata": {}
  },
  {
   "cell_type": "code",
   "execution_count": 3,
   "source": [
    "metadata['systematics']['EleEffCorr_RecoSyst_Reconstruction'].xlabels"
   ],
   "outputs": [
    {
     "output_type": "execute_result",
     "data": {
      "text/plain": [
       "['nominal',\n",
       " 'EL_EFF_Reco_TOTAL_1NPCOR_PLUS_UNCOR__1down',\n",
       " 'EL_EFF_Reco_TOTAL_1NPCOR_PLUS_UNCOR__1up']"
      ]
     },
     "metadata": {},
     "execution_count": 3
    }
   ],
   "metadata": {}
  },
  {
   "cell_type": "code",
   "execution_count": 46,
   "source": [
    "import glob\n",
    "import uproot\n",
    "for f in glob.glob('/data/newhouse/HNL/ntuples/v9p0/*r11915*/submitDir/data-tree/files.root'):\n",
    "    nominal = uproot.open(f)['nominal']\n",
    "    if len(nominal['bcid'].array()) < 9999:\n",
    "        print(f)\n",
    "        print(len(nominal['bcid'].array()))"
   ],
   "outputs": [],
   "metadata": {}
  },
  {
   "cell_type": "code",
   "execution_count": 47,
   "source": [
    "import os\n",
    "for sample_list in glob.glob('/home/newhouse/public/Analysis/HNL/DHNLAlgorithm/run/10_susy15_grid/official_lists/DAOD_EXOT29_mc16*'):\n",
    "# for sample_list in glob.glob('/home/newhouse/public/Analysis/HNL/DHNLAlgorithm/run/18_flashy/retry_list.txt'):\n",
    "    # print(sample_list)\n",
    "    with open(sample_list) as f:\n",
    "        for l in f.readlines():\n",
    "            line = l.strip()\n",
    "            # print('/data/newhouse/HNL/ntuples/v9p0/'+line.replace('deriv.DAOD_EXOT29', 'NTUPLE')+'.v9p0/submitDir/data-tree/files.root')\n",
    "            if not os.path.isfile('/data/newhouse/HNL/ntuples/v9p0/'+line.replace('deriv.DAOD_EXOT29', 'NTUPLE')+'.v9p0/submitDir/data-tree/files.root'):\n",
    "                print('/data/newhouse/HNL/ntuples/v9p0/'+line.replace('deriv.DAOD_EXOT29', 'NTUPLE')+'.v9p0/submitDir/data-tree/files.root')\n"
   ],
   "outputs": [
    {
     "output_type": "stream",
     "name": "stdout",
     "text": [
      "/data/newhouse/HNL/ntuples/v9p0/mc16_13TeV.311644.Pythia8EvtGen_A14NNPDF23LO_WmuHNL50_15G_lt1dd.NTUPLE.e7422_e5984_a875_r11916_r11748_p4482.v9p0/submitDir/data-tree/files.root\n",
      "/data/newhouse/HNL/ntuples/v9p0/mc16_13TeV.313482.Pythia8EvtGen_A14NNPDF23LO_WelHNL50_2p5G_lt1dd_emu.NTUPLE.e8360_e5984_a875_r11916_r11748_p4482.v9p0/submitDir/data-tree/files.root\n"
     ]
    }
   ],
   "metadata": {}
  },
  {
   "cell_type": "code",
   "execution_count": 73,
   "source": [
    "for f in glob.glob('/data/hnl/histograms/v9p2_histograms/*'):\n",
    "    try:\n",
    "        h = uproot.open(f)['nominal']['VSI_LeptonsMod']['CutFlow']['CutFlow']\n",
    "        if 'mc16a' in f:\n",
    "            if h[1] < 9999:\n",
    "                print('low:', h[1], f)\n",
    "        if 'mc16d' in f or 'mc16e' in f:\n",
    "            if h[1] < 19999:\n",
    "            if h[1] < 20000:\n",
    "                print('low:', h[1], f)\n",
    "    except:\n",
    "        print('error:', f)"
   ],
   "outputs": [
    {
     "output_type": "stream",
     "name": "stdout",
     "text": [
      "error: /data/hnl/histograms/v9p2_histograms/histograms_mc16e_uue_2p5G_10mm.root\n",
      "error: /data/hnl/histograms/v9p2_histograms/histograms_mc16e_uue_2p5G_1mm.root\n",
      "error: /data/hnl/histograms/v9p2_histograms/histograms_mc16e_eeu_2p5G_1mm.root\n",
      "error: /data/hnl/histograms/v9p2_histograms/histograms_mc16e_eeu_2p5G_10mm.root\n",
      "error: /data/hnl/histograms/v9p2_histograms/histograms_mc16e_uue_2p5G_100mm.root\n",
      "error: /data/hnl/histograms/v9p2_histograms/histograms_mc16e_eeu_2p5G_100mm.root\n",
      "error: /data/hnl/histograms/v9p2_histograms/histograms_mc16d_uue_2p5G_1mm.root\n",
      "error: /data/hnl/histograms/v9p2_histograms/histograms_mc16d_uue_2p5G_10mm.root\n",
      "error: /data/hnl/histograms/v9p2_histograms/histograms_mc16d_uue_2p5G_100mm.root\n",
      "error: /data/hnl/histograms/v9p2_histograms/histograms_mc16a_uue_2p5G_10mm.root\n",
      "error: /data/hnl/histograms/v9p2_histograms/histograms_mc16a_uue_2p5G_1mm.root\n",
      "error: /data/hnl/histograms/v9p2_histograms/histograms_mc16a_eeu_2p5G_10mm.root\n",
      "error: /data/hnl/histograms/v9p2_histograms/histograms_mc16a_eeu_2p5G_1mm.root\n",
      "error: /data/hnl/histograms/v9p2_histograms/histograms_mc16a_uue_2p5G_100mm.root\n",
      "error: /data/hnl/histograms/v9p2_histograms/histograms_mc16a_eeu_2p5G_100mm.root\n"
     ]
    }
   ],
   "metadata": {}
  },
  {
   "cell_type": "code",
   "execution_count": 26,
   "source": [
    "import uproot\n",
    "import numpy as np\n",
    "import matplotlib.pyplot as plt\n",
    "\n",
    "nominal = uproot.open('/data/newhouse/HNL/ntuples/v9p0/mc16_13TeV.313460.Pythia8EvtGen_A14NNPDF23LO_WelHNL50_12p5G_lt100dd.NTUPLE.e8360_e5984_a875_r11916_r11748_p4482.v9p0/submitDir/data-tree/files.root')['nominal']\n",
    "df = nominal.pandas.df(['muon_RecoEff_SF_RecoMedium', 'muon_pt'], entrystop=1000)\n",
    "import pandas as pd\n",
    "\n",
    "# 'nominal', 0\n",
    "# 'MUON_EFF_RECO_STAT_LOWPT__1down', 1\n",
    "# 'MUON_EFF_RECO_STAT_LOWPT__1up', 2\n",
    "# 'MUON_EFF_RECO_STAT__1down', 3 \n",
    "# 'MUON_EFF_RECO_STAT__1up', 4\n",
    "# 'MUON_EFF_RECO_SYS_LOWPT__1down', 5\n",
    "# 'MUON_EFF_RECO_SYS_LOWPT__1up', 6\n",
    "# 'MUON_EFF_RECO_SYS__1down', 7\n",
    "# 'MUON_EFF_RECO_SYS__1up' 8\n",
    "\n",
    "muon_RecoEff_SF_RecoMedium_flat = []\n",
    "muon_pt_flat = []\n",
    "\n",
    "muon_RecoEff_SF_RecoMedium = nominal['muon_RecoEff_SF_RecoMedium'].array()[0:1000]\n",
    "muon_pt = nominal['muon_pt'].array()[0:len(muon_RecoEff_SF_RecoMedium)]\n",
    "\n",
    "for i in range(len(muon_pt)):\n",
    "    for j in range(len(muon_pt[i])):\n",
    "        muon_pt_flat.append(muon_pt[i][j])\n",
    "        muon_RecoEff_SF_RecoMedium_flat.append(muon_RecoEff_SF_RecoMedium[i][j][6] - muon_RecoEff_SF_RecoMedium[i][j][0])\n",
    "df = pd.DataFrame()\n",
    "df['muon_pt'] = muon_pt_flat\n",
    "df['muon_RecoEff_SF_RecoMedium'] = muon_RecoEff_SF_RecoMedium_flat\n",
    "# muon_pt_flat\n"
   ],
   "outputs": [
    {
     "output_type": "stream",
     "name": "stderr",
     "text": [
      "/home/newhouse/miniconda3/lib/python3.7/site-packages/awkward/array/base.py:394: VisibleDeprecationWarning: Creating an ndarray from ragged nested sequences (which is a list-or-tuple of lists-or-tuples-or ndarrays with different lengths or shapes) is deprecated. If you meant to do this, you must specify 'dtype=object' when creating the ndarray.\n",
      "  return cls.numpy.array(value, copy=False)\n"
     ]
    }
   ],
   "metadata": {}
  },
  {
   "cell_type": "code",
   "execution_count": 27,
   "source": [
    "import matplotlib.pyplot as plt\n",
    "import seaborn as sns\n",
    "ymin = -.2\n",
    "ymax = .2\n",
    "ax = sns.histplot(x=df['muon_pt'], y=df['muon_RecoEff_SF_RecoMedium'], bins=[np.logspace(0,4,30),np.linspace(ymin,ymax,30)], cbar=True) # \n",
    "ax.set_xscale('log')\n",
    "ax.set_ylim([ymin,ymax])\n",
    "plt.show()"
   ],
   "outputs": [
    {
     "output_type": "display_data",
     "data": {
      "image/png": "[encoded data removed]",
      "text/plain": [
       "<Figure size 640x480 with 2 Axes>"
      ]
     },
     "metadata": {}
    }
   ],
   "metadata": {}
  },
  {
   "cell_type": "code",
   "execution_count": 67,
   "source": [
    "df[df['muon_RecoEff_SF_RecoMedium_flat'] < 0 ]"
   ],
   "outputs": [
    {
     "output_type": "execute_result",
     "data": {
      "text/html": [
       "<div>\n",
       "<style scoped>\n",
       "    .dataframe tbody tr th:only-of-type {\n",
       "        vertical-align: middle;\n",
       "    }\n",
       "\n",
       "    .dataframe tbody tr th {\n",
       "        vertical-align: top;\n",
       "    }\n",
       "\n",
       "    .dataframe thead th {\n",
       "        text-align: right;\n",
       "    }\n",
       "</style>\n",
       "<table border=\"1\" class=\"dataframe\">\n",
       "  <thead>\n",
       "    <tr style=\"text-align: right;\">\n",
       "      <th></th>\n",
       "      <th>muon_pt</th>\n",
       "      <th>muon_RecoEff_SF_RecoMedium_flat</th>\n",
       "    </tr>\n",
       "  </thead>\n",
       "  <tbody>\n",
       "    <tr>\n",
       "      <th>8</th>\n",
       "      <td>2.261226</td>\n",
       "      <td>-1.0</td>\n",
       "    </tr>\n",
       "    <tr>\n",
       "      <th>27</th>\n",
       "      <td>2.298413</td>\n",
       "      <td>-1.0</td>\n",
       "    </tr>\n",
       "    <tr>\n",
       "      <th>28</th>\n",
       "      <td>2.147202</td>\n",
       "      <td>-1.0</td>\n",
       "    </tr>\n",
       "    <tr>\n",
       "      <th>41</th>\n",
       "      <td>18.726950</td>\n",
       "      <td>-1.0</td>\n",
       "    </tr>\n",
       "    <tr>\n",
       "      <th>45</th>\n",
       "      <td>2.814243</td>\n",
       "      <td>-1.0</td>\n",
       "    </tr>\n",
       "    <tr>\n",
       "      <th>46</th>\n",
       "      <td>2.528973</td>\n",
       "      <td>-1.0</td>\n",
       "    </tr>\n",
       "    <tr>\n",
       "      <th>47</th>\n",
       "      <td>2.463628</td>\n",
       "      <td>-1.0</td>\n",
       "    </tr>\n",
       "    <tr>\n",
       "      <th>48</th>\n",
       "      <td>2.272499</td>\n",
       "      <td>-1.0</td>\n",
       "    </tr>\n",
       "    <tr>\n",
       "      <th>49</th>\n",
       "      <td>2.019602</td>\n",
       "      <td>-1.0</td>\n",
       "    </tr>\n",
       "  </tbody>\n",
       "</table>\n",
       "</div>"
      ],
      "text/plain": [
       "      muon_pt  muon_RecoEff_SF_RecoMedium_flat\n",
       "8    2.261226                             -1.0\n",
       "27   2.298413                             -1.0\n",
       "28   2.147202                             -1.0\n",
       "41  18.726950                             -1.0\n",
       "45   2.814243                             -1.0\n",
       "46   2.528973                             -1.0\n",
       "47   2.463628                             -1.0\n",
       "48   2.272499                             -1.0\n",
       "49   2.019602                             -1.0"
      ]
     },
     "metadata": {},
     "execution_count": 67
    }
   ],
   "metadata": {}
  },
  {
   "cell_type": "code",
   "execution_count": 118,
   "source": [
    "plt.hist(nominal['muon_eta'].array()[0:100].flatten(), bins=50);\n",
    "plt.show()"
   ],
   "outputs": [
    {
     "output_type": "display_data",
     "data": {
      "image/png": "[encoded data removed]",
      "text/plain": [
       "<Figure size 640x480 with 1 Axes>"
      ]
     },
     "metadata": {}
    }
   ],
   "metadata": {}
  },
  {
   "cell_type": "code",
   "execution_count": 131,
   "source": [
    "\n",
    "uproot.open('/data/newhouse/HNL/ntuples/v9p0/mc16_13TeV.313460.Pythia8EvtGen_A14NNPDF23LO_WelHNL50_12p5G_lt100dd.NTUPLE.e8360_e5984_a875_r11916_r11748_p4482.v9p0/submitDir/data-metadata/files.root')['systematics']['MuonEfficiencyCorrector_RecoSyst_RecoMedium'].xlabels\n"
   ],
   "outputs": [
    {
     "output_type": "execute_result",
     "data": {
      "text/plain": [
       "['nominal',\n",
       " 'MUON_EFF_RECO_STAT_LOWPT__1down',\n",
       " 'MUON_EFF_RECO_STAT_LOWPT__1up',\n",
       " 'MUON_EFF_RECO_STAT__1down',\n",
       " 'MUON_EFF_RECO_STAT__1up',\n",
       " 'MUON_EFF_RECO_SYS_LOWPT__1down',\n",
       " 'MUON_EFF_RECO_SYS_LOWPT__1up',\n",
       " 'MUON_EFF_RECO_SYS__1down',\n",
       " 'MUON_EFF_RECO_SYS__1up']"
      ]
     },
     "metadata": {},
     "execution_count": 131
    }
   ],
   "metadata": {}
  },
  {
   "cell_type": "code",
   "execution_count": 7,
   "source": [
    "import uproot\n",
    "import numpy as np\n",
    "import matplotlib.pyplot as plt\n",
    "import seaborn as sns\n",
    "\n",
    "nominal = uproot.open('/data/newhouse/HNL/ntuples/v9p0/mc16_13TeV.313460.Pythia8EvtGen_A14NNPDF23LO_WelHNL50_12p5G_lt100dd.NTUPLE.e8360_e5984_a875_r11916_r11748_p4482.v9p0/submitDir/data-tree/files.root')['nominal']\n",
    "df = nominal.pandas.df(['muon_RecoEff_SF_RecoMedium', 'muon_pt'], entrystop=1000)\n",
    "import pandas as pd\n",
    "\n",
    "# 'nominal', 0\n",
    "# 'MUON_EFF_RECO_STAT_LOWPT__1down', 1\n",
    "# 'MUON_EFF_RECO_STAT_LOWPT__1up', 2\n",
    "# 'MUON_EFF_RECO_STAT__1down', 3 \n",
    "# 'MUON_EFF_RECO_STAT__1up', 4\n",
    "# 'MUON_EFF_RECO_SYS_LOWPT__1down', 5\n",
    "# 'MUON_EFF_RECO_SYS_LOWPT__1up', 6\n",
    "# 'MUON_EFF_RECO_SYS__1down', 7\n",
    "# 'MUON_EFF_RECO_SYS__1up' 8\n",
    "\n",
    "muon_RecoEff_SF_RecoMedium_down = []\n",
    "muon_RecoEff_SF_RecoMedium_up = []\n",
    "muon_pt_flat = []\n",
    "\n",
    "muon_RecoEff_SF_RecoMedium = nominal['muon_RecoEff_SF_RecoMedium'].array()[0:100]\n",
    "muon_pt = nominal['muon_pt'].array()[0:len(muon_RecoEff_SF_RecoMedium)]\n",
    "\n",
    "for i in range(len(muon_pt)):\n",
    "    for j in range(len(muon_pt[i])):\n",
    "        muon_pt_flat.append(muon_pt[i][j])\n",
    "        muon_RecoEff_SF_RecoMedium_down.append(muon_RecoEff_SF_RecoMedium[i][j][5] - muon_RecoEff_SF_RecoMedium[i][j][0])\n",
    "        muon_RecoEff_SF_RecoMedium_up.append(muon_RecoEff_SF_RecoMedium[i][j][6] - muon_RecoEff_SF_RecoMedium[i][j][0])\n",
    "df = pd.DataFrame()\n",
    "df['muon_pt'] = muon_pt_flat\n",
    "df['muon_RecoEff_SF_RecoMedium_down'] = muon_RecoEff_SF_RecoMedium_down\n",
    "df['muon_RecoEff_SF_RecoMedium_up'] = muon_RecoEff_SF_RecoMedium_up\n",
    "# muon_pt_flat\n",
    "\n",
    "\n",
    "ymin = -.2\n",
    "ymax = .2\n",
    "down = sns.histplot(x=df['muon_pt'], y=df['muon_RecoEff_SF_RecoMedium_down'], bins=[np.logspace(0,4,50),np.linspace(ymin,ymax,30)], cbar=False, label='down-nominal') # \n",
    "up = sns.histplot(x=df['muon_pt'], y=df['muon_RecoEff_SF_RecoMedium_up'], bins=[np.logspace(0,4,50),np.linspace(ymin,ymax,30)], color='red', cbar=False, label='up-nominal') # \n",
    "plt.set_xscale('log')\n",
    "plt.set_ylabel('systematic variation')\n",
    "line = plt.vlines([15], ymin, ymax)\n",
    "plt.set_ylim([ymin,ymax])\n",
    "plt.legend(['a','b','a'])\n",
    "plt.show()"
   ],
   "outputs": [
    {
     "output_type": "stream",
     "name": "stderr",
     "text": [
      "/home/newhouse/miniconda3/lib/python3.7/site-packages/awkward/array/base.py:394: VisibleDeprecationWarning: Creating an ndarray from ragged nested sequences (which is a list-or-tuple of lists-or-tuples-or ndarrays with different lengths or shapes) is deprecated. If you meant to do this, you must specify 'dtype=object' when creating the ndarray.\n",
      "  return cls.numpy.array(value, copy=False)\n"
     ]
    },
    {
     "output_type": "display_data",
     "data": {
      "image/png": "[encoded data removed]",
      "text/plain": [
       "<Figure size 640x480 with 1 Axes>"
      ]
     },
     "metadata": {}
    }
   ],
   "metadata": {}
  },
  {
   "cell_type": "code",
   "execution_count": 62,
   "source": [
    "df[abs(df['muon_pt'])>15].muon_RecoEff_SF_RecoMedium_down.std()\n"
   ],
   "outputs": [
    {
     "output_type": "execute_result",
     "data": {
      "text/plain": [
       "0.0"
      ]
     },
     "metadata": {},
     "execution_count": 62
    }
   ],
   "metadata": {}
  },
  {
   "cell_type": "code",
   "execution_count": null,
   "source": [],
   "outputs": [],
   "metadata": {}
  },
  {
   "cell_type": "code",
   "execution_count": null,
   "source": [],
   "outputs": [],
   "metadata": {}
  },
  {
   "cell_type": "code",
   "execution_count": null,
   "source": [],
   "outputs": [],
   "metadata": {}
  }
 ],
 "metadata": {
  "interpreter": {
   "hash": "2bd8a6aee1135029be5a191617e7d3f148d064ac39998b0aa8fd711311cd18dd"
  },
  "kernelspec": {
   "name": "python3",
   "display_name": "Python 3.7.9 64-bit ('base': conda)"
  },
  "language_info": {
   "codemirror_mode": {
    "name": "ipython",
    "version": 3
   },
   "file_extension": ".py",
   "mimetype": "text/x-python",
   "name": "python",
   "nbconvert_exporter": "python",
   "pygments_lexer": "ipython3",
   "version": "3.7.9"
  }
 },
 "nbformat": 4,
 "nbformat_minor": 2
}